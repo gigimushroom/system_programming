{
 "cells": [
  {
   "cell_type": "markdown",
   "metadata": {},
   "source": [
    "# Support cases\n",
    "\n",
    "`((2+3)*5)`\n",
    "\n",
    "`(3+(10/2))`"
   ]
  },
  {
   "cell_type": "code",
   "execution_count": 31,
   "metadata": {},
   "outputs": [
    {
     "name": "stdout",
     "output_type": "stream",
     "text": [
      "10\n",
      "18\n",
      "4\n"
     ]
    }
   ],
   "source": [
    "symbols = ['+', '-', '*', '/']\n",
    "\n",
    "\n",
    "def tokenizer(str):\n",
    "    tokens = []\n",
    "    rhs = ''\n",
    "    for i in range(len(str)):\n",
    "        if str[i] == '(' or str[i] == ')' or str[i] in symbols:\n",
    "            # We got left hand side, save it.\n",
    "            if rhs:\n",
    "                tokens.append(rhs)\n",
    "                rhs = ''\n",
    "            tokens.append(str[i])\n",
    "            \n",
    "        else:\n",
    "            rhs += str[i]\n",
    "            \n",
    "    return tokens\n",
    "\n",
    "def calc(tokens):\n",
    "    lhs = tokens[0]\n",
    "    sym = tokens[1]\n",
    "    rhs = tokens[2]\n",
    "    if sym == '+':\n",
    "        return int(lhs) + int(rhs)\n",
    "    elif sym == '-':\n",
    "        return int(lhs) - int(rhs)\n",
    "    elif sym == '*':\n",
    "        return int(lhs) * int(rhs)\n",
    "    elif sym == '/':\n",
    "        return int(lhs) / int(rhs)\n",
    "    \n",
    "    return None\n",
    "\n",
    "def eval(tokens):\n",
    "    if len(tokens) == 1:\n",
    "        return tokens[0]\n",
    "    \n",
    "    return parser(tokens)\n",
    "\n",
    "def parser(tokens):\n",
    "    # Trim ().\n",
    "    tokens = tokens[1:-1]\n",
    "    \n",
    "    paren_start = False\n",
    "    for i, t in enumerate(tokens):\n",
    "        if t == '(':\n",
    "            paren_start = True\n",
    "            \n",
    "        elif t == ')':\n",
    "            paren_start = False\n",
    "            # We got LHS in (xxx), next symbol is +/-/*//, add these as tokens\n",
    "            symbol = tokens[i+1]\n",
    "            lhs = eval(tokens[:i+1])\n",
    "            rhs = eval(tokens[i+2:])\n",
    "            #print(lhs, symbol, rhs)\n",
    "            tks = [lhs, symbol, rhs]\n",
    "            return calc(tks)\n",
    "            \n",
    "        elif t in symbols and not paren_start:\n",
    "            symbol = t\n",
    "            lhs = eval(tokens[:i])\n",
    "            rhs = eval(tokens[i+1:])\n",
    "            tks = [lhs, symbol, rhs]\n",
    "            return calc(tks)\n",
    "            \n",
    "    return None\n",
    "            \n",
    "print(parser(tokenizer('((2+3)+5)')))\n",
    "print(parser(tokenizer('(3*(2+4))')))\n",
    "\n",
    "print(parser(tokenizer('((88-86)*(4/2))')))\n",
    "        "
   ]
  },
  {
   "cell_type": "code",
   "execution_count": null,
   "metadata": {},
   "outputs": [],
   "source": []
  }
 ],
 "metadata": {
  "kernelspec": {
   "display_name": "Python 3",
   "language": "python",
   "name": "python3"
  },
  "language_info": {
   "codemirror_mode": {
    "name": "ipython",
    "version": 3
   },
   "file_extension": ".py",
   "mimetype": "text/x-python",
   "name": "python",
   "nbconvert_exporter": "python",
   "pygments_lexer": "ipython3",
   "version": "3.8.5"
  }
 },
 "nbformat": 4,
 "nbformat_minor": 2
}
