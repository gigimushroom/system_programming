{
 "cells": [
  {
   "cell_type": "markdown",
   "metadata": {},
   "source": [
    "- Any live cell with two or three live neighbors lives on to the next generation.\n",
    "- Any empty cell with exactly three live neighbors becomes a live cell in the next generation.\n",
    "- All other cells are empty in the next generation.\n",
    "\n",
    "https://github.com/norvig/pytudes/blob/master/ipynb/Life.ipynb"
   ]
  },
  {
   "cell_type": "markdown",
   "metadata": {},
   "source": [
    "### TODOs\n",
    "1. Add delay in each iteration\n",
    "2. Clean up content each round\n",
    "3. Add patterns"
   ]
  },
  {
   "cell_type": "code",
   "execution_count": 20,
   "metadata": {},
   "outputs": [
    {
     "name": "stdout",
     "output_type": "stream",
     "text": [
      ". . . . . . . . . .\n",
      ". . . . . . . . . .\n",
      ". . . . . . . . . .\n",
      ". . . . . . . . . .\n",
      ". . . @ . . . . . .\n",
      ". . . @ . . . . . .\n",
      ". . . @ . . . . . .\n",
      ". . . . . . . . . .\n",
      ". . . . . . . . . .\n",
      ". . . . . . . . . .\n",
      "------------------\n",
      ". . . . . . . . . .\n",
      ". . . . . . . . . .\n",
      ". . . . . . . . . .\n",
      ". . . . . . . . . .\n",
      ". . . . . . . . . .\n",
      ". . @ @ @ . . . . .\n",
      ". . . . . . . . . .\n",
      ". . . . . . . . . .\n",
      ". . . . . . . . . .\n",
      ". . . . . . . . . .\n",
      "------------------\n",
      ". . . . . . . . . .\n",
      ". . . . . . . . . .\n",
      ". . . . . . . . . .\n",
      ". . . . . . . . . .\n",
      ". . . @ . . . . . .\n",
      ". . . @ . . . . . .\n",
      ". . . @ . . . . . .\n",
      ". . . . . . . . . .\n",
      ". . . . . . . . . .\n",
      ". . . . . . . . . .\n",
      "------------------\n",
      ". . . . . . . . . .\n",
      ". . . . . . . . . .\n",
      ". . . . . . . . . .\n",
      ". . . . . . . . . .\n",
      ". . . . . . . . . .\n",
      ". . @ @ @ . . . . .\n",
      ". . . . . . . . . .\n",
      ". . . . . . . . . .\n",
      ". . . . . . . . . .\n",
      ". . . . . . . . . .\n",
      "------------------\n",
      ". . . . . . . . . .\n",
      ". . . . . . . . . .\n",
      ". . . . . . . . . .\n",
      ". . . . . . . . . .\n",
      ". . . @ . . . . . .\n",
      ". . . @ . . . . . .\n",
      ". . . @ . . . . . .\n",
      ". . . . . . . . . .\n",
      ". . . . . . . . . .\n",
      ". . . . . . . . . .\n",
      "------------------\n"
     ]
    }
   ],
   "source": [
    "import time\n",
    "from IPython.display import clear_output, display_html\n",
    "\n",
    "LIVE  = '@'\n",
    "EMPTY = '.'\n",
    "PAD   = ' '\n",
    "\n",
    "HEIGHT = 10\n",
    "LENGTH = 10\n",
    "\n",
    "def neighbors(cell):\n",
    "    \"All 8 adjacent neighbors of cell.\"\n",
    "    (x, y) = cell\n",
    "    return [(x-1, y-1), (x, y-1), (x+1, y-1), \n",
    "            (x-1, y),             (x+1, y), \n",
    "            (x-1, y+1), (x, y+1), (x+1, y+1)]\n",
    "\n",
    "def count_lives(cell, world):\n",
    "    nbs = neighbors(cell)\n",
    "    l = [n for n in nbs if n in set(world)]\n",
    "    return len(l)\n",
    "\n",
    "def find_empty_cells(world):\n",
    "    cells = [(x, y) for x in range(HEIGHT) for y in range(LENGTH)]\n",
    "    #print(len(cells))\n",
    "    empty_cells = [c for c in cells if c not in set(world)]\n",
    "    #print(len(empty_cells))\n",
    "    return empty_cells\n",
    "\n",
    "def find_new_lives(empty_cells, world):\n",
    "    lives = [c for c in empty_cells if count_lives(c, world) == 3]\n",
    "    return lives\n",
    "    \n",
    "\n",
    "def display(world):\n",
    "    xs = range(HEIGHT)\n",
    "    ys = range(LENGTH)\n",
    "    board = []\n",
    "    for y in ys:\n",
    "        row = PAD.join([LIVE if (x, y) in world else EMPTY for x in xs])\n",
    "        board.append(row)\n",
    "\n",
    "    board = '\\n'.join(board)\n",
    "    return board\n",
    "\n",
    "def next_gen(world):\n",
    "    new_world = []\n",
    "    for cell in world:\n",
    "        c = count_lives(cell, world)\n",
    "        if c == 3 or c == 2:\n",
    "            new_world.append(cell)\n",
    "        \n",
    "    empty_cells = find_empty_cells(world)\n",
    "    lives = find_new_lives(empty_cells, world)\n",
    "    new_world.extend(lives)\n",
    "    \n",
    "    return new_world\n",
    "\n",
    "\n",
    "world1 = [(1, 1), (2, 2), (3, 3), (2, 3)]\n",
    "world = [ (3, 4), (3, 5), (3, 6)]\n",
    "\n",
    "for _ in range(5):\n",
    "    print(display(world))\n",
    "    print('------------------')\n",
    "    world = next_gen(world)\n",
    "    \n",
    "\n",
    "    "
   ]
  },
  {
   "cell_type": "code",
   "execution_count": null,
   "metadata": {},
   "outputs": [],
   "source": []
  },
  {
   "cell_type": "code",
   "execution_count": 21,
   "metadata": {},
   "outputs": [
    {
     "name": "stdout",
     "output_type": "stream",
     "text": [
      ". . . . .\n",
      ". . . . .\n",
      ". . . . .\n",
      ". . . . .\n",
      ". . . . .\n"
     ]
    }
   ],
   "source": [
    "# Quick map\n",
    "xs=5\n",
    "ys=5\n",
    "for x in range(xs):\n",
    "    l = ['.' for y in range(ys)]\n",
    "    print(' '.join(l))"
   ]
  },
  {
   "cell_type": "code",
   "execution_count": null,
   "metadata": {},
   "outputs": [],
   "source": []
  }
 ],
 "metadata": {
  "kernelspec": {
   "display_name": "Python 3",
   "language": "python",
   "name": "python3"
  },
  "language_info": {
   "codemirror_mode": {
    "name": "ipython",
    "version": 3
   },
   "file_extension": ".py",
   "mimetype": "text/x-python",
   "name": "python",
   "nbconvert_exporter": "python",
   "pygments_lexer": "ipython3",
   "version": "3.8.5"
  }
 },
 "nbformat": 4,
 "nbformat_minor": 2
}
