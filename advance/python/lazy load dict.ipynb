{
 "cells": [
  {
   "cell_type": "code",
   "execution_count": 16,
   "metadata": {},
   "outputs": [
    {
     "name": "stdout",
     "output_type": "stream",
     "text": [
      "6666\n"
     ]
    },
    {
     "data": {
      "text/plain": [
       "4"
      ]
     },
     "execution_count": 16,
     "metadata": {},
     "output_type": "execute_result"
    }
   ],
   "source": [
    "class myDict(dict):\n",
    "    def __init__(self):\n",
    "        super(myDict, self).__init__()\n",
    "        \n",
    "    def __getattribute__(self, name):\n",
    "        print(6666)\n",
    "        return super(myDict, self).__getattribute__(name)\n",
    "    \n",
    "x = myDict()\n",
    "x[3] = 4\n",
    "\n",
    "# The get() method returns the value of the item with the specified key.\n",
    "# Trigger __getattribute__\n",
    "x.get(3)"
   ]
  },
  {
   "cell_type": "code",
   "execution_count": 54,
   "metadata": {},
   "outputs": [
    {
     "name": "stdout",
     "output_type": "stream",
     "text": [
      "1\n"
     ]
    }
   ],
   "source": [
    "def generate_heavy_data():\n",
    "    return {'a': 1, 'b': 2}\n",
    "\n",
    "\n",
    "class lazyLoad(dict):\n",
    "    def __init__(self, fn):\n",
    "        self._fn = fn\n",
    "        super(lazyLoad, self).__init__()\n",
    "        \n",
    "    \n",
    "    def __getattribute__(self, name):\n",
    "        if not name.startswith('_fn'):\n",
    "            if self._fn:\n",
    "                d = self._fn()\n",
    "                for k,v in d.items():\n",
    "                    self[k]=v\n",
    "                self._fn = None\n",
    "        \n",
    "        return super(lazyLoad, self).__getattribute__(name)\n",
    "    \n",
    "heavy_dict = lazyLoad(generate_heavy_data)\n",
    "\n",
    "assert(len(heavy_dict) == 0)\n",
    "print(heavy_dict.get('a'))\n",
    "assert(len(heavy_dict) == 2)\n",
    "\n",
    "# TODOs:\n",
    "# impl __getitem__\n",
    "# __len__\n",
    "# __iter__"
   ]
  },
  {
   "cell_type": "code",
   "execution_count": 36,
   "metadata": {},
   "outputs": [
    {
     "name": "stdout",
     "output_type": "stream",
     "text": [
      "([1, 33],)\n",
      "(1, 33)\n"
     ]
    }
   ],
   "source": [
    "a = [1, 33]\n",
    "def b(*args):\n",
    "    print(args)\n",
    "    \n",
    "b(a)\n",
    "b(*a)"
   ]
  },
  {
   "cell_type": "code",
   "execution_count": null,
   "metadata": {},
   "outputs": [],
   "source": []
  }
 ],
 "metadata": {
  "kernelspec": {
   "display_name": "Python 3",
   "language": "python",
   "name": "python3"
  },
  "language_info": {
   "codemirror_mode": {
    "name": "ipython",
    "version": 3
   },
   "file_extension": ".py",
   "mimetype": "text/x-python",
   "name": "python",
   "nbconvert_exporter": "python",
   "pygments_lexer": "ipython3",
   "version": "3.7.5"
  }
 },
 "nbformat": 4,
 "nbformat_minor": 2
}
