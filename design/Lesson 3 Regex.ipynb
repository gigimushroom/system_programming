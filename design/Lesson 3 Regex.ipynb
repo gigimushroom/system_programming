{
 "cells": [
  {
   "cell_type": "markdown",
   "metadata": {},
   "source": [
    "## Regex Review"
   ]
  },
  {
   "cell_type": "markdown",
   "metadata": {},
   "source": [
    "re.search\n",
    "\n",
    "re.findall\n",
    "\n",
    "re.split"
   ]
  },
  {
   "cell_type": "markdown",
   "metadata": {},
   "source": [
    "![regex symbol](img/regex_sym.png \"regex\")"
   ]
  },
  {
   "cell_type": "markdown",
   "metadata": {},
   "source": [
    "![regex](img/regex2.png \"\")"
   ]
  },
  {
   "cell_type": "code",
   "execution_count": 1,
   "metadata": {},
   "outputs": [],
   "source": [
    "def search(pattern, text):\n",
    "    \"\"\"Return true if pattern appears anywhere in text\n",
    "\t   Please fill in the match(          , text) below.\n",
    "\t   For example, match(your_code_here, text)\"\"\"\n",
    "    if pattern.startswith('^'):\n",
    "        return match(pattern[1:], text) # fill this line\n",
    "    else:\n",
    "        return match('.*'+pattern, text) # fill this line"
   ]
  },
  {
   "cell_type": "markdown",
   "metadata": {},
   "source": [
    "## How to insert img to jupyter\n",
    "`![alt text](imagename.png \"Title\")`"
   ]
  },
  {
   "cell_type": "markdown",
   "metadata": {},
   "source": [
    "## regex $"
   ]
  },
  {
   "cell_type": "code",
   "execution_count": 5,
   "metadata": {},
   "outputs": [
    {
     "name": "stdout",
     "output_type": "stream",
     "text": [
      "Yes, the string ends with ''\n",
      "Yes, the string ends with 'words'\n"
     ]
    }
   ],
   "source": [
    "import re\n",
    "\n",
    "txt = \"\"\n",
    "\n",
    "#Check if the string ends with '':\n",
    "\n",
    "x = re.match(\"$\", txt)\n",
    "if (x):\n",
    "  print(\"Yes, the string ends with ''\")\n",
    "else:\n",
    "  print(\"No match\")\n",
    "\n",
    "txt = \"words\"\n",
    "\n",
    "\n",
    "#Check if the string ends with 'words':\n",
    "x = re.match(\"words$\", txt)\n",
    "if (x):\n",
    "  print(\"Yes, the string ends with 'words'\")\n",
    "else:\n",
    "  print(\"No match\")"
   ]
  },
  {
   "cell_type": "markdown",
   "metadata": {},
   "source": [
    "If the pattern is `$` only, means ends with '', we found match if input is empty string."
   ]
  },
  {
   "cell_type": "markdown",
   "metadata": {},
   "source": [
    "# Full regular expression matcher impl"
   ]
  },
  {
   "cell_type": "code",
   "execution_count": 15,
   "metadata": {},
   "outputs": [
    {
     "name": "stdout",
     "output_type": "stream",
     "text": [
      "Test Passed.\n"
     ]
    }
   ],
   "source": [
    "def search(pattern, text):\n",
    "    \"\"\"Return true if pattern appears anywhere in text\n",
    "\t   Please fill in the match(          , text) below.\n",
    "\t   For example, match(your_code_here, text)\"\"\"\n",
    "    if pattern.startswith('^'):\n",
    "        return match(pattern[1:], text) # fill this line\n",
    "    else:\n",
    "        return match('.*'+pattern, text) # fill this line\n",
    "    \n",
    "def match(pattern, text):\n",
    "    \"\"\"\n",
    "    Return True if pattern appears at the start of text\n",
    "    \n",
    "    Please fill in the last line in this program.\n",
    "    Namely: match( , )\n",
    "\n",
    "    We'll explain how we came to the code for the condition:\n",
    "    elif len(pattern) > 1 and pattern[1] in '*?' in the next video lecture\n",
    "    \"\"\"\n",
    "\n",
    "    if pattern == '':\n",
    "        return True\n",
    "    elif pattern == '$':\n",
    "        return (text == '')\n",
    "    elif len(pattern) > 1 and pattern[1] in '*?':\n",
    "        p, op, pat = pattern[0], pattern[1], pattern[2:]\n",
    "        if op == '*':\n",
    "            return match_star(p, pat, text)\n",
    "        elif op == '?':\n",
    "            if match1(p, text) and match(pat, text[1:]):\n",
    "                return True\n",
    "            else:\n",
    "                return match(pat, text)\n",
    "    else:\n",
    "        return (match1(pattern[0], text) and\n",
    "                match(pattern[1:], text[1:])) # fill in this line\n",
    "    \n",
    "def match1(pattern, text):\n",
    "    # '.' matches anything, so we need to consider it. Otherwise, check 1st char.\n",
    "    if not text:\n",
    "        return False\n",
    "    return pattern == '.' or pattern == text[0]\n",
    "\n",
    "def match_star(p, pattern, text):\n",
    "    return (match1(p, text) and match_star(p, pattern, text[1:])) or match(pattern, text)\n",
    "\n",
    "def test():\n",
    "    assert(search('baa*!', 'Sheep said baaaa!'))\n",
    "    assert(search('def$', 'abcdef'))\n",
    "    assert(search('x?', 'text'))\n",
    "    assert(search('text?', 'text'))\n",
    "    print 'Test Passed.'\n",
    "    \n",
    "test()"
   ]
  },
  {
   "cell_type": "markdown",
   "metadata": {},
   "source": [
    "![all tests](img/all_tests_cases.png \"tests\")"
   ]
  },
  {
   "cell_type": "markdown",
   "metadata": {},
   "source": [
    "https://www.cs.princeton.edu/courses/archive/spr09/cos333/beautiful.html"
   ]
  },
  {
   "cell_type": "markdown",
   "metadata": {},
   "source": [
    "```\n",
    "    c    matches any literal character c\n",
    "    .    matches any single character\n",
    "    ^    matches the beginning of the input string\n",
    "    $    matches the end of the input string\n",
    "    *    matches zero or more occurrences of the previous character\n",
    "```"
   ]
  },
  {
   "cell_type": "markdown",
   "metadata": {},
   "source": [
    "```c\n",
    "    /* match: search for regexp anywhere in text */\n",
    "    int match(char *regexp, char *text)\n",
    "    {\n",
    "        if (regexp[0] == '^')\n",
    "            return matchhere(regexp+1, text);\n",
    "        do {    /* must look even if string is empty */\n",
    "            if (matchhere(regexp, text))\n",
    "                return 1;\n",
    "        } while (*text++ != '\\0');\n",
    "        return 0;\n",
    "    }\n",
    "\n",
    "    /* matchhere: search for regexp at beginning of text */\n",
    "    int matchhere(char *regexp, char *text)\n",
    "    {\n",
    "        if (regexp[0] == '\\0')\n",
    "            return 1;\n",
    "        if (regexp[1] == '*')\n",
    "            return matchstar(regexp[0], regexp+2, text);\n",
    "        if (regexp[0] == '$' && regexp[1] == '\\0')\n",
    "            return *text == '\\0';\n",
    "        if (*text!='\\0' && (regexp[0]=='.' || regexp[0]==*text))\n",
    "            return matchhere(regexp+1, text+1);\n",
    "        return 0;\n",
    "    }\n",
    "\n",
    "    /* matchstar: search for c*regexp at beginning of text */\n",
    "    int matchstar(int c, char *regexp, char *text)\n",
    "    {\n",
    "        do {    /* a * matches zero or more instances */\n",
    "            if (matchhere(regexp, text))\n",
    "                return 1;\n",
    "        } while (*text != '\\0' && (*text++ == c || c == '.'));\n",
    "        return 0;\n",
    "    }\n",
    " ```"
   ]
  },
  {
   "cell_type": "code",
   "execution_count": null,
   "metadata": {},
   "outputs": [],
   "source": []
  }
 ],
 "metadata": {
  "kernelspec": {
   "display_name": "Python 2",
   "language": "python",
   "name": "python2"
  },
  "language_info": {
   "codemirror_mode": {
    "name": "ipython",
    "version": 2
   },
   "file_extension": ".py",
   "mimetype": "text/x-python",
   "name": "python",
   "nbconvert_exporter": "python",
   "pygments_lexer": "ipython2",
   "version": "2.7.15"
  }
 },
 "nbformat": 4,
 "nbformat_minor": 2
}
