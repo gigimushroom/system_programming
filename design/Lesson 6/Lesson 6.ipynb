{
 "cells": [
  {
   "cell_type": "code",
   "execution_count": 2,
   "metadata": {},
   "outputs": [
    {
     "name": "stdout",
     "output_type": "stream",
     "text": [
      " a\n"
     ]
    }
   ],
   "source": [
    "s = 'abc'\n",
    "print s[:0], s[:1]"
   ]
  },
  {
   "cell_type": "code",
   "execution_count": 13,
   "metadata": {},
   "outputs": [
    {
     "name": "stdout",
     "output_type": "stream",
     "text": [
      "tests pass\n"
     ]
    }
   ],
   "source": [
    "# -----------------\n",
    "# User Instructions\n",
    "# \n",
    "# Write a function, readwordlist, that takes a filename as input and returns\n",
    "# a set of all the words and a set of all the prefixes in that file, in \n",
    "# uppercase. For testing, you can assume that you have access to a file \n",
    "# called 'words4k.txt'\n",
    "\n",
    "def prefixes(word):\n",
    "    \"A list of the initial sequences of a word, not including the complete word.\"\n",
    "    return [word[:i] for i in range(len(word))]\n",
    "\n",
    "def readwordlist(filename):\n",
    "    \"\"\"Read the words from a file and return a set of the words \n",
    "    and a set of the prefixes.\"\"\"\n",
    "    file = open(filename) # opens file\n",
    "    text = file.read()    # gets file into string\n",
    "    # your code here\n",
    "    wordset = set(text.upper().split())\n",
    "    prefixset = set()\n",
    "    \n",
    "    for w in wordset:\n",
    "        for i in range(len(w)):\n",
    "            prefixset.add(w[:i])\n",
    "            \n",
    "    return wordset, prefixset\n",
    "    \n",
    "WORDS, PREFIXES = readwordlist('words4k.txt')\n",
    "\n",
    "def test():\n",
    "    assert len(WORDS)    == 3892\n",
    "    assert len(PREFIXES) == 6475\n",
    "    assert 'UMIAQS' in WORDS\n",
    "    assert 'MOVING' in WORDS\n",
    "    assert 'UNDERSTANDIN' in PREFIXES\n",
    "    assert 'ZOMB' in PREFIXES\n",
    "    return 'tests pass'\n",
    "\n",
    "print test()"
   ]
  },
  {
   "cell_type": "code",
   "execution_count": 4,
   "metadata": {},
   "outputs": [
    {
     "name": "stdout",
     "output_type": "stream",
     "text": [
      "abcd\n"
     ]
    }
   ],
   "source": [
    "s = 'abc'\n",
    "s += 'd'\n",
    "print s"
   ]
  },
  {
   "cell_type": "markdown",
   "metadata": {},
   "source": [
    "# Giving letters in hand, find all the actual WORDS!\n",
    "\n",
    "2 solution: bad and good"
   ]
  },
  {
   "cell_type": "markdown",
   "metadata": {},
   "source": [
    "![bad](img/bad_loop.png)"
   ]
  },
  {
   "cell_type": "code",
   "execution_count": 12,
   "metadata": {},
   "outputs": [
    {
     "name": "stdout",
     "output_type": "stream",
     "text": [
      "set(['ab', 'abd'])\n"
     ]
    }
   ],
   "source": [
    "# -----------------\n",
    "# User Instructions\n",
    "# \n",
    "# Write a function, extend_prefix, nested in find_words,\n",
    "# that checks to see if the prefix is in WORDS and \n",
    "# adds that to results if it is.\n",
    "#\n",
    "# If not, your function should check to see if the prefix\n",
    "# is in PREFIXES, and if it is should recursively add letters\n",
    "# until the prefix is no longer valid.\n",
    "\n",
    "def prefixes(word):\n",
    "    \"A list of the initial sequences of a word, not including the complete word.\"\n",
    "    return [word[:i] for i in range(len(word))]\n",
    "\n",
    "def removed(letters, remove):\n",
    "    \"Return a str of letters, but with each letter in remove removed once.\"\n",
    "    for L in remove:\n",
    "        letters = letters.replace(L, '', 1)\n",
    "    return letters\n",
    "\n",
    "def readwordlist(filename):\n",
    "    file = open(filename)\n",
    "    text = file.read().upper()\n",
    "    wordset = set(word for word in text.splitlines())\n",
    "    prefixset = set(p for word in wordset for p in prefixes(word))\n",
    "    return wordset, prefixset\n",
    "    \n",
    "#WORDS, PREFIXES = readwordlist('words4k.txt')\n",
    "WORDS = set(['ab', 'bc', 'abd'])\n",
    "PREFIXES = set(['', 'a', 'b', 'ab'])\n",
    "\n",
    "def find_words(letters):\n",
    "    results = set()\n",
    "\n",
    "    def extend_prefix(w, letters):\n",
    "        if w in WORDS: ###Your code here.\n",
    "            results.add(w)\n",
    "        if w not in PREFIXES: return\n",
    "        for L in letters:\n",
    "            ###Your code here.\n",
    "            extend_prefix(w+L, removed(letters, L))\n",
    "\n",
    "    extend_prefix('', letters)\n",
    "    return results\n",
    "\n",
    "print find_words('abd')"
   ]
  },
  {
   "cell_type": "markdown",
   "metadata": {},
   "source": [
    "### Conclusion\n",
    "\n",
    "The bad one: every time using the original `letters`, and remove `w` (w=a+b+c+L) from it.\n",
    "\n",
    "The good one: using recurision so that `letters` is updated each time. Each recusion, we only need to remove `L`, since the previous ones are already removed in early rounds."
   ]
  },
  {
   "cell_type": "markdown",
   "metadata": {},
   "source": [
    "`find_words` find all matching words from letters list. Letter can be re-used in words."
   ]
  },
  {
   "cell_type": "code",
   "execution_count": 17,
   "metadata": {},
   "outputs": [
    {
     "data": {
      "text/plain": [
       "['abc', 'acb', 'bac', 'bca', 'cab', 'cba']"
      ]
     },
     "execution_count": 17,
     "metadata": {},
     "output_type": "execute_result"
    }
   ],
   "source": [
    "import itertools\n",
    "\n",
    "[''.join(w) for w in itertools.permutations('abc')]"
   ]
  },
  {
   "cell_type": "code",
   "execution_count": 18,
   "metadata": {},
   "outputs": [
    {
     "data": {
      "text/plain": [
       "['a', 'b', 'c', 'ab', 'ac', 'bc', 'abc']"
      ]
     },
     "execution_count": 18,
     "metadata": {},
     "output_type": "execute_result"
    }
   ],
   "source": [
    "from itertools import combinations\n",
    "x = 'abc'\n",
    "[''.join(l) for i in range(len(x)) for l in combinations(x, i+1)]"
   ]
  },
  {
   "cell_type": "markdown",
   "metadata": {},
   "source": [
    "## add_suffixes"
   ]
  },
  {
   "cell_type": "code",
   "execution_count": 22,
   "metadata": {},
   "outputs": [
    {
     "name": "stdout",
     "output_type": "stream",
     "text": [
      "0.002427\n"
     ]
    }
   ],
   "source": [
    "# -----------------\n",
    "# User Instructions\n",
    "# \n",
    "# Write a function, add_suffixes, that takes as input a hand, a prefix we\n",
    "# have already found, and a result set we'd like to add to, and returns \n",
    "# the result set we have added to. For testing, you can assume that you \n",
    "# have access to a file called 'words4k.txt'\n",
    "\n",
    "import time\n",
    "import itertools\n",
    "\n",
    "def prefixes(word):\n",
    "    \"A list of the initial sequences of a word, not including the complete word.\"\n",
    "    return [word[:i] for i in range(len(word))]\n",
    "\n",
    "def readwordlist(filename):\n",
    "    file = open(filename)\n",
    "    text = file.read().upper()\n",
    "    wordset = set(word for word in text.splitlines())\n",
    "    prefixset = set(p for word in wordset for p in prefixes(word))\n",
    "    return wordset, prefixset\n",
    "    \n",
    "WORDS, PREFIXES = readwordlist('words4k.txt')\n",
    "\n",
    "def find_words(letters, pre='', results=None):\n",
    "    if results is None: results = set()\n",
    "    if pre in WORDS: results.add(pre)\n",
    "    if pre in PREFIXES:\n",
    "        for L in letters:\n",
    "            find_words(letters.replace(L, '', 1), pre+L, results)\n",
    "    return results\n",
    "    \n",
    "def word_plays(hand, board_letters):\n",
    "    \"Find all word plays from hand that can be made to abut with a letter on board.\"\n",
    "    # Find prefix + L + suffix; L from board_letters, rest from hand\n",
    "    results = set()\n",
    "    for pre in find_prefixes(hand, '', set()):\n",
    "        for L in board_letters:\n",
    "            add_suffixes(removed(hand, pre), pre+L, results)\n",
    "    return results\n",
    "\n",
    "def find_prefixes(hand, pre='', results=None):\n",
    "    \"Find all prefixes (of words) that can be made from letters in hand.\"\n",
    "    if results is None: results = set()\n",
    "    if pre in PREFIXES:\n",
    "        results.add(pre)\n",
    "        for L in hand:\n",
    "            find_prefixes(hand.replace(L, '', 1), pre+L, results)\n",
    "    return results\n",
    "\n",
    "def add_suffixes(hand, pre, results):\n",
    "    \"\"\"Return the set of words that can be formed by extending pre with letters in hand.\"\"\"\n",
    "    ###Your code here.\n",
    "    if pre in WORDS: results.add(pre)\n",
    "    if pre in PREFIXES:\n",
    "        for L in hand:\n",
    "            add_suffixes(hand.replace(L, '', 1), pre+L, results)\n",
    "    return results\n",
    "\n",
    "def removed(letters, remove):\n",
    "    \"Return a str of letters, but with each letter in remove removed once.\"\n",
    "    for L in remove:\n",
    "        letters = letters.replace(L, '', 1)\n",
    "    return letters\n",
    "\n",
    "def timedcall(fn, *args):\n",
    "    \"Call function with args; return the time in seconds and result.\"\n",
    "    t0 = time.clock()\n",
    "    result = fn(*args)\n",
    "    t1 = time.clock()\n",
    "    return t1-t0, result\n",
    "\n",
    "hands = {  ## Regression test\n",
    "    'ABECEDR': set(['BE', 'CARE', 'BAR', 'BA', 'ACE', 'READ', 'CAR', 'DE', 'BED', 'BEE',\n",
    "         'ERE', 'BAD', 'ERA', 'REC', 'DEAR', 'CAB', 'DEB', 'DEE', 'RED', 'CAD',\n",
    "         'CEE', 'DAB', 'REE', 'RE', 'RACE', 'EAR', 'AB', 'AE', 'AD', 'ED', 'RAD',\n",
    "         'BEAR', 'AR', 'REB', 'ER', 'ARB', 'ARC', 'ARE', 'BRA']),\n",
    "    'AEINRST': set(['SIR', 'NAE', 'TIS', 'TIN', 'ANTSIER', 'TIE', 'SIN', 'TAR', 'TAS',\n",
    "         'RAN', 'SIT', 'SAE', 'RIN', 'TAE', 'RAT', 'RAS', 'TAN', 'RIA', 'RISE',\n",
    "         'ANESTRI', 'RATINES', 'NEAR', 'REI', 'NIT', 'NASTIER', 'SEAT', 'RATE',\n",
    "         'RETAINS', 'STAINER', 'TRAIN', 'STIR', 'EN', 'STAIR', 'ENS', 'RAIN', 'ET',\n",
    "         'STAIN', 'ES', 'ER', 'ANE', 'ANI', 'INS', 'ANT', 'SENT', 'TEA', 'ATE',\n",
    "         'RAISE', 'RES', 'RET', 'ETA', 'NET', 'ARTS', 'SET', 'SER', 'TEN', 'RE',\n",
    "         'NA', 'NE', 'SEA', 'SEN', 'EAST', 'SEI', 'SRI', 'RETSINA', 'EARN', 'SI',\n",
    "         'SAT', 'ITS', 'ERS', 'AIT', 'AIS', 'AIR', 'AIN', 'ERA', 'ERN', 'STEARIN',\n",
    "         'TEAR', 'RETINAS', 'TI', 'EAR', 'EAT', 'TA', 'AE', 'AI', 'IS', 'IT',\n",
    "         'REST', 'AN', 'AS', 'AR', 'AT', 'IN', 'IRE', 'ARS', 'ART', 'ARE']),\n",
    "    'DRAMITC': set(['DIM', 'AIT', 'MID', 'AIR', 'AIM', 'CAM', 'ACT', 'DIT', 'AID', 'MIR',\n",
    "         'TIC', 'AMI', 'RAD', 'TAR', 'DAM', 'RAM', 'TAD', 'RAT', 'RIM', 'TI',\n",
    "         'TAM', 'RID', 'CAD', 'RIA', 'AD', 'AI', 'AM', 'IT', 'AR', 'AT', 'ART',\n",
    "         'CAT', 'ID', 'MAR', 'MA', 'MAT', 'MI', 'CAR', 'MAC', 'ARC', 'MAD', 'TA',\n",
    "         'ARM']),\n",
    "    'ADEINRST': set(['SIR', 'NAE', 'TIS', 'TIN', 'ANTSIER', 'DEAR', 'TIE', 'SIN', 'RAD', \n",
    "         'TAR', 'TAS', 'RAN', 'SIT', 'SAE', 'SAD', 'TAD', 'RE', 'RAT', 'RAS', 'RID',\n",
    "         'RIA', 'ENDS', 'RISE', 'IDEA', 'ANESTRI', 'IRE', 'RATINES', 'SEND',\n",
    "         'NEAR', 'REI', 'DETRAIN', 'DINE', 'ASIDE', 'SEAT', 'RATE', 'STAND',\n",
    "         'DEN', 'TRIED', 'RETAINS', 'RIDE', 'STAINER', 'TRAIN', 'STIR', 'EN',\n",
    "         'END', 'STAIR', 'ED', 'ENS', 'RAIN', 'ET', 'STAIN', 'ES', 'ER', 'AND',\n",
    "         'ANE', 'SAID', 'ANI', 'INS', 'ANT', 'IDEAS', 'NIT', 'TEA', 'ATE', 'RAISE',\n",
    "         'READ', 'RES', 'IDS', 'RET', 'ETA', 'INSTEAD', 'NET', 'RED', 'RIN',\n",
    "         'ARTS', 'SET', 'SER', 'TEN', 'TAE', 'NA', 'TED', 'NE', 'TRADE', 'SEA',\n",
    "         'AIT', 'SEN', 'EAST', 'SEI', 'RAISED', 'SENT', 'ADS', 'SRI', 'NASTIER',\n",
    "         'RETSINA', 'TAN', 'EARN', 'SI', 'SAT', 'ITS', 'DIN', 'ERS', 'DIE', 'DE',\n",
    "         'AIS', 'AIR', 'DATE', 'AIN', 'ERA', 'SIDE', 'DIT', 'AID', 'ERN',\n",
    "         'STEARIN', 'DIS', 'TEAR', 'RETINAS', 'TI', 'EAR', 'EAT', 'TA', 'AE',\n",
    "         'AD', 'AI', 'IS', 'IT', 'REST', 'AN', 'AS', 'AR', 'AT', 'IN', 'ID', 'ARS',\n",
    "         'ART', 'ANTIRED', 'ARE', 'TRAINED', 'RANDIEST', 'STRAINED', 'DETRAINS']),\n",
    "    'ETAOIN': set(['ATE', 'NAE', 'AIT', 'EON', 'TIN', 'OAT', 'TON', 'TIE', 'NET', 'TOE',\n",
    "         'ANT', 'TEN', 'TAE', 'TEA', 'AIN', 'NE', 'ONE', 'TO', 'TI', 'TAN',\n",
    "         'TAO', 'EAT', 'TA', 'EN', 'AE', 'ANE', 'AI', 'INTO', 'IT', 'AN', 'AT',\n",
    "         'IN', 'ET', 'ON', 'OE', 'NO', 'ANI', 'NOTE', 'ETA', 'ION', 'NA', 'NOT',\n",
    "         'NIT']),\n",
    "    'SHRDLU': set(['URD', 'SH', 'UH', 'US']),\n",
    "    'SHROUDT': set(['DO', 'SHORT', 'TOR', 'HO', 'DOR', 'DOS', 'SOUTH', 'HOURS', 'SOD',\n",
    "         'HOUR', 'SORT', 'ODS', 'ROD', 'OUD', 'HUT', 'TO', 'SOU', 'SOT', 'OUR',\n",
    "         'ROT', 'OHS', 'URD', 'HOD', 'SHOT', 'DUO', 'THUS', 'THO', 'UTS', 'HOT',\n",
    "         'TOD', 'DUST', 'DOT', 'OH', 'UT', 'ORT', 'OD', 'ORS', 'US', 'OR',\n",
    "         'SHOUT', 'SH', 'SO', 'UH', 'RHO', 'OUT', 'OS', 'UDO', 'RUT']),\n",
    "    'TOXENSI': set(['TO', 'STONE', 'ONES', 'SIT', 'SIX', 'EON', 'TIS', 'TIN', 'XI', 'TON',\n",
    "         'ONE', 'TIE', 'NET', 'NEXT', 'SIN', 'TOE', 'SOX', 'SET', 'TEN', 'NO',\n",
    "         'NE', 'SEX', 'ION', 'NOSE', 'TI', 'ONS', 'OSE', 'INTO', 'SEI', 'SOT',\n",
    "         'EN', 'NIT', 'NIX', 'IS', 'IT', 'ENS', 'EX', 'IN', 'ET', 'ES', 'ON',\n",
    "         'OES', 'OS', 'OE', 'INS', 'NOTE', 'EXIST', 'SI', 'XIS', 'SO', 'SON',\n",
    "         'OX', 'NOT', 'SEN', 'ITS', 'SENT', 'NOS'])}\n",
    "\n",
    "def test_words():\n",
    "    assert removed('LETTERS', 'L') == 'ETTERS'\n",
    "    assert removed('LETTERS', 'T') == 'LETERS'\n",
    "    assert removed('LETTERS', 'SET') == 'LTER'\n",
    "    assert removed('LETTERS', 'SETTER') == 'L'\n",
    "    t, results = timedcall(map, find_words, hands)\n",
    "    for ((hand, expected), got) in zip(hands.items(), results):\n",
    "        assert got == expected, \"For %r: got %s, expected %s (diff %s)\" % (\n",
    "            hand, got, expected, expected ^ got)\n",
    "    return t\n",
    "\n",
    "print test_words()"
   ]
  },
  {
   "cell_type": "markdown",
   "metadata": {},
   "source": [
    "## Loop a dict only returning keys"
   ]
  },
  {
   "cell_type": "code",
   "execution_count": 26,
   "metadata": {},
   "outputs": [
    {
     "name": "stdout",
     "output_type": "stream",
     "text": [
      "DRAMITC . None\n",
      "[1, 4, 9, 16, 25]\n"
     ]
    }
   ],
   "source": [
    "def timedcall(fn, *args):\n",
    "    \"Call function with args; return the time in seconds and result.\"\n",
    "    t0 = time.clock()\n",
    "    result = fn(*args)\n",
    "    t1 = time.clock()\n",
    "    return t1-t0, result\n",
    "\n",
    "def find_words(letters, pre='.', results=None):\n",
    "    print letters, pre, results\n",
    "    return {}\n",
    "\n",
    "hands = {\n",
    "    'DRAMITC': set(['DIM', 'AIT', 'MID', 'AIR', 'AIM', 'CAM', 'ACT', 'DIT', 'AID', 'MIR',\n",
    "         'TIC', 'AMI', 'RAD', 'TAR', 'DAM', 'RAM', 'TAD', 'RAT', 'RIM', 'TI',\n",
    "         'TAM', 'RID', 'CAD', 'RIA', 'AD', 'AI', 'AM', 'IT', 'AR', 'AT', 'ART',\n",
    "         'CAT', 'ID', 'MAR', 'MA', 'MAT', 'MI', 'CAR', 'MAC', 'ARC', 'MAD', 'TA',\n",
    "         'ARM'])\n",
    "}\n",
    "\n",
    "t, results = timedcall(map, find_words, hands)\n",
    "\n",
    "items = [1, 2, 3, 4, 5]\n",
    "squared = list(map(lambda x: x**2, items))\n",
    "print squared"
   ]
  },
  {
   "cell_type": "code",
   "execution_count": 31,
   "metadata": {},
   "outputs": [
    {
     "name": "stdout",
     "output_type": "stream",
     "text": [
      "[4, 9]\n",
      "loop dict iterate keys: [2, 3]\n"
     ]
    }
   ],
   "source": [
    "items = {2:'a', 3:'b'}\n",
    "squared = list(map(lambda x: x**2, items))\n",
    "print squared\n",
    "\n",
    "print 'loop dict iterate keys:', [n for n in items]"
   ]
  },
  {
   "cell_type": "markdown",
   "metadata": {},
   "source": [
    "## Find all possible combination of a string (order matters)"
   ]
  },
  {
   "cell_type": "code",
   "execution_count": 41,
   "metadata": {},
   "outputs": [
    {
     "name": "stdout",
     "output_type": "stream",
     "text": [
      "set(['', 'a', 'ac', 'ab', 'ba', 'acb', 'c', 'ca', 'bc', 'bca', 'abc', 'bac', 'cb', 'cab', 'b', 'cba'])\n",
      "set(['', 'a', 'c', 'b', 'ba', 'bc', 'cb', 'ca', 'ac', 'abc', 'bca', 'ab', 'bac', 'cab', 'acb', 'cba'])\n"
     ]
    }
   ],
   "source": [
    "# soluton 1\n",
    "def find_all_perm(hand, pre, results):\n",
    "    results.add(pre)\n",
    "    for L in hand:\n",
    "        add_suffixes(hand.replace(L, '', 1), pre+L, results)\n",
    "    return results\n",
    "\n",
    "results = set()\n",
    "print find_all_perm('abc', '', results)\n",
    "\n",
    "# solution 2\n",
    "print set([''.join(p) for i in range(len('abc')+1) for p in itertools.permutations('abc', i)])"
   ]
  },
  {
   "cell_type": "markdown",
   "metadata": {},
   "source": [
    "## Longest word"
   ]
  },
  {
   "cell_type": "code",
   "execution_count": 46,
   "metadata": {},
   "outputs": [
    {
     "name": "stdout",
     "output_type": "stream",
     "text": [
      "['QUADRATE', 'ADEQUATE', 'QUIET', 'TRADE', 'QUITE', 'AQUAE', 'EQUID', 'READ', 'IDEA', 'QUID', 'DATE', 'RATE', 'DEAR', 'TRUE', 'TEAR', 'QAID', 'QUIT', 'AREA', 'DIE', 'ATE', 'AIT', 'RET', 'ETA', 'ERA', 'TIE', 'AID', 'DEE', 'RED', 'RAD', 'TAR', 'TAE', 'TEA', 'TED', 'TEE', 'RAT', 'EAR', 'EAU', 'EAT', 'URD', 'DUI', 'DIT', 'DUE', 'ART', 'RUE', 'TUI', 'ARE', 'RUT', 'DE', 'RE', 'AE', 'AI', 'ED', 'TI', 'IT', 'AR', 'ET', 'ID', 'ER', 'QI']\n",
      "0.006044\n"
     ]
    }
   ],
   "source": [
    "# -----------------\n",
    "# User Instructions\n",
    "# \n",
    "# Write a function, longest_words, that takes as input a hand, and a set \n",
    "# of letters on the board, and returns all word plays, the longest first.\n",
    "# For testing, you can assume that you have access to a file called \n",
    "# 'words4k.txt'\n",
    "\n",
    "import time\n",
    "\n",
    "def prefixes(word):\n",
    "    \"A list of the initial sequences of a word, not including the complete word.\"\n",
    "    return [word[:i] for i in range(len(word))]\n",
    "\n",
    "def readwordlist(filename):\n",
    "    file = open(filename)\n",
    "    text = file.read().upper()\n",
    "    wordset = set(word for word in text.splitlines())\n",
    "    prefixset = set(p for word in wordset for p in prefixes(word))\n",
    "    return wordset, prefixset\n",
    "    \n",
    "WORDS, PREFIXES = readwordlist('words4k.txt')\n",
    "\n",
    "def find_words(letters, pre='', results=None):\n",
    "    if results is None: results = set()\n",
    "    if pre in WORDS: results.add(pre)\n",
    "    if pre in PREFIXES:\n",
    "        for L in letters:\n",
    "            find_words(letters.replace(L, '', 1), pre+L, results)\n",
    "    return results\n",
    "\n",
    "def removed(letters, remove):\n",
    "    \"Return a str of letters, but with each letter in remove removed once.\"\n",
    "    for L in remove:\n",
    "        letters = letters.replace(L, '', 1)\n",
    "    return letters\n",
    "\n",
    "def word_plays(hand, board_letters):\n",
    "    \"Find all word plays from hand that can be made to abut with a letter on board.\"\n",
    "    # Find prefix + L + suffix; L from board_letters, rest from hand\n",
    "    results = set()\n",
    "    for pre in find_prefixes(hand, '', set()):\n",
    "        for L in board_letters:\n",
    "            add_suffixes(removed(hand, pre), pre+L, results)\n",
    "    return results\n",
    "\n",
    "def find_prefixes(hand, pre='', results=None):\n",
    "    \"Find all prefixes (of words) that can be made from letters in hand.\"\n",
    "    if results is None: results = set()\n",
    "    if pre in PREFIXES:\n",
    "        results.add(pre)\n",
    "        for L in hand:\n",
    "            find_prefixes(hand.replace(L, '', 1), pre+L, results)\n",
    "    return results\n",
    "\n",
    "def add_suffixes(hand, pre, results):\n",
    "    \"\"\"Return the set of words that can be formed by extending pre with letters in hand.\"\"\"\n",
    "    if pre in WORDS: results.add(pre)\n",
    "    if pre in PREFIXES:\n",
    "        for L in hand:\n",
    "            add_suffixes(hand.replace(L, '', 1), pre+L, results)\n",
    "    return results\n",
    "\n",
    "assert (word_plays('ADEQUAT', set('IRE')) ==\n",
    "        set(['DIE', 'ATE', 'READ', 'AIT', 'DE', 'IDEA', 'RET', 'QUID', 'DATE', 'RATE',\n",
    "             'ETA', 'QUIET', 'ERA', 'TIE', 'DEAR', 'AID', 'TRADE', 'TRUE', 'DEE',\n",
    "             'RED', 'RAD', 'TAR', 'TAE', 'TEAR', 'TEA', 'TED', 'TEE', 'QUITE', 'RE',\n",
    "             'RAT', 'QUADRATE', 'EAR', 'EAU', 'EAT', 'QAID', 'URD', 'DUI', 'DIT', 'AE',\n",
    "             'AI', 'ED', 'TI', 'IT', 'DUE', 'AQUAE', 'AR', 'ET', 'ID', 'ER', 'QUIT',\n",
    "             'ART', 'AREA', 'EQUID', 'RUE', 'TUI', 'ARE', 'QI', 'ADEQUATE', 'RUT']))\n",
    "             \n",
    "def longest_words(hand, board_letters):\n",
    "    \"Return all word plays, longest first.\"\n",
    "    ###Your code here.\n",
    "    ws = word_plays(hand, board_letters)\n",
    "    return sorted(ws, key=len, reverse=True)\n",
    "\n",
    "print longest_words('ADEQUAT', set('IRE'))\n",
    "\n",
    "def timedcall(fn, *args):\n",
    "    \"Call function with args; return the time in seconds and result.\"\n",
    "    t0 = time.clock()\n",
    "    result = fn(*args)\n",
    "    t1 = time.clock()\n",
    "    return t1-t0, result\n",
    "\n",
    "hands = {  ## Regression test\n",
    "    'ABECEDR': set(['BE', 'CARE', 'BAR', 'BA', 'ACE', 'READ', 'CAR', 'DE', 'BED', 'BEE',\n",
    "         'ERE', 'BAD', 'ERA', 'REC', 'DEAR', 'CAB', 'DEB', 'DEE', 'RED', 'CAD',\n",
    "         'CEE', 'DAB', 'REE', 'RE', 'RACE', 'EAR', 'AB', 'AE', 'AD', 'ED', 'RAD',\n",
    "         'BEAR', 'AR', 'REB', 'ER', 'ARB', 'ARC', 'ARE', 'BRA']),\n",
    "    'AEINRST': set(['SIR', 'NAE', 'TIS', 'TIN', 'ANTSIER', 'TIE', 'SIN', 'TAR', 'TAS',\n",
    "         'RAN', 'SIT', 'SAE', 'RIN', 'TAE', 'RAT', 'RAS', 'TAN', 'RIA', 'RISE',\n",
    "         'ANESTRI', 'RATINES', 'NEAR', 'REI', 'NIT', 'NASTIER', 'SEAT', 'RATE',\n",
    "         'RETAINS', 'STAINER', 'TRAIN', 'STIR', 'EN', 'STAIR', 'ENS', 'RAIN', 'ET',\n",
    "         'STAIN', 'ES', 'ER', 'ANE', 'ANI', 'INS', 'ANT', 'SENT', 'TEA', 'ATE',\n",
    "         'RAISE', 'RES', 'RET', 'ETA', 'NET', 'ARTS', 'SET', 'SER', 'TEN', 'RE',\n",
    "         'NA', 'NE', 'SEA', 'SEN', 'EAST', 'SEI', 'SRI', 'RETSINA', 'EARN', 'SI',\n",
    "         'SAT', 'ITS', 'ERS', 'AIT', 'AIS', 'AIR', 'AIN', 'ERA', 'ERN', 'STEARIN',\n",
    "         'TEAR', 'RETINAS', 'TI', 'EAR', 'EAT', 'TA', 'AE', 'AI', 'IS', 'IT',\n",
    "         'REST', 'AN', 'AS', 'AR', 'AT', 'IN', 'IRE', 'ARS', 'ART', 'ARE']),\n",
    "    'DRAMITC': set(['DIM', 'AIT', 'MID', 'AIR', 'AIM', 'CAM', 'ACT', 'DIT', 'AID', 'MIR',\n",
    "         'TIC', 'AMI', 'RAD', 'TAR', 'DAM', 'RAM', 'TAD', 'RAT', 'RIM', 'TI',\n",
    "         'TAM', 'RID', 'CAD', 'RIA', 'AD', 'AI', 'AM', 'IT', 'AR', 'AT', 'ART',\n",
    "         'CAT', 'ID', 'MAR', 'MA', 'MAT', 'MI', 'CAR', 'MAC', 'ARC', 'MAD', 'TA',\n",
    "         'ARM']),\n",
    "    'ADEINRST': set(['SIR', 'NAE', 'TIS', 'TIN', 'ANTSIER', 'DEAR', 'TIE', 'SIN', 'RAD', \n",
    "         'TAR', 'TAS', 'RAN', 'SIT', 'SAE', 'SAD', 'TAD', 'RE', 'RAT', 'RAS', 'RID',\n",
    "         'RIA', 'ENDS', 'RISE', 'IDEA', 'ANESTRI', 'IRE', 'RATINES', 'SEND',\n",
    "         'NEAR', 'REI', 'DETRAIN', 'DINE', 'ASIDE', 'SEAT', 'RATE', 'STAND',\n",
    "         'DEN', 'TRIED', 'RETAINS', 'RIDE', 'STAINER', 'TRAIN', 'STIR', 'EN',\n",
    "         'END', 'STAIR', 'ED', 'ENS', 'RAIN', 'ET', 'STAIN', 'ES', 'ER', 'AND',\n",
    "         'ANE', 'SAID', 'ANI', 'INS', 'ANT', 'IDEAS', 'NIT', 'TEA', 'ATE', 'RAISE',\n",
    "         'READ', 'RES', 'IDS', 'RET', 'ETA', 'INSTEAD', 'NET', 'RED', 'RIN',\n",
    "         'ARTS', 'SET', 'SER', 'TEN', 'TAE', 'NA', 'TED', 'NE', 'TRADE', 'SEA',\n",
    "         'AIT', 'SEN', 'EAST', 'SEI', 'RAISED', 'SENT', 'ADS', 'SRI', 'NASTIER',\n",
    "         'RETSINA', 'TAN', 'EARN', 'SI', 'SAT', 'ITS', 'DIN', 'ERS', 'DIE', 'DE',\n",
    "         'AIS', 'AIR', 'DATE', 'AIN', 'ERA', 'SIDE', 'DIT', 'AID', 'ERN',\n",
    "         'STEARIN', 'DIS', 'TEAR', 'RETINAS', 'TI', 'EAR', 'EAT', 'TA', 'AE',\n",
    "         'AD', 'AI', 'IS', 'IT', 'REST', 'AN', 'AS', 'AR', 'AT', 'IN', 'ID', 'ARS',\n",
    "         'ART', 'ANTIRED', 'ARE', 'TRAINED', 'RANDIEST', 'STRAINED', 'DETRAINS']),\n",
    "    'ETAOIN': set(['ATE', 'NAE', 'AIT', 'EON', 'TIN', 'OAT', 'TON', 'TIE', 'NET', 'TOE',\n",
    "         'ANT', 'TEN', 'TAE', 'TEA', 'AIN', 'NE', 'ONE', 'TO', 'TI', 'TAN',\n",
    "         'TAO', 'EAT', 'TA', 'EN', 'AE', 'ANE', 'AI', 'INTO', 'IT', 'AN', 'AT',\n",
    "         'IN', 'ET', 'ON', 'OE', 'NO', 'ANI', 'NOTE', 'ETA', 'ION', 'NA', 'NOT',\n",
    "         'NIT']),\n",
    "    'SHRDLU': set(['URD', 'SH', 'UH', 'US']),\n",
    "    'SHROUDT': set(['DO', 'SHORT', 'TOR', 'HO', 'DOR', 'DOS', 'SOUTH', 'HOURS', 'SOD',\n",
    "         'HOUR', 'SORT', 'ODS', 'ROD', 'OUD', 'HUT', 'TO', 'SOU', 'SOT', 'OUR',\n",
    "         'ROT', 'OHS', 'URD', 'HOD', 'SHOT', 'DUO', 'THUS', 'THO', 'UTS', 'HOT',\n",
    "         'TOD', 'DUST', 'DOT', 'OH', 'UT', 'ORT', 'OD', 'ORS', 'US', 'OR',\n",
    "         'SHOUT', 'SH', 'SO', 'UH', 'RHO', 'OUT', 'OS', 'UDO', 'RUT']),\n",
    "    'TOXENSI': set(['TO', 'STONE', 'ONES', 'SIT', 'SIX', 'EON', 'TIS', 'TIN', 'XI', 'TON',\n",
    "         'ONE', 'TIE', 'NET', 'NEXT', 'SIN', 'TOE', 'SOX', 'SET', 'TEN', 'NO',\n",
    "         'NE', 'SEX', 'ION', 'NOSE', 'TI', 'ONS', 'OSE', 'INTO', 'SEI', 'SOT',\n",
    "         'EN', 'NIT', 'NIX', 'IS', 'IT', 'ENS', 'EX', 'IN', 'ET', 'ES', 'ON',\n",
    "         'OES', 'OS', 'OE', 'INS', 'NOTE', 'EXIST', 'SI', 'XIS', 'SO', 'SON',\n",
    "         'OX', 'NOT', 'SEN', 'ITS', 'SENT', 'NOS'])}\n",
    "\n",
    "def test_words():\n",
    "    assert removed('LETTERS', 'L') == 'ETTERS'\n",
    "    assert removed('LETTERS', 'T') == 'LETERS'\n",
    "    assert removed('LETTERS', 'SET') == 'LTER'\n",
    "    assert removed('LETTERS', 'SETTER') == 'L'\n",
    "    t, results = timedcall(map, find_words, hands)\n",
    "    for ((hand, expected), got) in zip(hands.items(), results):\n",
    "        assert got == expected, \"For %r: got %s, expected %s (diff %s)\" % (\n",
    "            hand, got, expected, expected ^ got)\n",
    "    return t\n",
    "\n",
    "print test_words()"
   ]
  },
  {
   "cell_type": "code",
   "execution_count": 49,
   "metadata": {},
   "outputs": [
    {
     "name": "stdout",
     "output_type": "stream",
     "text": [
      "True\n"
     ]
    }
   ],
   "source": [
    "# Write a function, word_score, that takes as input a word, and\n",
    "# returns the sum of the individual letter scores of that word.\n",
    "# For testing, you can assume that you have access to a file called \n",
    "# 'words4k.txt'\n",
    "\n",
    "\n",
    "POINTS = dict(A=1, B=3, C=3, D=2, E=1, F=4, G=2, H=4, I=1, J=8, K=5, L=1, M=3, N=1, O=1, P=3, Q=10, R=1, S=1, T=1, U=1, V=4, W=4, X=8, Y=4, Z=10, _=0)\n",
    "\n",
    "def word_score(word):\n",
    "    \"The sum of the individual letter point scores for this word.\"\n",
    "    return sum([POINTS[l] for l in word])\n",
    "\n",
    "print word_score('QRH') == 15"
   ]
  },
  {
   "cell_type": "markdown",
   "metadata": {},
   "source": [
    "## Top N by score"
   ]
  },
  {
   "cell_type": "code",
   "execution_count": 52,
   "metadata": {},
   "outputs": [],
   "source": [
    "# -----------------\n",
    "# User Instructions\n",
    "# \n",
    "# Write a function, topn, that takes as input a hand, the set of\n",
    "# current letters on the board, and a number n, and returns the \n",
    "# n best words we can play, sorted by word score.\n",
    "\n",
    "POINTS = dict(A=1, B=3, C=3, D=2, E=1, F=4, G=2, H=4, I=1, J=8, K=5, L=1, M=3, N=1, O=1, P=3, Q=10, R=1, S=1, T=1, U=1, V=4, W=4, X=8, Y=4, Z=10, _=0)\n",
    "def word_score(word):\n",
    "    \"The sum of the individual letter point scores for this word.\"\n",
    "    return sum(POINTS[L] for L in word)\n",
    "\n",
    "def topn(hand, board_letters, n=10):\n",
    "    \"Return a list of the top n words that hand can play, sorted by word score.\"\n",
    "    ###Your code here.\n",
    "    words = word_plays(hand, board_letters)\n",
    "    return sorted(words, reverse=True, key=word_score)[:n]"
   ]
  },
  {
   "cell_type": "code",
   "execution_count": null,
   "metadata": {},
   "outputs": [],
   "source": []
  }
 ],
 "metadata": {
  "kernelspec": {
   "display_name": "Python 2",
   "language": "python",
   "name": "python2"
  },
  "language_info": {
   "codemirror_mode": {
    "name": "ipython",
    "version": 2
   },
   "file_extension": ".py",
   "mimetype": "text/x-python",
   "name": "python",
   "nbconvert_exporter": "python",
   "pygments_lexer": "ipython2",
   "version": "2.7.15"
  }
 },
 "nbformat": 4,
 "nbformat_minor": 2
}
