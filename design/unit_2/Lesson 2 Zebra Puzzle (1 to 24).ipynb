{
 "cells": [
  {
   "cell_type": "markdown",
   "metadata": {},
   "source": [
    "## Puzzle Solution"
   ]
  },
  {
   "cell_type": "code",
   "execution_count": 1,
   "metadata": {},
   "outputs": [
    {
     "data": {
      "text/plain": [
       "(1, 5)"
      ]
     },
     "execution_count": 1,
     "metadata": {},
     "output_type": "execute_result"
    }
   ],
   "source": [
    "import itertools\n",
    "\n",
    "def imright(h1, h2):\n",
    "    \"House h1 is immediately right of h2 if h1-h2 == 1.\"\n",
    "    return h1-h2 == 1\n",
    "\n",
    "def nextto(h1, h2):\n",
    "    \"Two houses are next to each other if they differ by 1.\"\n",
    "    return abs(h1-h2) == 1\n",
    "\n",
    "def zebra_puzzle():\n",
    "    \"Return a tuple (WATER, ZEBRA indicating their house numbers.\"\n",
    "    houses = first, _, middle, _, _ = [1, 2, 3, 4, 5]\n",
    "    orderings = list(itertools.permutations(houses)) # 1\n",
    "    return next((WATER, ZEBRA)\n",
    "                for (red, green, ivory, yellow, blue) in orderings\n",
    "                if imright(green, ivory)\n",
    "                for (Englishman, Spaniard, Ukranian, Japanese, Norwegian) in orderings\n",
    "                if Englishman is red\n",
    "                if Norwegian is first\n",
    "                if nextto(Norwegian, blue)\n",
    "                for (coffee, tea, milk, oj, WATER) in orderings\n",
    "                if coffee is green\n",
    "                if Ukranian is tea\n",
    "                if milk is middle\n",
    "                for (OldGold, Kools, Chesterfields, LuckyStrike, Parliaments) in orderings\n",
    "                if Kools is yellow\n",
    "                if LuckyStrike is oj\n",
    "                if Japanese is Parliaments\n",
    "                for (dog, snails, fox, horse, ZEBRA) in orderings\n",
    "                if Spaniard is dog\n",
    "                if OldGold is snails\n",
    "                if nextto(Chesterfields, fox)\n",
    "                if nextto(Kools, horse)\n",
    "                )\n",
    "zebra_puzzle()"
   ]
  },
  {
   "cell_type": "markdown",
   "metadata": {},
   "source": [
    "## Generator Expressions"
   ]
  },
  {
   "cell_type": "markdown",
   "metadata": {},
   "source": [
    "### Benefits of using generator"
   ]
  },
  {
   "cell_type": "markdown",
   "metadata": {},
   "source": [
    "1. Less indentation\n",
    "2. Stop early\n",
    "3. Easier to edit"
   ]
  },
  {
   "cell_type": "markdown",
   "metadata": {},
   "source": [
    "## Star Args\n",
    "Packing and unpacking"
   ]
  },
  {
   "cell_type": "code",
   "execution_count": 2,
   "metadata": {},
   "outputs": [
    {
     "name": "stdout",
     "output_type": "stream",
     "text": [
      "(1, 2, 3)\n"
     ]
    }
   ],
   "source": [
    "def foo(a,b,c):\n",
    "    return a,b,c\n",
    "def bar(fn, *args):\n",
    "    print fn(*args)\n",
    "    \n",
    "bar(foo, 1, 2, 3)"
   ]
  },
  {
   "cell_type": "markdown",
   "metadata": {},
   "source": [
    "## Timed Calls\n",
    "\n",
    "Call fn(*args) repeatedly: \n",
    "\n",
    "n times if n is an int, or up to n seconds if n is a float; \n",
    "\n",
    "return the min, avg, and max time"
   ]
  },
  {
   "cell_type": "code",
   "execution_count": 7,
   "metadata": {},
   "outputs": [
    {
     "name": "stdout",
     "output_type": "stream",
     "text": [
      "float (0.00010599999999882925, 0.00011473508490132286, 0.001094999999999402)\n",
      "int (0.00010900000000191312, 0.00030689999999964355, 0.0007200000000011642)\n"
     ]
    }
   ],
   "source": [
    "# ----------------\n",
    "# User Instructions\n",
    "#\n",
    "# Modify the timedcalls(n, fn, *args) function so that it calls \n",
    "# fn(*args) repeatedly. It should call fn n times if n is an integer\n",
    "# and up to n seconds if n is a floating point number.\n",
    "\n",
    "import itertools\n",
    "\n",
    "def imright(h1, h2):\n",
    "    \"House h1 is immediately right of h2 if h1-h2 == 1.\"\n",
    "    return h1-h2 == 1\n",
    "\n",
    "def nextto(h1, h2):\n",
    "    \"Two houses are next to each other if they differ by 1.\"\n",
    "    return abs(h1-h2) == 1\n",
    "\n",
    "def zebra_puzzle():\n",
    "    \"Return a tuple (WATER, ZEBRA indicating their house numbers.\"\n",
    "    houses = first, _, middle, _, _ = [1, 2, 3, 4, 5]\n",
    "    orderings = list(itertools.permutations(houses)) # 1\n",
    "    return next((WATER, ZEBRA)\n",
    "                for (red, green, ivory, yellow, blue) in orderings\n",
    "                if imright(green, ivory)\n",
    "                for (Englishman, Spaniard, Ukranian, Japanese, Norwegian) in orderings\n",
    "                if Englishman is red\n",
    "                if Norwegian is first\n",
    "                if nextto(Norwegian, blue)\n",
    "                for (coffee, tea, milk, oj, WATER) in orderings\n",
    "                if coffee is green\n",
    "                if Ukranian is tea\n",
    "                if milk is middle\n",
    "                for (OldGold, Kools, Chesterfields, LuckyStrike, Parliaments) in orderings\n",
    "                if Kools is yellow\n",
    "                if LuckyStrike is oj\n",
    "                if Japanese is Parliaments\n",
    "                for (dog, snails, fox, horse, ZEBRA) in orderings\n",
    "                if Spaniard is dog\n",
    "                if OldGold is snails\n",
    "                if nextto(Chesterfields, fox)\n",
    "                if nextto(Kools, horse)\n",
    "                )\n",
    "\n",
    "import time\n",
    "\n",
    "def timedcall(fn, *args):\n",
    "    \"Call function with args; return the time in seconds and result.\"\n",
    "    t0 = time.clock()\n",
    "    result = fn(*args)\n",
    "    t1 = time.clock()\n",
    "    return t1-t0, result\n",
    "\n",
    "def average(numbers):\n",
    "    \"Return the average (arithmetic mean) of a sequence of numbers.\"\n",
    "    return sum(numbers) / float(len(numbers)) \n",
    "\n",
    "def timedcalls(n, fn, *args):\n",
    "    \"\"\"Call fn(*args) repeatedly: n times if n is an int, or up to\n",
    "    n seconds if n is a float; return the min, avg, and max time\"\"\"\n",
    "    # Your code here.\n",
    "    times = []\n",
    "    if isinstance(n, int):\n",
    "        times = [timedcall(fn, *args)[0] for _ in range(n)]\n",
    "        \n",
    "    elif isinstance(n, float):\n",
    "        while sum(times) <= n:\n",
    "          time,_ = timedcall(fn, *args)\n",
    "          times.append(time)\n",
    "            \n",
    "    return min(times), average(times), max(times)\n",
    "\n",
    "print 'float', timedcalls(3.00, zebra_puzzle)\n",
    "print 'int', timedcalls(10, zebra_puzzle)"
   ]
  },
  {
   "cell_type": "markdown",
   "metadata": {},
   "source": [
    "## Add debugging instruments"
   ]
  },
  {
   "cell_type": "code",
   "execution_count": 1,
   "metadata": {},
   "outputs": [
    {
     "name": "stdout",
     "output_type": "stream",
     "text": [
      "zebra_puzzle got (1, 5) with    25 iters over    2775 items\n"
     ]
    }
   ],
   "source": [
    "import itertools\n",
    "\n",
    "def imright(h1, h2):\n",
    "    \"House h1 is immediately right of h2 if h1-h2 == 1.\"\n",
    "    return h1-h2 == 1\n",
    "\n",
    "def nextto(h1, h2):\n",
    "    \"Two houses are next to each other if they differ by 1.\"\n",
    "    return abs(h1-h2) == 1\n",
    "\n",
    "def zebra_puzzle():\n",
    "    \"Return a tuple (WATER, ZEBRA indicating their house numbers.\"\n",
    "    houses = first, _, middle, _, _ = [1, 2, 3, 4, 5]\n",
    "    orderings = list(itertools.permutations(houses)) # 1\n",
    "    return next((WATER, ZEBRA)\n",
    "                for (red, green, ivory, yellow, blue) in c(orderings)\n",
    "                if imright(green, ivory)\n",
    "                for (Englishman, Spaniard, Ukranian, Japanese, Norwegian) in c(orderings)\n",
    "                if Englishman is red\n",
    "                if Norwegian is first\n",
    "                if nextto(Norwegian, blue)\n",
    "                for (coffee, tea, milk, oj, WATER) in c(orderings)\n",
    "                if coffee is green\n",
    "                if Ukranian is tea\n",
    "                if milk is middle\n",
    "                for (OldGold, Kools, Chesterfields, LuckyStrike, Parliaments) in c(orderings)\n",
    "                if Kools is yellow\n",
    "                if LuckyStrike is oj\n",
    "                if Japanese is Parliaments\n",
    "                for (dog, snails, fox, horse, ZEBRA) in c(orderings)\n",
    "                if Spaniard is dog\n",
    "                if OldGold is snails\n",
    "                if nextto(Chesterfields, fox)\n",
    "                if nextto(Kools, horse)\n",
    "                )\n",
    "\n",
    "def c(sequence):\n",
    "    \"\"\" Generate items in sequence. \"\"\"\n",
    "    c.starts+=1\n",
    "    for item in sequence:\n",
    "        c.items+=1\n",
    "        yield item\n",
    "\n",
    "def instruments_fn(fn, *args):\n",
    "    c.starts, c.items = 0, 0\n",
    "    result = fn(*args)\n",
    "    print '%s got %s with %5d iters over %7d items' % (fn.__name__, result, c.starts, c.items)\n",
    "\n",
    "instruments_fn(zebra_puzzle)"
   ]
  },
  {
   "cell_type": "markdown",
   "metadata": {},
   "source": [
    "## Generator functions\n",
    "Generator functions allow you to declare a function that behaves like an iterator, i.e. it can be used in a for loop."
   ]
  },
  {
   "cell_type": "code",
   "execution_count": 2,
   "metadata": {},
   "outputs": [],
   "source": [
    "# a generator that yields items instead of returning a list\n",
    "def firstn(n):\n",
    "    num = 0\n",
    "    while num < n:\n",
    "        yield num\n",
    "        num += 1\n",
    "\n",
    "sum_of_first_n = sum(firstn(1000000))"
   ]
  },
  {
   "cell_type": "code",
   "execution_count": 11,
   "metadata": {},
   "outputs": [
    {
     "name": "stdout",
     "output_type": "stream",
     "text": [
      "0\n",
      "1\n",
      "-1\n",
      "2\n",
      "-2\n",
      "3\n",
      "-3\n",
      "4\n",
      "-4\n",
      "5\n",
      "........v2.......\n",
      "0\n",
      "1\n",
      "-1\n",
      "2\n",
      "-2\n",
      "3\n",
      "-3\n",
      "4\n",
      "-4\n",
      "5\n"
     ]
    }
   ],
   "source": [
    "# Define a function, all_ints(), that generates the \n",
    "# integers in the order 0, +1, -1, +2, -2, ...\n",
    "\n",
    "def ints(start, end = None):\n",
    "    i = start\n",
    "    while i <= end or end is None:\n",
    "        yield i\n",
    "        i = i + 1\n",
    "\n",
    "def all_ints():\n",
    "    \"Generate integers in the order 0, +1, -1, +2, -2, +3, -3, ...\"\n",
    "    # Your code here.\n",
    "    yield 0\n",
    "    i = 1\n",
    "    while 1:\n",
    "        yield i\n",
    "        yield -i\n",
    "        i += 1\n",
    "        \n",
    "L = all_ints()\n",
    "for _ in range (10):\n",
    "    print next(L)\n",
    "\n",
    "print '........v2.......'\n",
    "def all_ints_v2():\n",
    "    yield 0\n",
    "    for i in ints(1):\n",
    "        yield i\n",
    "        yield -i\n",
    "\n",
    "L = all_ints_v2()\n",
    "for _ in range (10):\n",
    "    print next(L)"
   ]
  },
  {
   "cell_type": "markdown",
   "metadata": {},
   "source": [
    "I am surprised that `-i` is a negative number. I do not need to do `i = i * (-1)`"
   ]
  },
  {
   "cell_type": "markdown",
   "metadata": {},
   "source": [
    "We can call `yield()` many times in code, and it will return values. In our case, we return 0, i, -i, ..."
   ]
  },
  {
   "cell_type": "markdown",
   "metadata": {},
   "source": [
    "## How for loop really works?"
   ]
  },
  {
   "cell_type": "markdown",
   "metadata": {},
   "source": [
    "Below is the implementation of python for loop.\n",
    "\n",
    "The `items` in `for x in items` is an iterable."
   ]
  },
  {
   "cell_type": "code",
   "execution_count": 4,
   "metadata": {},
   "outputs": [
    {
     "name": "stdout",
     "output_type": "stream",
     "text": [
      "0\n",
      "1\n",
      "-1\n",
      "2\n",
      "-2\n",
      "3\n",
      "-3\n",
      "4\n",
      "-4\n",
      "5\n",
      "-5\n",
      "6\n",
      "-6\n",
      "7\n",
      "-7\n",
      "8\n",
      "-8\n",
      "9\n",
      "-9\n",
      "10\n",
      "-10\n",
      "..... Impl of for loop\n",
      "0\n",
      "1\n",
      "-1\n",
      "2\n",
      "-2\n",
      "3\n",
      "-3\n",
      "4\n",
      "-4\n",
      "5\n",
      "-5\n",
      "6\n",
      "-6\n",
      "7\n",
      "-7\n",
      "8\n",
      "-8\n",
      "9\n",
      "-9\n",
      "10\n",
      "-10\n"
     ]
    }
   ],
   "source": [
    "def all_ints():\n",
    "    \"Generate integers in the order 0, +1, -1, +2, -2, +3, -3, ...\"\n",
    "    yield 0\n",
    "    i = 1\n",
    "    c = 0\n",
    "    while c < 10:\n",
    "        yield i\n",
    "        yield -i\n",
    "        i += 1\n",
    "        c += 1\n",
    "\n",
    "for x in all_ints():\n",
    "    print x\n",
    "\n",
    "print \"..... Impl of for loop\"\n",
    "it = iter(all_ints())\n",
    "try:\n",
    "    while 1:\n",
    "        x = next(it)\n",
    "        print x\n",
    "except StopIteration:\n",
    "    pass"
   ]
  },
  {
   "cell_type": "markdown",
   "metadata": {},
   "source": [
    "# Summary"
   ]
  },
  {
   "cell_type": "markdown",
   "metadata": {},
   "source": [
    "1. Concept inventory\n",
    "2. Refine ideas\n",
    "3. Simple implementation\n",
    "4. Back envelop. To do estimate and calculation\n",
    "5. Refine code to speed up."
   ]
  },
  {
   "cell_type": "markdown",
   "metadata": {},
   "source": [
    "We built tools, for timing, counts, and aspects."
   ]
  },
  {
   "cell_type": "code",
   "execution_count": null,
   "metadata": {},
   "outputs": [],
   "source": []
  }
 ],
 "metadata": {
  "kernelspec": {
   "display_name": "Python 2",
   "language": "python",
   "name": "python2"
  },
  "language_info": {
   "codemirror_mode": {
    "name": "ipython",
    "version": 2
   },
   "file_extension": ".py",
   "mimetype": "text/x-python",
   "name": "python",
   "nbconvert_exporter": "python",
   "pygments_lexer": "ipython2",
   "version": "2.7.15"
  }
 },
 "nbformat": 4,
 "nbformat_minor": 2
}
