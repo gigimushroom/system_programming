{
 "cells": [
  {
   "cell_type": "markdown",
   "metadata": {},
   "source": [
    "# refactoring the bsuccessors"
   ]
  },
  {
   "cell_type": "code",
   "execution_count": 28,
   "metadata": {},
   "outputs": [
    {
     "name": "stdout",
     "output_type": "stream",
     "text": [
      "tests pass\n"
     ]
    }
   ],
   "source": [
    "# -----------------\n",
    "# User Instructions\n",
    "# \n",
    "# In this problem you will be refactoring the bsuccessors function.\n",
    "# Your new function, bsuccessors3, will take a state as an input\n",
    "# and return a dict of {state:action} pairs. \n",
    "#\n",
    "# A state is a (here, there, light) tuple. Here and there are \n",
    "# frozensets of people (each person is represented by an integer\n",
    "# which corresponds to their travel time), and light is 0 if \n",
    "# it is on the `here` side and 1 if it is on the `there` side.\n",
    "#\n",
    "# An action is a tuple of (travelers, arrow), where the arrow is\n",
    "# '->' or '<-'. See the test() function below for some examples\n",
    "# of what your function's input and output should look like.\n",
    "\n",
    "def bsuccessors3(state):\n",
    "    \"\"\"Return a dict of {state:action} pairs.  State is (here, there, light)\n",
    "    where here and there are frozen sets of people, light is 0 if the light is \n",
    "    on the here side and 1 if it is on the there side.\n",
    "    Action is a tuple (travelers, arrow) where arrow is '->' or '<-'\"\"\"\n",
    "    here, there, t = state\n",
    "    d = {}\n",
    "    if t == 0:\n",
    "        return dict(((here - frozenset([a, b]), there | frozenset([a, b]), 1), (set([a, b]), '->'))\n",
    "                    for a in here \n",
    "                    for b in here)\n",
    "    else:\n",
    "        for a in there:\n",
    "            for b in there:\n",
    "                state = here | frozenset([a, b]), there - frozenset([a, b]), 0\n",
    "                action = set([a, b]), '<-'\n",
    "                d[state] = action \n",
    "    return d\n",
    "\n",
    "def test():\n",
    "    assert bsuccessors3((frozenset([1]), frozenset([]), 0)) == {\n",
    "            (frozenset([]), frozenset([1]), 1)  :  (set([1]), '->')}\n",
    "\n",
    "    assert bsuccessors3((frozenset([1, 2]), frozenset([]), 0)) == {\n",
    "            (frozenset([1]), frozenset([2]), 1)    :  (set([2]), '->'), \n",
    "            (frozenset([]), frozenset([1, 2]), 1)  :  (set([1, 2]), '->'), \n",
    "            (frozenset([2]), frozenset([1]), 1)    :  (set([1]), '->')}\n",
    "\n",
    "    assert bsuccessors3((frozenset([2, 4]), frozenset([3, 5]), 1)) == {\n",
    "            (frozenset([2, 4, 5]), frozenset([3]), 0)   :  (set([5]), '<-'), \n",
    "            (frozenset([2, 3, 4, 5]), frozenset([]), 0) :  (set([3, 5]), '<-'), \n",
    "            (frozenset([2, 3, 4]), frozenset([5]), 0)   :  (set([3]), '<-')}\n",
    "    return 'tests pass'\n",
    "\n",
    "print test()"
   ]
  },
  {
   "cell_type": "markdown",
   "metadata": {},
   "source": [
    "## Peter's"
   ]
  },
  {
   "cell_type": "markdown",
   "metadata": {},
   "source": [
    "![ps1](img/ps1.png)"
   ]
  },
  {
   "cell_type": "markdown",
   "metadata": {},
   "source": [
    "# More Pour Problem\n",
    "\n",
    "below is simple pour question's successor code."
   ]
  },
  {
   "cell_type": "markdown",
   "metadata": {},
   "source": [
    "![pour](img/pour.png)"
   ]
  },
  {
   "cell_type": "code",
   "execution_count": 83,
   "metadata": {},
   "outputs": [
    {
     "name": "stdout",
     "output_type": "stream",
     "text": [
      "test_more_pour passes\n"
     ]
    }
   ],
   "source": [
    "# In this problem, you will solve the pouring problem for an arbitrary\n",
    "# number of glasses. Write a function, more_pour_problem, that takes\n",
    "# as input capacities, goal, and (optionally) start. This function should\n",
    "# return a path of states and actions.\n",
    "#\n",
    "# Capacities is a tuple of numbers, where each number represents the\n",
    "# volume of a glass.\n",
    "#\n",
    "# Goal is the desired volume and start is a tuple of the starting levels\n",
    "# in each glass. Start defaults to None (all glasses empty).\n",
    "#\n",
    "# The returned path should look like [state, action, state, action, ... ]\n",
    "# where state is a tuple of volumes and action is one of ('fill', i),\n",
    "# ('empty', i), ('pour', i, j) where i and j are indices indicating the\n",
    "# glass number.\n",
    "\n",
    "import copy\n",
    "import itertools\n",
    "\n",
    "\n",
    "def more_pour_problem(capacities, goal, start=None):\n",
    "  \"\"\"The first argument is a tuple of capacities (numbers) of glasses; the\n",
    "  goal is a number which we must achieve in some glass.  start is a tuple\n",
    "  of starting levels for each glass; if None, that means 0 for all.\n",
    "  Start at start state and follow successors until we reach the goal.\n",
    "  Keep track of frontier and previously explored; fail when no frontier.\n",
    "  On success return a path: a [state, action, state2, ...] list, where an\n",
    "  action is one of ('fill', i), ('empty', i), ('pour', i, j), where\n",
    "  i and j are indices indicating the glass number.\"\"\"\n",
    "\n",
    "  # your code here\n",
    "  def is_done(state):\n",
    "    return goal in state\n",
    "\n",
    "  def p_successors(state):\n",
    "    d = {}\n",
    "    pairs = [i for i in itertools.combinations(range(len(capacities)), 2)]\n",
    "    for (i, j) in pairs:\n",
    "      d2 = successor_2_cup(i, j, state)\n",
    "      d.update(d2)\n",
    "    #print d\n",
    "    return d\n",
    "\n",
    "  def replace(seq, i, val):\n",
    "    # modify one item, and return a copy of seq in same type.\n",
    "    s = list(seq)\n",
    "    s[i] = val\n",
    "    return type(seq)(s)\n",
    "\n",
    "  def successor_2_cup(i, j, state):\n",
    "    # (x, y) is glass levels; X and Y are glass capacities\n",
    "    x = state[i]\n",
    "    y = state[j]\n",
    "    X = capacities[i]\n",
    "    Y = capacities[j]\n",
    "    assert x <= X and y <= Y\n",
    "\n",
    "    d = {}\n",
    "    if y + x <= Y:\n",
    "      s = replace(state, i, 0)\n",
    "      s = replace(s, j, y + x)\n",
    "      d[s] = 'pour', i, j\n",
    "    else:\n",
    "      s = replace(state, i, x - (Y - y))\n",
    "      s = replace(s, j, Y)\n",
    "      d[s] = 'pour', i, j\n",
    "\n",
    "    if x+y <= X:\n",
    "      s = replace(state, i, x+y)\n",
    "      s = replace(s, j, 0)\n",
    "      d[s] = 'pour', j, i\n",
    "    else:\n",
    "      s = replace(state, i, X)\n",
    "      s = replace(s, j, y-(X-x))\n",
    "      d[s] = 'pour', j, i\n",
    "\n",
    "    d[replace(state, i, X)] = 'fill', i\n",
    "    d[replace(state, j, Y)] = 'fill', j\n",
    "    d[replace(state, i, 0)] = 'empty', i\n",
    "    d[replace(state, j, 0)] = 'empty', j\n",
    "    \n",
    "    return d\n",
    "\n",
    "  if start is None:\n",
    "    start = (0, ) * len(capacities)\n",
    "  return shortest_path_search(start, p_successors, is_done)\n",
    "\n",
    "\n",
    "def shortest_path_search(start, successors, is_goal):\n",
    "  \"\"\"Find the shortest path from start state to a state\n",
    "  such that is_goal(state) is true.\"\"\"\n",
    "  if is_goal(start):\n",
    "    return [start]\n",
    "  explored = set()\n",
    "  frontier = [[start]]\n",
    "  while frontier:\n",
    "    path = frontier.pop(0)\n",
    "    s = path[-1]\n",
    "    for (state, action) in successors(s).items():\n",
    "      if state not in explored:\n",
    "        explored.add(state)\n",
    "        path2 = path + [action, state]\n",
    "        if is_goal(state):\n",
    "          #print path2\n",
    "          return path2\n",
    "        else:\n",
    "          frontier.append(path2)\n",
    "  return Fail\n",
    "\n",
    "\n",
    "Fail = []\n",
    "\n",
    "\n",
    "def test_more_pour():\n",
    "  assert more_pour_problem((1, 2, 4, 8), 4) == [\n",
    "    (0, 0, 0, 0), ('fill', 2), (0, 0, 4, 0)]\n",
    "\n",
    "  assert more_pour_problem((1, 2, 4, 8), 3) == [\n",
    "    (0, 0, 0, 0), ('fill', 2), (0, 0, 4, 0), ('pour', 2, 0), (1, 0, 3, 0)]\n",
    "\n",
    "  assert more_pour_problem((1, 2, 4), 3) == [\n",
    "      (0, 0, 0), ('fill', 2), (0, 0, 4), ('pour', 2, 0), (1, 0, 3)]\n",
    "\n",
    "  starbucks = (8, 12, 16, 20, 24)\n",
    "  assert not any(more_pour_problem(starbucks, odd) for odd in (3, 5, 7, 9))\n",
    "  assert all(more_pour_problem((1, 3, 9, 27), n) for n in range(28))\n",
    "  assert more_pour_problem((1, 3, 9, 27), 28) == []\n",
    "  return 'test_more_pour passes'\n",
    "\n",
    "\n",
    "print test_more_pour()"
   ]
  },
  {
   "cell_type": "code",
   "execution_count": 34,
   "metadata": {},
   "outputs": [
    {
     "data": {
      "text/plain": [
       "[(0, 1), (0, 2), (0, 3), (1, 2), (1, 3), (2, 3)]"
      ]
     },
     "execution_count": 34,
     "metadata": {},
     "output_type": "execute_result"
    }
   ],
   "source": [
    "import itertools\n",
    "[i for i in itertools.combinations(range(4), 2)]"
   ]
  },
  {
   "cell_type": "code",
   "execution_count": 47,
   "metadata": {},
   "outputs": [
    {
     "name": "stdout",
     "output_type": "stream",
     "text": [
      "(0, 0, 0, 0, 0)\n"
     ]
    }
   ],
   "source": [
    "l = (0,)\n",
    "print l * 5"
   ]
  },
  {
   "cell_type": "code",
   "execution_count": 76,
   "metadata": {},
   "outputs": [
    {
     "name": "stdout",
     "output_type": "stream",
     "text": [
      "(1, 2, 3, 4)\n",
      "(1, 1, 3, 4)\n"
     ]
    }
   ],
   "source": [
    "def replace(seq, i, val):\n",
    "    # modify one item, and return a copy of seq in same type.\n",
    "    s = list(seq)\n",
    "    s[i] = val\n",
    "    return type(seq)(s)\n",
    "\n",
    "s1 = (1,2,3,4)\n",
    "s2 = replace(s1, 1, 1)\n",
    "print s1\n",
    "print s2\n",
    "\n",
    "\n",
    "s3 = (1,2,3,4)\n",
    "#s4 = s3 # TypeError: 'tuple' object does not support item assignment"
   ]
  },
  {
   "cell_type": "code",
   "execution_count": 81,
   "metadata": {},
   "outputs": [
    {
     "name": "stdout",
     "output_type": "stream",
     "text": [
      "s3 (1, 2, 3, 4)\n",
      "s4 type is list: [1, 5, 3, 4]\n",
      "converted to set: (1, 5, 3, 4)\n",
      "<type 'tuple'>\n"
     ]
    }
   ],
   "source": [
    "import copy\n",
    "s3 = (1,2,3,4)\n",
    "\n",
    "s4 = copy.deepcopy(s3)\n",
    "\n",
    "s4 = list(s4)\n",
    "s4[1] = 5\n",
    "\n",
    "print 's3', s3\n",
    "print 's4 type is list:', s4\n",
    "\n",
    "s4 = type(s3)(s4)\n",
    "print 'converted to set:', s4\n",
    "\n",
    "print type(s3)"
   ]
  },
  {
   "cell_type": "markdown",
   "metadata": {},
   "source": [
    "# Tricks I learnt\n",
    "\n",
    "- `replace` to deep copy a sequence to list, modify it, cast back to original type\n",
    "- `(0,) * 3` is to generate `(0,0,0)`\n",
    "- goal for pour is just any cup contains the result."
   ]
  },
  {
   "cell_type": "markdown",
   "metadata": {},
   "source": [
    "### Peter's solution"
   ]
  },
  {
   "cell_type": "markdown",
   "metadata": {},
   "source": [
    "![more](img/morep.png)"
   ]
  },
  {
   "cell_type": "markdown",
   "metadata": {},
   "source": [
    "# Subway Planning"
   ]
  },
  {
   "cell_type": "code",
   "execution_count": 2,
   "metadata": {},
   "outputs": [
    {
     "name": "stdout",
     "output_type": "stream",
     "text": [
      "['dadsa', 'dasdas', 'sdada']\n"
     ]
    }
   ],
   "source": [
    "s = 'dadsa dasdas sdada'\n",
    "print s.split()"
   ]
  },
  {
   "cell_type": "code",
   "execution_count": 4,
   "metadata": {},
   "outputs": [
    {
     "name": "stdout",
     "output_type": "stream",
     "text": [
      "{2: 3, 3: 5}\n"
     ]
    }
   ],
   "source": [
    "s = {2:3}\n",
    "d = {3:5}\n",
    "s.update(d)\n",
    "print s"
   ]
  },
  {
   "cell_type": "code",
   "execution_count": 12,
   "metadata": {},
   "outputs": [
    {
     "name": "stdout",
     "output_type": "stream",
     "text": [
      "2\n",
      "[1, 2]\n"
     ]
    }
   ],
   "source": [
    "dd = [1,2,3]\n",
    "print dd[-2]\n",
    "print dd[:-1]"
   ]
  },
  {
   "cell_type": "code",
   "execution_count": 14,
   "metadata": {},
   "outputs": [
    {
     "name": "stdout",
     "output_type": "stream",
     "text": [
      "test_ride passes\n"
     ]
    },
    {
     "data": {
      "text/plain": [
       "\"\\n{'airport': {'maverick': 'blue', 'suffolk': 'blue'},\\n 'alewife': {'davis': 'red'},\\n 'aquarium': {'maverick': 'blue', 'state': 'blue'},\\n 'backbay': {'foresthills': 'orange', 'tufts': 'orange'},\\n 'bowdoin': {'government': 'blue'},\\n 'central': {'harvard': 'red', 'mit': 'red'},\\n 'charles': {'mit': 'red', 'park': 'red'},\\n 'chinatown': {'downtown': 'orange', 'tufts': 'orange'},\\n 'copley': {'kenmore': 'green', 'park': 'green'},\\n 'davis': {'alewife': 'red', 'porter': 'red'},\\n 'downtown': {'chinatown': 'orange',\\n              'park': 'red',\\n              'south': 'red',\\n              'state': 'orange'},\\n 'foresthills': {'backbay': 'orange'},\\n 'government': {'bowdoin': 'blue',\\n                'haymarket': 'green',\\n                'park': 'green',\\n                'state': 'blue'},\\n 'harvard': {'central': 'red', 'porter': 'red'},\\n 'haymarket': {'government': 'green',\\n               'north': 'green',\\n               'state': 'orange',\\n               'sullivan': 'orange'},\\n 'kenmore': {'copley': 'green', 'newton': 'green'},\\n 'lechmere': {'science': 'green'},\\n 'mattapan': {'umass': 'red'},\\n 'maverick': {'airport': 'blue', 'aquarium': 'blue'},\\n 'mit': {'central': 'red', 'charles': 'red'},\\n 'newton': {'kenmore': 'green', 'riverside': 'green'},\\n 'north': {'haymarket': 'green', 'science': 'green'},\\n 'oakgrove': {'sullivan': 'orange'},\\n 'park': {'charles': 'red',\\n          'copley': 'green',\\n          'downtown': 'red',\\n          'government': 'green'},\\n 'porter': {'davis': 'red', 'harvard': 'red'},\\n 'revere': {'suffolk': 'blue', 'wonderland': 'blue'},\\n 'riverside': {'newton': 'green'},\\n 'science': {'lechmere': 'green', 'north': 'green'},\\n 'south': {'downtown': 'red', 'umass': 'red'},\\n 'state': {'aquarium': 'blue',\\n           'downtown': 'orange',\\n           'government': 'blue',\\n           'haymarket': 'orange'},\\n 'suffolk': {'airport': 'blue', 'revere': 'blue'},\\n 'sullivan': {'haymarket': 'orange', 'oakgrove': 'orange'},\\n 'tufts': {'backbay': 'orange', 'chinatown': 'orange'},\\n 'umass': {'mattapan': 'red', 'south': 'red'},\\n 'wonderland': {'revere': 'blue'}}\\n\""
      ]
     },
     "execution_count": 14,
     "metadata": {},
     "output_type": "execute_result"
    }
   ],
   "source": [
    "# -----------------\n",
    "# User Instructions\n",
    "#\n",
    "# Write a function, subway, that takes lines as input (read more about\n",
    "# the **lines notation in the instructor comments box below) and returns\n",
    "# a dictionary of the form {station:{neighbor:line, ...}, ... }\n",
    "#\n",
    "# For example, when calling subway(boston), one of the entries in the\n",
    "# resulting dictionary should be 'foresthills': {'backbay': 'orange'}.\n",
    "# This means that foresthills only has one neighbor ('backbay') and\n",
    "# that neighbor is on the orange line. Other stations have more neighbors:\n",
    "# 'state', for example, has 4 neighbors.\n",
    "#\n",
    "# Once you've defined your subway function, you can define a ride and\n",
    "# longest_ride function. ride(here, there, system) takes as input\n",
    "# a starting station (here), a destination station (there), and a subway\n",
    "# system and returns the shortest path.\n",
    "#\n",
    "# longest_ride(system) returns the longest possible ride in a given\n",
    "# subway system.\n",
    "\n",
    "# -------------\n",
    "# Grading Notes\n",
    "#\n",
    "# The subway() function will not be tested directly, only ride() and\n",
    "# longest_ride() will be explicitly tested. If your code passes the\n",
    "# assert statements in test_ride(), it should be marked correct.\n",
    "\n",
    "import pprint as pp\n",
    "import itertools\n",
    "\n",
    "\n",
    "def find_neighbours(cities, color, search):\n",
    "  \"\"\"Find all neighbours for a city.\n",
    "\n",
    "  :param cities: list of cities in same line color.\n",
    "  :param color: the line color\n",
    "  :param search: the city to search\n",
    "  :return: {'backbay': 'orange', 'sdada':'dadsa'}\n",
    "  \"\"\"\n",
    "  index = cities.index(search)\n",
    "  d = {}\n",
    "  if index == 0:\n",
    "    d[cities[1]] = color\n",
    "  elif index == len(cities) - 1:\n",
    "    # If last item, get 2nd last.\n",
    "    d[cities[-2]] = color\n",
    "  elif index == -1:\n",
    "    # err\n",
    "    return {}\n",
    "  else:\n",
    "    d[cities[index-1]] = color\n",
    "    d[cities[index+1]] = color\n",
    "\n",
    "  #pp.pprint(d)\n",
    "  return d\n",
    "\n",
    "def subway(**lines):\n",
    "  \"\"\"Define a subway map. Input is subway(linename='station1 station2...'...).\n",
    "  Convert that and return a dict of the form: {station:{neighbor:line,...},...}\"\"\"\n",
    "  # your code here\n",
    "  d = {}  # values are list of strings. Similar to lines.\n",
    "  unique_cities = set()\n",
    "  results = {}\n",
    "  for k, v in lines.items():\n",
    "    cities = v.split()\n",
    "    d[k] = cities\n",
    "    unique_cities.update(cities)\n",
    "\n",
    "  for c in unique_cities:\n",
    "    city_dict = {}\n",
    "    for line in d.keys():\n",
    "      if c in d[line]:\n",
    "        neighbours = find_neighbours(d[line], line, c)\n",
    "        city_dict.update(neighbours)\n",
    "\n",
    "    results[c] = city_dict\n",
    "\n",
    "  # pp.pprint(results)\n",
    "  return results\n",
    "\n",
    "\n",
    "boston = subway(\n",
    "  blue='bowdoin government state aquarium maverick airport suffolk revere wonderland',\n",
    "  orange='oakgrove sullivan haymarket state downtown chinatown tufts backbay foresthills',\n",
    "  green='lechmere science north haymarket government park copley kenmore newton riverside',\n",
    "  red='alewife davis porter harvard central mit charles park downtown south umass mattapan')\n",
    "\n",
    "\n",
    "def ride(here, there, system=boston):\n",
    "  # Return a path on the subway system from here to there.\n",
    "  # your code here\n",
    "  def reach_dst(state):\n",
    "    return state == there\n",
    "\n",
    "  def path_successors(state):\n",
    "    return boston[state] if state in boston else {}\n",
    "\n",
    "  return shortest_path_search(here, successors=path_successors, is_goal=reach_dst)\n",
    "\n",
    "\n",
    "Fail = []\n",
    "\n",
    "def longest_ride(system):\n",
    "  \"\"\"Return the longest possible 'shortest path'\n",
    "  ride between any two stops in the system.\"\"\"\n",
    "  # your code here\n",
    "  all_paths = []\n",
    "  unique_cities = boston.keys()\n",
    "  for here, there in itertools.combinations(unique_cities, 2):\n",
    "    path = ride(here, there)\n",
    "    #print path\n",
    "    all_paths.append(path)\n",
    "\n",
    "  return max(all_paths, key=len)\n",
    "\n",
    "def shortest_path_search(start, successors, is_goal):\n",
    "  \"\"\"Find the shortest path from start state to a state\n",
    "  such that is_goal(state) is true.\"\"\"\n",
    "  if is_goal(start):\n",
    "    return [start]\n",
    "  explored = set()  # set of states we have visited\n",
    "  frontier = [[start]]  # ordered list of paths we have blazed\n",
    "  while frontier:\n",
    "    path = frontier.pop(0)\n",
    "    s = path[-1]\n",
    "    for (state, action) in successors(s).items():\n",
    "      if state not in explored:\n",
    "        explored.add(state)\n",
    "        path2 = path + [action, state]\n",
    "        if is_goal(state):\n",
    "          return path2\n",
    "        else:\n",
    "          frontier.append(path2)\n",
    "  return []\n",
    "\n",
    "\n",
    "def path_states(path):\n",
    "  # Return a list of states in this path.\n",
    "  return path[0::2]\n",
    "\n",
    "\n",
    "def path_actions(path):\n",
    "  # Return a list of actions in this path.\n",
    "  return path[1::2]\n",
    "\n",
    "\n",
    "def test_subway_func():\n",
    "  boston\n",
    "\n",
    "#test_subway_func()\n",
    "\n",
    "def test_ride():\n",
    "  assert ride('mit', 'government') == [\n",
    "    'mit', 'red', 'charles', 'red', 'park', 'green', 'government']\n",
    "  assert ride('mattapan', 'foresthills') == [\n",
    "    'mattapan', 'red', 'umass', 'red', 'south', 'red', 'downtown',\n",
    "    'orange', 'chinatown', 'orange', 'tufts', 'orange', 'backbay', 'orange', 'foresthills']\n",
    "  assert ride('newton', 'alewife') == [\n",
    "    'newton', 'green', 'kenmore', 'green', 'copley', 'green', 'park', 'red', 'charles', 'red',\n",
    "    'mit', 'red', 'central', 'red', 'harvard', 'red', 'porter', 'red', 'davis', 'red', 'alewife']\n",
    "\n",
    "  assert (path_states(longest_ride(boston)) == [\n",
    "    'wonderland', 'revere', 'suffolk', 'airport', 'maverick', 'aquarium', 'state', 'downtown', 'park',\n",
    "    'charles', 'mit', 'central', 'harvard', 'porter', 'davis', 'alewife'] or\n",
    "          path_states(longest_ride(boston)) == [\n",
    "            'alewife', 'davis', 'porter', 'harvard', 'central', 'mit', 'charles',\n",
    "            'park', 'downtown', 'state', 'aquarium', 'maverick', 'airport', 'suffolk', 'revere', 'wonderland'])\n",
    "  assert len(path_states(longest_ride(boston))) == 16\n",
    "  return 'test_ride passes'\n",
    "\n",
    "\n",
    "print test_ride()\n",
    "\n",
    "\n",
    "\"\"\"\n",
    "{'airport': {'maverick': 'blue', 'suffolk': 'blue'},\n",
    " 'alewife': {'davis': 'red'},\n",
    " 'aquarium': {'maverick': 'blue', 'state': 'blue'},\n",
    " 'backbay': {'foresthills': 'orange', 'tufts': 'orange'},\n",
    " 'bowdoin': {'government': 'blue'},\n",
    " 'central': {'harvard': 'red', 'mit': 'red'},\n",
    " 'charles': {'mit': 'red', 'park': 'red'},\n",
    " 'chinatown': {'downtown': 'orange', 'tufts': 'orange'},\n",
    " 'copley': {'kenmore': 'green', 'park': 'green'},\n",
    " 'davis': {'alewife': 'red', 'porter': 'red'},\n",
    " 'downtown': {'chinatown': 'orange',\n",
    "              'park': 'red',\n",
    "              'south': 'red',\n",
    "              'state': 'orange'},\n",
    " 'foresthills': {'backbay': 'orange'},\n",
    " 'government': {'bowdoin': 'blue',\n",
    "                'haymarket': 'green',\n",
    "                'park': 'green',\n",
    "                'state': 'blue'},\n",
    " 'harvard': {'central': 'red', 'porter': 'red'},\n",
    " 'haymarket': {'government': 'green',\n",
    "               'north': 'green',\n",
    "               'state': 'orange',\n",
    "               'sullivan': 'orange'},\n",
    " 'kenmore': {'copley': 'green', 'newton': 'green'},\n",
    " 'lechmere': {'science': 'green'},\n",
    " 'mattapan': {'umass': 'red'},\n",
    " 'maverick': {'airport': 'blue', 'aquarium': 'blue'},\n",
    " 'mit': {'central': 'red', 'charles': 'red'},\n",
    " 'newton': {'kenmore': 'green', 'riverside': 'green'},\n",
    " 'north': {'haymarket': 'green', 'science': 'green'},\n",
    " 'oakgrove': {'sullivan': 'orange'},\n",
    " 'park': {'charles': 'red',\n",
    "          'copley': 'green',\n",
    "          'downtown': 'red',\n",
    "          'government': 'green'},\n",
    " 'porter': {'davis': 'red', 'harvard': 'red'},\n",
    " 'revere': {'suffolk': 'blue', 'wonderland': 'blue'},\n",
    " 'riverside': {'newton': 'green'},\n",
    " 'science': {'lechmere': 'green', 'north': 'green'},\n",
    " 'south': {'downtown': 'red', 'umass': 'red'},\n",
    " 'state': {'aquarium': 'blue',\n",
    "           'downtown': 'orange',\n",
    "           'government': 'blue',\n",
    "           'haymarket': 'orange'},\n",
    " 'suffolk': {'airport': 'blue', 'revere': 'blue'},\n",
    " 'sullivan': {'haymarket': 'orange', 'oakgrove': 'orange'},\n",
    " 'tufts': {'backbay': 'orange', 'chinatown': 'orange'},\n",
    " 'umass': {'mattapan': 'red', 'south': 'red'},\n",
    " 'wonderland': {'revere': 'blue'}}\n",
    "\"\"\""
   ]
  },
  {
   "cell_type": "markdown",
   "metadata": {},
   "source": [
    "## Peter's solution"
   ]
  },
  {
   "cell_type": "markdown",
   "metadata": {},
   "source": [
    "![solution](img/subway.png)"
   ]
  },
  {
   "cell_type": "markdown",
   "metadata": {},
   "source": [
    "![subway](img/sub.png)"
   ]
  },
  {
   "cell_type": "code",
   "execution_count": null,
   "metadata": {},
   "outputs": [],
   "source": []
  }
 ],
 "metadata": {
  "kernelspec": {
   "display_name": "Python 2",
   "language": "python",
   "name": "python2"
  },
  "language_info": {
   "codemirror_mode": {
    "name": "ipython",
    "version": 2
   },
   "file_extension": ".py",
   "mimetype": "text/x-python",
   "name": "python",
   "nbconvert_exporter": "python",
   "pygments_lexer": "ipython2",
   "version": "2.7.15"
  }
 },
 "nbformat": 4,
 "nbformat_minor": 2
}
