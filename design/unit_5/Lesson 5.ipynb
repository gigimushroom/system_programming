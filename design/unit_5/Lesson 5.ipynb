{
 "cells": [
  {
   "cell_type": "markdown",
   "metadata": {},
   "source": [
    "## hold and roll"
   ]
  },
  {
   "cell_type": "code",
   "execution_count": 6,
   "metadata": {},
   "outputs": [
    {
     "name": "stdout",
     "output_type": "stream",
     "text": [
      "7\n"
     ]
    }
   ],
   "source": [
    "me = 3\n",
    "pending = 4\n",
    "me += pending\n",
    "print me"
   ]
  },
  {
   "cell_type": "code",
   "execution_count": 7,
   "metadata": {},
   "outputs": [
    {
     "name": "stdout",
     "output_type": "stream",
     "text": [
      "tests pass\n"
     ]
    }
   ],
   "source": [
    "# -----------------\n",
    "# User Instructions\n",
    "# \n",
    "# Write the two action functions, hold and roll. Each should take a\n",
    "# state as input, apply the appropriate action, and return a new\n",
    "# state. \n",
    "#\n",
    "# States are represented as a tuple of (p, me, you, pending) where\n",
    "# p:       an int, 0 or 1, indicating which player's turn it is.\n",
    "# me:      an int, the player-to-move's current score\n",
    "# you:     an int, the other player's current score.\n",
    "# pending: an int, the number of points accumulated on current turn, not yet scored\n",
    "\n",
    "def hold(state):\n",
    "    \"\"\"Apply the hold action to a state to yield a new state:\n",
    "    Reap the 'pending' points and it becomes the other player's turn.\"\"\"\n",
    "    # your code here\n",
    "    p, me, y, pending = state\n",
    "    return 1- p, y, me + pending, 0\n",
    "        \n",
    "\n",
    "def roll(state, d):\n",
    "    \"\"\"Apply the roll action to a state (and a die roll d) to yield a new state:\n",
    "    If d is 1, get 1 point (losing any accumulated 'pending' points),\n",
    "    and it is the other player's turn. If d > 1, add d to 'pending' points.\"\"\"\n",
    "    # your code here\n",
    "    p, me, y, pending = state\n",
    "    if d == 1:\n",
    "        return 1 - p, y, me + 1, 0 # pig out, other player's turn\n",
    "    else:\n",
    "        return p, me, y, pending + d # add die number in pending, same user same turn\n",
    "    \n",
    "def test():    \n",
    "    assert hold((1, 10, 20, 7))    == (0, 20, 17, 0)\n",
    "    assert hold((0, 5, 15, 10))    == (1, 15, 15, 0)\n",
    "    \n",
    "    assert roll((1, 10, 20, 7), 1) == (0, 20, 11, 0)\n",
    "    \n",
    "    assert roll((0, 5, 15, 10), 5) == (0, 5, 15, 15)\n",
    "    \n",
    "    return 'tests pass'\n",
    "\n",
    "print test()"
   ]
  },
  {
   "cell_type": "code",
   "execution_count": 5,
   "metadata": {},
   "outputs": [
    {
     "name": "stdout",
     "output_type": "stream",
     "text": [
      "1\n"
     ]
    }
   ],
   "source": [
    "import random\n",
    "print random.randrange(2)"
   ]
  },
  {
   "cell_type": "code",
   "execution_count": 8,
   "metadata": {},
   "outputs": [
    {
     "name": "stdout",
     "output_type": "stream",
     "text": [
      "roll\n"
     ]
    }
   ],
   "source": [
    "# Write a strategy function, clueless, that ignores the state and\n",
    "# chooses at random from the possible moves (it should either \n",
    "# return 'roll' or 'hold'). Take a look at the random library for \n",
    "# helpful functions.\n",
    "\n",
    "import random\n",
    "\n",
    "possible_moves = ['roll', 'hold']\n",
    "\n",
    "def clueless(state):\n",
    "    \"A strategy that ignores the state and chooses at random from possible moves.\"\n",
    "    # your code here\n",
    "    m = random.randrange(2)\n",
    "    return possible_moves[m]\n",
    "\n",
    "print clueless(None)\n",
    "\n",
    "\n",
    "def clueless_better(state):\n",
    "    \"A strategy that ignores the state and chooses at random from possible moves.\"\n",
    "    # your code here\n",
    "    return random.choice(possible_moves)"
   ]
  },
  {
   "cell_type": "markdown",
   "metadata": {},
   "source": [
    "### `random.choice`\n",
    "\n",
    "Return a random element from the non-empty sequence seq. If seq is empty, raises IndexError."
   ]
  },
  {
   "cell_type": "markdown",
   "metadata": {},
   "source": [
    "## a strategy function"
   ]
  },
  {
   "cell_type": "code",
   "execution_count": 9,
   "metadata": {},
   "outputs": [
    {
     "name": "stdout",
     "output_type": "stream",
     "text": [
      "tests pass\n"
     ]
    }
   ],
   "source": [
    "# -----------------\n",
    "# User Instructions\n",
    "# \n",
    "# In this problem, you will complete the code for the hold_at(x) \n",
    "# function. This function returns a strategy function (note that \n",
    "# hold_at is NOT the strategy function itself). The returned \n",
    "# strategy should hold if and only if pending >= x or if the \n",
    "# player has reached the goal.\n",
    "\n",
    "def hold_at(x):\n",
    "    \"\"\"Return a strategy that holds if and only if \n",
    "    pending >= x or player reaches goal.\"\"\"\n",
    "    def strategy(state):\n",
    "        # your code here\n",
    "        p, me, y, pending = state\n",
    "        if pending >= x or me + pending >= goal:\n",
    "            return 'hold'\n",
    "        else:\n",
    "            return 'roll'\n",
    "    strategy.__name__ = 'hold_at(%d)' % x\n",
    "    return strategy\n",
    "\n",
    "goal = 50\n",
    "def test():\n",
    "    assert hold_at(30)((1, 29, 15, 20)) == 'roll'\n",
    "    assert hold_at(30)((1, 29, 15, 21)) == 'hold'\n",
    "    assert hold_at(15)((0, 2, 30, 10))  == 'roll'\n",
    "    assert hold_at(15)((0, 2, 30, 15))  == 'hold'\n",
    "    return 'tests pass'\n",
    "\n",
    "print test()\n"
   ]
  },
  {
   "cell_type": "code",
   "execution_count": 15,
   "metadata": {},
   "outputs": [
    {
     "name": "stdout",
     "output_type": "stream",
     "text": [
      "3\n"
     ]
    }
   ],
   "source": [
    "import random\n",
    "print random.randrange(1,7)"
   ]
  },
  {
   "cell_type": "markdown",
   "metadata": {},
   "source": [
    "## Play a game of pig between two players"
   ]
  },
  {
   "cell_type": "code",
   "execution_count": 20,
   "metadata": {},
   "outputs": [
    {
     "name": "stdout",
     "output_type": "stream",
     "text": [
      "tests pass\n"
     ]
    }
   ],
   "source": [
    "# -----------------\n",
    "# User Instructions\n",
    "# \n",
    "# Write a function, play_pig, that takes two strategy functions as input,\n",
    "# plays a game of pig between the two strategies, and returns the winning\n",
    "# strategy. Enter your code at line 41.\n",
    "#\n",
    "# You may want to borrow from the random module to help generate die rolls.\n",
    "\n",
    "import random\n",
    "\n",
    "possible_moves = ['roll', 'hold']\n",
    "other = {1:0, 0:1}\n",
    "goal = 50\n",
    "\n",
    "def clueless(state):\n",
    "    \"A strategy that ignores the state and chooses at random from possible moves.\"\n",
    "    return random.choice(possible_moves)\n",
    "\n",
    "def hold(state):\n",
    "    \"\"\"Apply the hold action to a state to yield a new state:\n",
    "    Reap the 'pending' points and it becomes the other player's turn.\"\"\"\n",
    "    (p, me, you, pending) = state\n",
    "    return (other[p], you, me+pending, 0)\n",
    "\n",
    "def roll(state, d):\n",
    "    \"\"\"Apply the roll action to a state (and a die roll d) to yield a new state:\n",
    "    If d is 1, get 1 point (losing any accumulated 'pending' points),\n",
    "    and it is the other player's turn. If d > 1, add d to 'pending' points.\"\"\"\n",
    "    (p, me, you, pending) = state\n",
    "    if d == 1:\n",
    "        return (other[p], you, me+1, 0) # pig out; other player's turn\n",
    "    else:\n",
    "        return (p, me, you, pending+d)  # accumulate die roll in pending\n",
    "\n",
    "def play_pig(A, B):\n",
    "    \"\"\"Play a game of pig between two players, represented by their strategies.\n",
    "    Each time through the main loop we ask the current player for one decision,\n",
    "    which must be 'hold' or 'roll', and we update the state accordingly.\n",
    "    When one player's score exceeds the goal, return that player.\"\"\"\n",
    "    # your code here\n",
    "    \n",
    "    strategies = [A, B]\n",
    "    state = 0, 0, 0, 0\n",
    "    while 1:\n",
    "        p, me, you, pending = state\n",
    "        if me >= goal:\n",
    "            return strategies[p]\n",
    "        elif you >= goal:\n",
    "            return strategies[1-p]\n",
    "        \n",
    "        strategy = strategies[p]\n",
    "        action = strategy(state)\n",
    "        if action == 'roll':\n",
    "            d = random.randrange(1,7)\n",
    "            state = roll(state, d)\n",
    "        else:\n",
    "            state = hold(state)\n",
    "            \n",
    "        \n",
    "def always_roll(state):\n",
    "    return 'roll'\n",
    "\n",
    "def always_hold(state):\n",
    "    return 'hold'\n",
    "\n",
    "def test():\n",
    "    for _ in range(10):\n",
    "        winner = play_pig(always_hold, always_roll)\n",
    "        assert winner.__name__ == 'always_roll'\n",
    "    return 'tests pass'\n",
    "\n",
    "print test()"
   ]
  },
  {
   "cell_type": "markdown",
   "metadata": {},
   "source": [
    "```\n",
    "random.randint(a, b)\n",
    "```\n",
    "Return a random integer N such that a <= N <= b. Alias for randrange(a, b+1).\n"
   ]
  },
  {
   "cell_type": "markdown",
   "metadata": {},
   "source": [
    "# Dependency Injection"
   ]
  },
  {
   "cell_type": "markdown",
   "metadata": {},
   "source": [
    "Add `dierolls=dierolls()` param. By default, it is random.\n",
    "\n",
    "However, in test, we can pass in a determined sequence, so we can test out behaviour."
   ]
  },
  {
   "cell_type": "code",
   "execution_count": 2,
   "metadata": {},
   "outputs": [
    {
     "name": "stdout",
     "output_type": "stream",
     "text": [
      "test passes\n"
     ]
    }
   ],
   "source": [
    "# -----------------\n",
    "# User Instructions\n",
    "# \n",
    "# Modify the rolls variable in the test() function so that it \n",
    "# contains the fewest number of valid rolls that will cause\n",
    "# the hold_at(50) strategy to win. Enter your rolls at line 63\n",
    "\n",
    "import random\n",
    "\n",
    "goal = 50\n",
    "possible_moves = ['roll', 'hold']\n",
    "other = {1:0, 0:1}\n",
    "\n",
    "def hold(state):\n",
    "    \"\"\"Apply the hold action to a state to yield a new state:\n",
    "    Reap the 'pending' points and it becomes the other player's turn.\"\"\"\n",
    "    (p, me, you, pending) = state\n",
    "    return (other[p], you, me+pending, 0)\n",
    "\n",
    "def roll(state, d):\n",
    "    \"\"\"Apply the roll action to a state (and a die roll d) to yield a new state:\n",
    "    If d is 1, get 1 point (losing any accumulated 'pending' points),\n",
    "    and it is the other player's turn. If d > 1, add d to 'pending' points.\"\"\"\n",
    "    (p, me, you, pending) = state\n",
    "    if d == 1:\n",
    "        return (other[p], you, me+1, 0) # pig out; other player's turn\n",
    "    else:\n",
    "        return (p, me, you, pending+d)  # accumulate die roll in pending\n",
    "\n",
    "def clueless(state):\n",
    "    \"A strategy that ignores the state and chooses at random from possible moves.\"\n",
    "    return random.choice(possible_moves)\n",
    "\n",
    "def hold_at(x):\n",
    "    \"\"\"Return a strategy that holds if and only if \n",
    "    pending >= x or player reaches goal.\"\"\"\n",
    "    def strategy(state):\n",
    "        (p, me, you, pending) = state\n",
    "        return 'hold' if (pending >= x or me + pending >= goal) else 'roll'\n",
    "    strategy.__name__ = 'hold_at(%d)' % x\n",
    "    return strategy\n",
    "\n",
    "def dierolls():\n",
    "    \"Generate die rolls.\"\n",
    "    while True:\n",
    "        yield random.randint(1, 6)\n",
    "\n",
    "def play_pig(A, B, dierolls=dierolls()):\n",
    "    \"\"\"Play a game of pig between two players, represented by their strategies.\n",
    "    Each time through the main loop we ask the current player for one decision,\n",
    "    which must be 'hold' or 'roll', and we update the state accordingly.\n",
    "    When one player's score exceeds the goal, return that player.\"\"\"\n",
    "    strategies = [A, B]\n",
    "    state = (0, 0, 0, 0)\n",
    "    while True:\n",
    "        (p, me, you, pending) = state\n",
    "        if me >= goal:\n",
    "            return strategies[p]\n",
    "        elif you >= goal:\n",
    "            return strategies[other[p]]\n",
    "        elif strategies[p](state) == 'hold':\n",
    "            state = hold(state)\n",
    "        else:\n",
    "            state = roll(state, next(dierolls))\n",
    "\n",
    "def test():\n",
    "    A, B = hold_at(50), clueless\n",
    "    rolls = iter([6,6,6,6,6,6,6,6,2]) # <-- Your rolls here\n",
    "    assert play_pig(A, B, rolls) == A\n",
    "    return 'test passes'\n",
    "\n",
    "print test()\n"
   ]
  },
  {
   "cell_type": "markdown",
   "metadata": {},
   "source": [
    "# Game Theory\n",
    "\n",
    "## `utility(state) -> number`\n",
    "## `quality(state, action) -> number`"
   ]
  },
  {
   "cell_type": "markdown",
   "metadata": {},
   "source": [
    "![c](img/c.png)"
   ]
  },
  {
   "cell_type": "code",
   "execution_count": 34,
   "metadata": {},
   "outputs": [
    {
     "name": "stdout",
     "output_type": "stream",
     "text": [
      "1000000\n"
     ]
    }
   ],
   "source": [
    "import math\n",
    "\n",
    "x = 1\n",
    "while math.log10(x+1000000) != (math.log10(x + 3000000) * 0.5 + math.log10(x) * 0.5):\n",
    "    x+=1\n",
    "print x"
   ]
  },
  {
   "cell_type": "markdown",
   "metadata": {},
   "source": [
    "## Optimal Pig"
   ]
  },
  {
   "cell_type": "markdown",
   "metadata": {},
   "source": [
    "![opt](img/optimal.png)"
   ]
  },
  {
   "cell_type": "markdown",
   "metadata": {},
   "source": [
    "`hold(state)` return opponent's state. Use Pwin to get opponent's P. Then, 1 - P to get our P.\n",
    "\n",
    "In roll case, when roll to 1, same logic. When roll 2 to 6, roll(state,d) returns our P, so we sum all the Ps."
   ]
  },
  {
   "cell_type": "markdown",
   "metadata": {},
   "source": [
    "# Write max_win using probability"
   ]
  },
  {
   "cell_type": "code",
   "execution_count": 10,
   "metadata": {},
   "outputs": [
    {
     "name": "stdout",
     "output_type": "stream",
     "text": [
      "tests pass\n"
     ]
    }
   ],
   "source": [
    "# -----------------\n",
    "# User Instructions\n",
    "# \n",
    "# Write the max_wins function. You can make your life easier by writing\n",
    "# it in terms of one or more of the functions that we've defined! Go\n",
    "# to line 88 to enter your code.\n",
    "\n",
    "from functools import update_wrapper\n",
    "\n",
    "def decorator(d):\n",
    "    \"Make function d a decorator: d wraps a function fn.\"\n",
    "    def _d(fn):\n",
    "        return update_wrapper(d(fn), fn)\n",
    "    update_wrapper(_d, d)\n",
    "    return _d\n",
    "\n",
    "@decorator\n",
    "def memo(f):\n",
    "    \"\"\"Decorator that caches the return value for each call to f(args).\n",
    "    Then when called again with same args, we can just look it up.\"\"\"\n",
    "    cache = {}\n",
    "    def _f(*args):\n",
    "        try:\n",
    "            return cache[args]\n",
    "        except KeyError:\n",
    "            cache[args] = result = f(*args)\n",
    "            return result\n",
    "        except TypeError:\n",
    "            # some element of args can't be a dict key\n",
    "            return f(args)\n",
    "    return _f\n",
    "\n",
    "other = {1:0, 0:1}\n",
    "\n",
    "def roll(state, d):\n",
    "    \"\"\"Apply the roll action to a state (and a die roll d) to yield a new state:\n",
    "    If d is 1, get 1 point (losing any accumulated 'pending' points),\n",
    "    and it is the other player's turn. If d > 1, add d to 'pending' points.\"\"\"\n",
    "    (p, me, you, pending) = state\n",
    "    if d == 1:\n",
    "        return (other[p], you, me+1, 0) # pig out; other player's turn\n",
    "    else:\n",
    "        return (p, me, you, pending+d)  # accumulate die roll in pending\n",
    "\n",
    "def hold(state):\n",
    "    \"\"\"Apply the hold action to a state to yield a new state:\n",
    "    Reap the 'pending' points and it becomes the other player's turn.\"\"\"\n",
    "    (p, me, you, pending) = state\n",
    "    return (other[p], you, me+pending, 0)\n",
    "\n",
    "def Q_pig(state, action, Pwin):  \n",
    "    \"The expected value of choosing action in state.\"\n",
    "    if action == 'hold':\n",
    "        return 1 - Pwin(hold(state))\n",
    "    if action == 'roll':\n",
    "        return (1 - Pwin(roll(state, 1))\n",
    "                + sum(Pwin(roll(state, d)) for d in (2,3,4,5,6))) / 6\n",
    "    raise ValueError\n",
    "\n",
    "def best_action(state, actions, Q, U):\n",
    "    \"Return the optimal action for a state, given U.\"\n",
    "    def EU(action): return Q(state, action, U)\n",
    "    return max(actions(state), key=EU)\n",
    "\n",
    "def pig_actions(state):\n",
    "    \"The legal actions from a state.\"\n",
    "    _, _, _, pending = state\n",
    "    return ['roll', 'hold'] if pending else ['roll']\n",
    "\n",
    "goal = 40\n",
    "\n",
    "@memo\n",
    "def Pwin(state):\n",
    "    \"\"\"The utility of a state; here just the probability that an optimal player\n",
    "    whose turn it is to move can win from the current state.\"\"\"\n",
    "    # Assumes opponent also plays with optimal strategy.\n",
    "    (p, me, you, pending) = state\n",
    "    if me + pending >= goal:\n",
    "        return 1\n",
    "    elif you >= goal:\n",
    "        return 0\n",
    "    else:\n",
    "        return max(Q_pig(state, action, Pwin)\n",
    "                   for action in pig_actions(state))\n",
    "\n",
    "def max_wins(state):\n",
    "    \"The optimal pig strategy chooses an action with the highest win probability.\"\n",
    "    return best_action(state, pig_actions, Q_pig, Pwin) # your code here\n",
    "\n",
    "\n",
    "def test():\n",
    "    assert(max_wins((1, 5, 34, 4)))   == \"roll\"\n",
    "    assert(max_wins((1, 18, 27, 8)))  == \"roll\"\n",
    "    assert(max_wins((0, 23, 8, 8)))   == \"roll\"\n",
    "#     assert(max_wins((0, 31, 22, 9)))  == \"hold\"\n",
    "#     assert(max_wins((1, 11, 13, 21))) == \"roll\"\n",
    "#     assert(max_wins((1, 33, 16, 6)))  == \"roll\"\n",
    "#     assert(max_wins((1, 12, 17, 27))) == \"roll\"\n",
    "#     assert(max_wins((1, 9, 32, 5)))   == \"roll\"\n",
    "#     assert(max_wins((0, 28, 27, 5)))  == \"roll\"\n",
    "#     assert(max_wins((1, 7, 26, 34)))  == \"hold\"\n",
    "#     assert(max_wins((1, 20, 29, 17))) == \"roll\"\n",
    "#     assert(max_wins((0, 34, 23, 7)))  == \"hold\"\n",
    "#     assert(max_wins((0, 30, 23, 11))) == \"hold\"\n",
    "#     assert(max_wins((0, 22, 36, 6)))  == \"roll\"\n",
    "#     assert(max_wins((0, 21, 38, 12))) == \"roll\"\n",
    "#     assert(max_wins((0, 1, 13, 21)))  == \"roll\"\n",
    "#     assert(max_wins((0, 11, 25, 14))) == \"roll\"\n",
    "#     assert(max_wins((0, 22, 4, 7)))   == \"roll\"\n",
    "#     assert(max_wins((1, 28, 3, 2)))   == \"roll\"\n",
    "#     assert(max_wins((0, 11, 0, 24)))  == \"roll\"\n",
    "    return 'tests pass'\n",
    "\n",
    "print test()\n"
   ]
  },
  {
   "cell_type": "markdown",
   "metadata": {},
   "source": [
    "# maximizes the point differential of a player"
   ]
  },
  {
   "cell_type": "code",
   "execution_count": 36,
   "metadata": {},
   "outputs": [
    {
     "name": "stdout",
     "output_type": "stream",
     "text": [
      "tests pass\n"
     ]
    }
   ],
   "source": [
    "# -----------------\n",
    "# User Instructions\n",
    "# \n",
    "# Write a function, max_diffs, that maximizes the point differential\n",
    "# of a player. This function will often return the same action as \n",
    "# max_wins, but sometimes the strategies will differ.\n",
    "#\n",
    "# Enter your code at line 101.\n",
    "\n",
    "from functools import update_wrapper\n",
    "\n",
    "def decorator(d):\n",
    "    \"Make function d a decorator: d wraps a function fn.\"\n",
    "    def _d(fn):\n",
    "        return update_wrapper(d(fn), fn)\n",
    "    update_wrapper(_d, d)\n",
    "    return _d\n",
    "\n",
    "@decorator\n",
    "def memo(f):\n",
    "    \"\"\"Decorator that caches the return value for each call to f(args).\n",
    "    Then when called again with same args, we can just look it up.\"\"\"\n",
    "    cache = {}\n",
    "    def _f(*args):\n",
    "        try:\n",
    "            return cache[args]\n",
    "        except KeyError:\n",
    "            cache[args] = result = f(*args)\n",
    "            return result\n",
    "        except TypeError:\n",
    "            # some element of args can't be a dict key\n",
    "            return f(args)\n",
    "    return _f\n",
    "\n",
    "other = {1:0, 0:1}\n",
    "\n",
    "def roll(state, d):\n",
    "    \"\"\"Apply the roll action to a state (and a die roll d) to yield a new state:\n",
    "    If d is 1, get 1 point (losing any accumulated 'pending' points),\n",
    "    and it is the other player's turn. If d > 1, add d to 'pending' points.\"\"\"\n",
    "    (p, me, you, pending) = state\n",
    "    if d == 1:\n",
    "        return (other[p], you, me+1, 0) # pig out; other player's turn\n",
    "    else:\n",
    "        return (p, me, you, pending+d)  # accumulate die roll in pending\n",
    "\n",
    "def hold(state):\n",
    "    \"\"\"Apply the hold action to a state to yield a new state:\n",
    "    Reap the 'pending' points and it becomes the other player's turn.\"\"\"\n",
    "    (p, me, you, pending) = state\n",
    "    return (other[p], you, me+pending, 0)\n",
    "\n",
    "def Q_pig(state, action, Pwin):  \n",
    "    \"The expected value of choosing action in state.\"\n",
    "    if action == 'hold':\n",
    "        return 1 - Pwin(hold(state))\n",
    "    if action == 'roll':\n",
    "        return (1 - Pwin(roll(state, 1))\n",
    "                + sum(Pwin(roll(state, d)) for d in (2,3,4,5,6))) / 6.\n",
    "    raise ValueError\n",
    "\n",
    "def best_action(state, actions, Q, U):\n",
    "    \"Return the optimal action for a state, given U.\"\n",
    "    def EU(action): return Q(state, action, U)\n",
    "    return max(actions(state), key=EU)\n",
    "\n",
    "def pig_actions(state):\n",
    "    \"The legal actions from a state.\"\n",
    "    _, _, _, pending = state\n",
    "    return ['roll', 'hold'] if pending else ['roll']\n",
    "\n",
    "goal = 40\n",
    "\n",
    "@memo        \n",
    "def Pwin(state):\n",
    "    \"\"\"The utility of a state; here just the probability that an optimal player\n",
    "    whose turn it is to move can win from the current state.\"\"\"\n",
    "    # Assumes opponent also plays with optimal strategy.\n",
    "    (p, me, you, pending) = state\n",
    "    if me + pending >= goal:\n",
    "        return 1\n",
    "    elif you >= goal:\n",
    "        return 0\n",
    "    else:\n",
    "        return max(Q_pig(state, action, Pwin)\n",
    "                   for action in pig_actions(state))\n",
    "\n",
    "@memo\n",
    "def win_diff(state):\n",
    "    \"The utility of a state: here the winning differential (pos or neg).\"\n",
    "    (p, me, you, pending) = state\n",
    "    if me + pending >= goal or you >= goal:\n",
    "        return (me + pending - you)\n",
    "    else:\n",
    "        return max(Q_pig(state, action, win_diff)\n",
    "                   for action in pig_actions(state))\n",
    "\n",
    "def max_diffs(state):\n",
    "    \"\"\"A strategy that maximizes the expected difference between my final score\n",
    "    and my opponent's.\"\"\"\n",
    "    # your code here\n",
    "    return best_action(state, pig_actions, Q_pig, win_diff)\n",
    "\n",
    "def max_wins(state):\n",
    "    \"The optimal pig strategy chooses an action with the highest win probability.\"\n",
    "    return best_action(state, pig_actions, Q_pig, Pwin)\n",
    "\n",
    "\n",
    "def test():\n",
    "    # The first three test cases are examples where max_wins and\n",
    "    # max_diffs return the same action.\n",
    "    assert(max_diffs((1, 26, 21, 15))) == \"hold\"\n",
    "    assert(max_diffs((1, 23, 36, 7)))  == \"roll\"\n",
    "    assert(max_diffs((0, 29, 4, 3)))   == \"roll\"\n",
    "    # The remaining test cases are examples where max_wins and\n",
    "    # max_diffs return different actions.\n",
    "    assert(max_diffs((0, 36, 32, 5)))  == \"roll\"\n",
    "    assert(max_diffs((1, 37, 16, 3)))  == \"roll\"\n",
    "    assert(max_diffs((1, 33, 39, 7)))  == \"roll\"\n",
    "    assert(max_diffs((0, 7, 9, 18)))   == \"hold\"\n",
    "    assert(max_diffs((1, 0, 35, 35)))  == \"hold\"\n",
    "    assert(max_diffs((0, 36, 7, 4)))   == \"roll\"\n",
    "    assert(max_diffs((1, 5, 12, 21)))  == \"hold\"\n",
    "    assert(max_diffs((0, 3, 13, 27)))  == \"hold\"\n",
    "    assert(max_diffs((0, 0, 39, 37)))  == \"hold\"\n",
    "    return 'tests pass'\n",
    "\n",
    "print test()"
   ]
  },
  {
   "cell_type": "markdown",
   "metadata": {},
   "source": [
    "# Legal Actions"
   ]
  },
  {
   "cell_type": "code",
   "execution_count": 37,
   "metadata": {},
   "outputs": [
    {
     "name": "stdout",
     "output_type": "stream",
     "text": [
      "bad_strategy\n",
      "tests pass\n"
     ]
    }
   ],
   "source": [
    "# -----------------\n",
    "# User Instructions\n",
    "# \n",
    "# Update the play_pig function so that it looks at the result\n",
    "# that comes from the strategy function and makes sure that \n",
    "# it is either 'hold' or 'roll' and if it's not one of those\n",
    "# then that strategy should immediately lose and the other \n",
    "# strategy should be declared the winner.\n",
    "\n",
    "import random\n",
    "\n",
    "def roll(state, d):\n",
    "    \"\"\"Apply the roll action to a state (and a die roll d) to yield a new state:\n",
    "    If d is 1, get 1 point (losing any accumulated 'pending' points),\n",
    "    and it is the other player's turn. If d > 1, add d to 'pending' points.\"\"\"\n",
    "    (p, me, you, pending) = state\n",
    "    if d == 1:\n",
    "        return (other[p], you, me+1, 0) # pig out; other player's turn\n",
    "    else:\n",
    "        return (p, me, you, pending+d)  # accumulate die roll in pending\n",
    "\n",
    "def hold(state):\n",
    "    \"\"\"Apply the hold action to a state to yield a new state:\n",
    "    Reap the 'pending' points and it becomes the other player's turn.\"\"\"\n",
    "    (p, me, you, pending) = state\n",
    "    return (other[p], you, me+pending, 0)\n",
    "\n",
    "def dierolls():\n",
    "    \"Generate die rolls.\"\n",
    "    while True:\n",
    "        yield random.randint(1, 6)\n",
    "        \n",
    "other = {1:0, 0:1}\n",
    "goal  = 40\n",
    "\n",
    "def play_pig(A, B, dierolls=dierolls()):\n",
    "    \"\"\"Play a game of pig between two players, represented by their strategies.\n",
    "    Each time through the main loop we ask the current player for one decision,\n",
    "    which must be 'hold' or 'roll', and we update the state accordingly.\n",
    "    When one player's score exceeds the goal, return that player.\"\"\"\n",
    "    strategies = [A, B]\n",
    "    state = (0, 0, 0, 0)\n",
    "    while True:\n",
    "        (p, me, you, pending) = state\n",
    "        if me >= goal:\n",
    "            return strategies[p]\n",
    "        elif you >= goal:\n",
    "            return strategies[other[p]]\n",
    "        elif strategies[p](state) == 'hold' or  strategies[p](state) == 'roll':\n",
    "            if strategies[p](state) == 'hold':\n",
    "                state = hold(state)\n",
    "            else:\n",
    "                state = roll(state, next(dierolls))\n",
    "        else:\n",
    "            return strategies[other[p]]\n",
    "\n",
    "def bad_strategy(state):\n",
    "    \"A strategy that could never win, unless a player makes an illegal move\"\n",
    "    return 'hold'\n",
    "\n",
    "def illegal_strategy(state):\n",
    "    return 'I want to win pig please.'\n",
    "\n",
    "print play_pig(bad_strategy, illegal_strategy).__name__ \n",
    "\n",
    "def test():\n",
    "    winner = play_pig(bad_strategy, illegal_strategy) \n",
    "    assert winner.__name__ == 'bad_strategy'\n",
    "    return 'tests pass'\n",
    "\n",
    "print test()"
   ]
  },
  {
   "cell_type": "markdown",
   "metadata": {},
   "source": [
    "# Simulation vs enumeration\n",
    "\n",
    "Given each family has 2 children, at least 1 boy, find the Probabiltiy for having 2 boys!\n",
    "\n",
    "Enumerate: BB, BG, GB, (GG not included)\n",
    "\n",
    "we have BB / (BB + BG + GB) => 1/3"
   ]
  },
  {
   "cell_type": "markdown",
   "metadata": {},
   "source": [
    "![BB](img/bb.png)"
   ]
  },
  {
   "cell_type": "markdown",
   "metadata": {},
   "source": [
    "## what is the P of 2 boys on Tuesday?"
   ]
  },
  {
   "cell_type": "code",
   "execution_count": 11,
   "metadata": {},
   "outputs": [
    {
     "name": "stdout",
     "output_type": "stream",
     "text": [
      "13/27\n"
     ]
    }
   ],
   "source": [
    "import itertools\n",
    "from fractions import Fraction\n",
    "\n",
    "day = 'SMTWtFs'\n",
    "sex = 'BG'\n",
    "\n",
    "def product(*var):\n",
    "    return map(''.join, itertools.product(*var))\n",
    "\n",
    "def two_boys(s):\n",
    "    return s.count('B') == 2\n",
    "\n",
    "two_kids_bday = product(sex, day, sex, day)\n",
    "boy_tuesday = [s for s in two_kids_bday if 'BT' in s]\n",
    "\n",
    "def condP(predicate, event):\n",
    "    pred = [s for s in event if predicate(s)]\n",
    "    return Fraction(len(pred), len(event))\n",
    "\n",
    "print condP(two_boys, boy_tuesday)"
   ]
  },
  {
   "cell_type": "markdown",
   "metadata": {},
   "source": [
    "`product(A, B)` returns the same as `((x,y) for x in A for y in B)`.\n",
    "\n",
    "`map(function, iterable, ...)`: Return an iterator that applies function to every item of iterable, yielding the results.\n",
    "\n",
    "`map(''.join, itertools.product(*var))`"
   ]
  },
  {
   "cell_type": "markdown",
   "metadata": {},
   "source": [
    "# Summary\n",
    "\n",
    "- probability\n",
    "- search with uncertainty\n",
    "- utility -> best_action, u specify WHAT(Q, U), by using HOW (best_action)\n",
    "- simulatio (random) vs enumeration\n",
    "\n",
    "wrapper function\n",
    "\n",
    "inject\n",
    "\n",
    "aspect-oritented programming"
   ]
  },
  {
   "cell_type": "code",
   "execution_count": null,
   "metadata": {},
   "outputs": [],
   "source": []
  }
 ],
 "metadata": {
  "kernelspec": {
   "display_name": "Python 2",
   "language": "python",
   "name": "python2"
  },
  "language_info": {
   "codemirror_mode": {
    "name": "ipython",
    "version": 2
   },
   "file_extension": ".py",
   "mimetype": "text/x-python",
   "name": "python",
   "nbconvert_exporter": "python",
   "pygments_lexer": "ipython2",
   "version": "2.7.15"
  }
 },
 "nbformat": 4,
 "nbformat_minor": 2
}
