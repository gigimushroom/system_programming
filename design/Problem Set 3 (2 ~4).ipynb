{
 "cells": [
  {
   "cell_type": "markdown",
   "metadata": {},
   "source": [
    "# Newton's Method"
   ]
  },
  {
   "cell_type": "code",
   "execution_count": null,
   "metadata": {},
   "outputs": [],
   "source": [
    "def inverse(f, delta = 1/128.):\n",
    "    \"\"\"Given a function y = f(x) that is a monotonically increasing function on\n",
    "    non-negatve numbers, return the function x = f_1(y) that is an approximate\n",
    "    inverse, picking the closest value to the inverse, within delta.\"\"\"\n",
    "    def f1(x):\n",
    "        if x < 2: return x\n",
    "        \n",
    "        x0 = x\n",
    "        x1 = (x0 + x/x0)/2\n",
    "        while abs(x0-x1) >= delta:\n",
    "            x0 = x1\n",
    "            x1 = (x0 + x/x0)/2\n",
    "            \n",
    "        return int(x1)\n",
    "    return f1"
   ]
  },
  {
   "cell_type": "markdown",
   "metadata": {},
   "source": [
    "# Binary Search Method"
   ]
  },
  {
   "cell_type": "code",
   "execution_count": 5,
   "metadata": {},
   "outputs": [
    {
     "name": "stdout",
     "output_type": "stream",
     "text": [
      "62907.78125\n",
      "62907.776279\n"
     ]
    }
   ],
   "source": [
    "# --------------\n",
    "# User Instructions\n",
    "#\n",
    "# Write a function, inverse, which takes as input a monotonically\n",
    "# increasing (always increasing) function that is defined on the \n",
    "# non-negative numbers. The runtime of your program should be \n",
    "# proportional to the LOGARITHM of the input. You may want to \n",
    "# do some research into binary search and Newton's method to \n",
    "# help you out.\n",
    "#\n",
    "# This function should return another function which computes the\n",
    "# inverse of the input function. \n",
    "#\n",
    "# Your inverse function should also take an optional parameter, \n",
    "# delta, as input so that the computed value of the inverse will\n",
    "# be within delta of the true value.\n",
    "\n",
    "# -------------\n",
    "# Grading Notes\n",
    "#\n",
    "# Your function will be called with three test cases. The \n",
    "# input numbers will be large enough that your submission\n",
    "# will only terminate in the allotted time if it is \n",
    "# efficient enough. \n",
    "\n",
    "def slow_inverse(f, delta=1/128.):\n",
    "    \"\"\"Given a function y = f(x) that is a monotonically increasing function on\n",
    "    non-negatve numbers, return the function x = f_1(y) that is an approximate\n",
    "    inverse, picking the closest value to the inverse, within delta.\"\"\"\n",
    "    def f_1(y):\n",
    "        x = 0\n",
    "        while f(x) < y:\n",
    "            x += delta\n",
    "        # Now x is too big, x-delta is too small; pick the closest to y\n",
    "        return x if (f(x)-y < y-f(x-delta)) else x-delta\n",
    "    return f_1 \n",
    "        \n",
    "def inverse(f, delta = 1/128.):\n",
    "    \"\"\"Given a function y = f(x) that is a monotonically increasing function on\n",
    "    non-negatve numbers, return the function x = f_1(y) that is an approximate\n",
    "    inverse, picking the closest value to the inverse, within delta.\"\"\"\n",
    "    def f1(x):\n",
    "        if x < 2: return x\n",
    "        \n",
    "        left = 2\n",
    "        right = x/2\n",
    "        while left <= right:\n",
    "            num = (left + right) / 2.0\n",
    "            if f(num) == x:\n",
    "                return num\n",
    "            elif f(num) > x:\n",
    "                right = num - delta\n",
    "            else:\n",
    "                left = num + delta\n",
    "            \n",
    "        return right\n",
    "    return f1\n",
    "    \n",
    "def square(x): return x*x\n",
    "sqrt = slow_inverse(square)\n",
    "\n",
    "print sqrt(3957389204)\n",
    "\n",
    "print inverse(square)(3957389204)\n"
   ]
  },
  {
   "cell_type": "markdown",
   "metadata": {},
   "source": [
    "# Find HTML Tags"
   ]
  },
  {
   "cell_type": "code",
   "execution_count": 38,
   "metadata": {},
   "outputs": [
    {
     "name": "stdout",
     "output_type": "stream",
     "text": [
      "tests pass\n"
     ]
    }
   ],
   "source": [
    "# ---------------\n",
    "# User Instructions\n",
    "#\n",
    "# Write a function, findtags(text), that takes a string of text\n",
    "# as input and returns a list of all the html start tags in the \n",
    "# text. It may be helpful to use regular expressions to solve\n",
    "# this problem.\n",
    "\n",
    "import re\n",
    "\n",
    "def findtags(text):\n",
    "    # your code here\n",
    "    m = re.findall('<\\s*[a,b].*?>', text)\n",
    "    #print m\n",
    "    return m\n",
    "\n",
    "testtext1 = \"\"\"\n",
    "My favorite website in the world is probably \n",
    "<a href=\"www.udacity.com\">Udacity</a>. If you want \n",
    "that link to open in a <b>new tab</b> by default, you should\n",
    "write <a href=\"www.udacity.com\"target=\"_blank\">Udacity</a>\n",
    "instead!\n",
    "\"\"\"\n",
    "\n",
    "testtext2 = \"\"\"\n",
    "Okay, so you passed the first test case. <let's see> how you \n",
    "handle this one. Did you know that 2 < 3 should return True? \n",
    "So should 3 > 2. But 2 > 3 is always False.\n",
    "\"\"\"\n",
    "\n",
    "testtext3 = \"\"\"\n",
    "It's not common, but we can put a LOT of whitespace into \n",
    "our HTML tags. For example, we can make something bold by\n",
    "doing <         b           > this <   /b    >, Though I \n",
    "don't know why you would ever want to.\n",
    "\"\"\"\n",
    "\n",
    "def test():\n",
    "    assert findtags(testtext1) == ['<a href=\"www.udacity.com\">', \n",
    "                                   '<b>', \n",
    "                                   '<a href=\"www.udacity.com\"target=\"_blank\">']\n",
    "    assert findtags(testtext2) == []\n",
    "    assert findtags(testtext3) == ['<         b           >']\n",
    "    return 'tests pass'\n",
    "\n",
    "print test()"
   ]
  },
  {
   "cell_type": "markdown",
   "metadata": {},
   "source": [
    "https://stackoverflow.com/questions/2503413/regular-expression-to-stop-at-first-match\n",
    "\n",
    "You need to make your regular expression non-greedy, because by default, \"(.*)\" will match all of \"file path/level1/level2\" xxx some=\"xxx\".\n",
    "\n",
    "Instead you can make your dot-star non-greedy, which will make it match as few characters as possible:\n",
    "```\n",
    "/location=\"(.*?)\"/\n",
    "```\n",
    "### Adding a ? on a quantifier (?, * or +) makes it non-greedy."
   ]
  },
  {
   "cell_type": "markdown",
   "metadata": {},
   "source": [
    "## Peter's better solution (but not working!!!)"
   ]
  },
  {
   "cell_type": "code",
   "execution_count": 37,
   "metadata": {},
   "outputs": [
    {
     "ename": "AssertionError",
     "evalue": "",
     "output_type": "error",
     "traceback": [
      "\u001b[0;31m---------------------------------------------------------------------------\u001b[0m",
      "\u001b[0;31mAssertionError\u001b[0m                            Traceback (most recent call last)",
      "\u001b[0;32m<ipython-input-37-052d37f4c864>\u001b[0m in \u001b[0;36m<module>\u001b[0;34m()\u001b[0m\n\u001b[1;32m     45\u001b[0m     \u001b[0;32mreturn\u001b[0m \u001b[0;34m'tests pass'\u001b[0m\u001b[0;34m\u001b[0m\u001b[0m\n\u001b[1;32m     46\u001b[0m \u001b[0;34m\u001b[0m\u001b[0m\n\u001b[0;32m---> 47\u001b[0;31m \u001b[0;32mprint\u001b[0m \u001b[0mtest\u001b[0m\u001b[0;34m(\u001b[0m\u001b[0;34m)\u001b[0m\u001b[0;34m\u001b[0m\u001b[0m\n\u001b[0m",
      "\u001b[0;32m<ipython-input-37-052d37f4c864>\u001b[0m in \u001b[0;36mtest\u001b[0;34m()\u001b[0m\n\u001b[1;32m     40\u001b[0m     assert findtags(testtext1) == ['<a href=\"www.udacity.com\">', \n\u001b[1;32m     41\u001b[0m                                    \u001b[0;34m'<b>'\u001b[0m\u001b[0;34m,\u001b[0m\u001b[0;34m\u001b[0m\u001b[0m\n\u001b[0;32m---> 42\u001b[0;31m                                    '<a href=\"www.udacity.com\"target=\"_blank\">']\n\u001b[0m\u001b[1;32m     43\u001b[0m     \u001b[0;32massert\u001b[0m \u001b[0mfindtags\u001b[0m\u001b[0;34m(\u001b[0m\u001b[0mtesttext2\u001b[0m\u001b[0;34m)\u001b[0m \u001b[0;34m==\u001b[0m \u001b[0;34m[\u001b[0m\u001b[0;34m]\u001b[0m\u001b[0;34m\u001b[0m\u001b[0m\n\u001b[1;32m     44\u001b[0m     \u001b[0;32massert\u001b[0m \u001b[0mfindtags\u001b[0m\u001b[0;34m(\u001b[0m\u001b[0mtesttext3\u001b[0m\u001b[0;34m)\u001b[0m \u001b[0;34m==\u001b[0m \u001b[0;34m[\u001b[0m\u001b[0;34m'<         b           >'\u001b[0m\u001b[0;34m]\u001b[0m\u001b[0;34m\u001b[0m\u001b[0m\n",
      "\u001b[0;31mAssertionError\u001b[0m: "
     ]
    }
   ],
   "source": [
    "# ---------------\n",
    "# User Instructions\n",
    "#\n",
    "# Write a function, findtags(text), that takes a string of text\n",
    "# as input and returns a list of all the html start tags in the \n",
    "# text. It may be helpful to use regular expressions to solve\n",
    "# this problem.\n",
    "\n",
    "import re\n",
    "\n",
    "def findtags(text):\n",
    "    # your code here\n",
    "    params = '(\\w+\\s*=\\s*\"[^\"]*\"\\s*)*'\n",
    "    tags = '(<\\s*\\w+\\s*' + params + '\\s*/?>)'\n",
    "    m = re.findall(tags, text)\n",
    "    return m\n",
    "\n",
    "testtext1 = \"\"\"\n",
    "My favorite website in the world is probably \n",
    "<a href=\"www.udacity.com\">Udacity</a>. If you want \n",
    "that link to open in a <b>new tab</b> by default, you should\n",
    "write <a href=\"www.udacity.com\"target=\"_blank\">Udacity</a>\n",
    "instead!\n",
    "\"\"\"\n",
    "\n",
    "testtext2 = \"\"\"\n",
    "Okay, so you passed the first test case. <let's see> how you \n",
    "handle this one. Did you know that 2 < 3 should return True? \n",
    "So should 3 > 2. But 2 > 3 is always False.\n",
    "\"\"\"\n",
    "\n",
    "testtext3 = \"\"\"\n",
    "It's not common, but we can put a LOT of whitespace into \n",
    "our HTML tags. For example, we can make something bold by\n",
    "doing <         b           > this <   /b    >, Though I \n",
    "don't know why you would ever want to.\n",
    "\"\"\"\n",
    "\n",
    "def test():\n",
    "    assert findtags(testtext1) == ['<a href=\"www.udacity.com\">', \n",
    "                                   '<b>', \n",
    "                                   '<a href=\"www.udacity.com\"target=\"_blank\">']\n",
    "    assert findtags(testtext2) == []\n",
    "    assert findtags(testtext3) == ['<         b           >']\n",
    "    return 'tests pass'\n",
    "\n",
    "print test()"
   ]
  },
  {
   "cell_type": "code",
   "execution_count": null,
   "metadata": {},
   "outputs": [],
   "source": []
  },
  {
   "cell_type": "markdown",
   "metadata": {},
   "source": [
    "# Challenge Problem"
   ]
  },
  {
   "cell_type": "code",
   "execution_count": 36,
   "metadata": {},
   "outputs": [
    {
     "ename": "NameError",
     "evalue": "name 'grammar' is not defined",
     "output_type": "error",
     "traceback": [
      "\u001b[0;31m---------------------------------------------------------------------------\u001b[0m",
      "\u001b[0;31mNameError\u001b[0m                                 Traceback (most recent call last)",
      "\u001b[0;32m<ipython-input-36-01bc196f2f94>\u001b[0m in \u001b[0;36m<module>\u001b[0;34m()\u001b[0m\n\u001b[0;32m----> 1\u001b[0;31m REGRAMMAR = grammar(\"\"\"\n\u001b[0m\u001b[1;32m      2\u001b[0m \u001b[0mRE\u001b[0m \u001b[0;34m=\u001b[0m\u001b[0;34m>\u001b[0m\u001b[0;34m\u001b[0m\u001b[0m\n\u001b[1;32m      3\u001b[0m \"\"\", whitespace='')\n\u001b[1;32m      4\u001b[0m \u001b[0;34m\u001b[0m\u001b[0m\n\u001b[1;32m      5\u001b[0m \u001b[0;32mdef\u001b[0m \u001b[0mparse_se\u001b[0m\u001b[0;34m(\u001b[0m\u001b[0mpattern\u001b[0m\u001b[0;34m)\u001b[0m\u001b[0;34m:\u001b[0m\u001b[0;34m\u001b[0m\u001b[0m\n",
      "\u001b[0;31mNameError\u001b[0m: name 'grammar' is not defined"
     ]
    }
   ],
   "source": [
    "REGRAMMAR = grammar(\"\"\"\n",
    "RE =>\n",
    "\"\"\", whitespace='')\n",
    "\n",
    "def parse_se(pattern):\n",
    "    return convert(parse('RE', pattern, REGRAMMAR))\n",
    "\n",
    "def convert(tree):\n",
    "    pass"
   ]
  },
  {
   "cell_type": "code",
   "execution_count": null,
   "metadata": {},
   "outputs": [],
   "source": []
  },
  {
   "cell_type": "code",
   "execution_count": null,
   "metadata": {},
   "outputs": [],
   "source": []
  }
 ],
 "metadata": {
  "kernelspec": {
   "display_name": "Python 2",
   "language": "python",
   "name": "python2"
  },
  "language_info": {
   "codemirror_mode": {
    "name": "ipython",
    "version": 2
   },
   "file_extension": ".py",
   "mimetype": "text/x-python",
   "name": "python",
   "nbconvert_exporter": "python",
   "pygments_lexer": "ipython2",
   "version": "2.7.15"
  }
 },
 "nbformat": 4,
 "nbformat_minor": 2
}
