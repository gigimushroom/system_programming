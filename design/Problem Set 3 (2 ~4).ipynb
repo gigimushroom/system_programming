{
 "cells": [
  {
   "cell_type": "code",
   "execution_count": 2,
   "metadata": {},
   "outputs": [
    {
     "name": "stdout",
     "output_type": "stream",
     "text": [
      "31622.7734375\n"
     ]
    }
   ],
   "source": [
    "# --------------\n",
    "# User Instructions\n",
    "#\n",
    "# Write a function, inverse, which takes as input a monotonically\n",
    "# increasing (always increasing) function that is defined on the \n",
    "# non-negative numbers. The runtime of your program should be \n",
    "# proportional to the LOGARITHM of the input. You may want to \n",
    "# do some research into binary search and Newton's method to \n",
    "# help you out.\n",
    "#\n",
    "# This function should return another function which computes the\n",
    "# inverse of the input function. \n",
    "#\n",
    "# Your inverse function should also take an optional parameter, \n",
    "# delta, as input so that the computed value of the inverse will\n",
    "# be within delta of the true value.\n",
    "\n",
    "# -------------\n",
    "# Grading Notes\n",
    "#\n",
    "# Your function will be called with three test cases. The \n",
    "# input numbers will be large enough that your submission\n",
    "# will only terminate in the allotted time if it is \n",
    "# efficient enough. \n",
    "\n",
    "def slow_inverse(f, delta=1/128.):\n",
    "    \"\"\"Given a function y = f(x) that is a monotonically increasing function on\n",
    "    non-negatve numbers, return the function x = f_1(y) that is an approximate\n",
    "    inverse, picking the closest value to the inverse, within delta.\"\"\"\n",
    "    def f_1(y):\n",
    "        x = 0\n",
    "        while f(x) < y:\n",
    "            x += delta\n",
    "        # Now x is too big, x-delta is too small; pick the closest to y\n",
    "        return x if (f(x)-y < y-f(x-delta)) else x-delta\n",
    "    return f_1 \n",
    "\n",
    "def inverse(f, delta = 1/128.):\n",
    "    \"\"\"Given a function y = f(x) that is a monotonically increasing function on\n",
    "    non-negatve numbers, return the function x = f_1(y) that is an approximate\n",
    "    inverse, picking the closest value to the inverse, within delta.\"\"\"\n",
    "    \n",
    "def square(x): return x*x\n",
    "sqrt = slow_inverse(square)\n",
    "\n",
    "print sqrt(1000000000) "
   ]
  },
  {
   "cell_type": "code",
   "execution_count": null,
   "metadata": {},
   "outputs": [],
   "source": []
  }
 ],
 "metadata": {
  "kernelspec": {
   "display_name": "Python 2",
   "language": "python",
   "name": "python2"
  },
  "language_info": {
   "codemirror_mode": {
    "name": "ipython",
    "version": 2
   },
   "file_extension": ".py",
   "mimetype": "text/x-python",
   "name": "python",
   "nbconvert_exporter": "python",
   "pygments_lexer": "ipython2",
   "version": "2.7.15"
  }
 },
 "nbformat": 4,
 "nbformat_minor": 2
}
