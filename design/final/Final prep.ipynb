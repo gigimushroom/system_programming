{
 "cells": [
  {
   "cell_type": "markdown",
   "metadata": {},
   "source": [
    "# Scripts and Tooling"
   ]
  },
  {
   "cell_type": "code",
   "execution_count": 16,
   "metadata": {},
   "outputs": [
    {
     "name": "stdout",
     "output_type": "stream",
     "text": [
      "[3, 2, 1]\n",
      "cba\n",
      "word: abcd\n",
      "['', 'a', 'ab', 'abc']\n",
      "['', 'd', 'cd', 'bcd']\n"
     ]
    }
   ],
   "source": [
    "w = [1,2,3]\n",
    "print w[::-1]\n",
    "\n",
    "s = 'abc'\n",
    "print s[::-1]\n",
    "\n",
    "word = 'abcd'\n",
    "print 'word:', word\n",
    "def prefixes(word):\n",
    "    \"\"\"A list of the initial sequences of a word, not including the complete word.\"\"\"\n",
    "    return [word[:i] for i in range(len(word))]\n",
    "\n",
    "def suffixes(word):\n",
    "    \"\"\"not including the complete word.\"\"\"\n",
    "    return [word[len(word) - len(w):] for w in prefixes(word)]\n",
    "\n",
    "print prefixes(word)\n",
    "print suffixes(word)\n"
   ]
  },
  {
   "cell_type": "code",
   "execution_count": 3,
   "metadata": {},
   "outputs": [
    {
     "name": "stdout",
     "output_type": "stream",
     "text": [
      "<function bar at 0x10f8eb9b0>\n",
      "13\n"
     ]
    }
   ],
   "source": [
    "def foo(a, b):\n",
    "    def bar(x):\n",
    "        return a * x + b\n",
    "    return bar\n",
    "\n",
    "ff = foo(3, 4)\n",
    "print ff\n",
    "print ff(3)"
   ]
  },
  {
   "cell_type": "code",
   "execution_count": 22,
   "metadata": {},
   "outputs": [
    {
     "data": {
      "text/plain": [
       "'ELEPHANTOM'"
      ]
     },
     "execution_count": 22,
     "metadata": {},
     "output_type": "execute_result"
    }
   ],
   "source": [
    "'elephantom'.upper()"
   ]
  },
  {
   "cell_type": "code",
   "execution_count": 15,
   "metadata": {},
   "outputs": [
    {
     "name": "stdout",
     "output_type": "stream",
     "text": [
      "[0, 60, 57, 54, 51, 48, 45, 42, 40, 39, 38, 36, 34, 33, 32, 30, 28, 27, 26, 24, 22, 21, 20, 19, 18, 17, 16, 15, 14, 13, 12, 11, 10, 9, 8, 7, 6, 5, 4, 3, 2, 1]\n"
     ]
    }
   ],
   "source": [
    "# unit 5\n",
    "\n",
    "s = [i*3 for i in range(1, 21)]\n",
    "s.extend([i*2 for i in range(1, 21)])\n",
    "s.extend([i for i in range(1, 21)])\n",
    "s = sorted(set(s))\n",
    "s = s[::-1]\n",
    "s = [0] + s\n",
    "\n",
    "print s"
   ]
  },
  {
   "cell_type": "code",
   "execution_count": 19,
   "metadata": {},
   "outputs": [
    {
     "name": "stdout",
     "output_type": "stream",
     "text": [
      "SB\n",
      "T19\n",
      "D20\n"
     ]
    }
   ],
   "source": [
    "def name(d):\n",
    "  if d == 25:\n",
    "    return 'SB'\n",
    "  if d == 50:\n",
    "    return 'DB'\n",
    "  \n",
    "  if d % 3 == 0:\n",
    "    return 'T%s' % (d/3)\n",
    "  elif d % 2 == 0:\n",
    "    return 'D%s' % (d / 2)\n",
    "  else:\n",
    "    return '%s' % d\n",
    "\n",
    "\n",
    "print name(25)\n",
    "print name(57)\n",
    "print name(40)"
   ]
  },
  {
   "cell_type": "code",
   "execution_count": 22,
   "metadata": {},
   "outputs": [
    {
     "name": "stdout",
     "output_type": "stream",
     "text": [
      "[50, 40, 38, 36, 34, 32, 30, 28, 26, 24, 22, 20, 18, 16, 14, 12, 10, 8, 6, 4, 2]\n"
     ]
    }
   ],
   "source": [
    "# get doubles\n",
    "\n",
    "s = [i*2 for i in range(1, 21)]\n",
    "s.extend([50])\n",
    "s = sorted(set(s))\n",
    "s = s[::-1]\n",
    "\n",
    "print s"
   ]
  },
  {
   "cell_type": "code",
   "execution_count": 23,
   "metadata": {},
   "outputs": [
    {
     "data": {
      "text/plain": [
       "1.0"
      ]
     },
     "execution_count": 23,
     "metadata": {},
     "output_type": "execute_result"
    }
   ],
   "source": [
    "0.81 + 0.01 + 0.09 + 0.09"
   ]
  },
  {
   "cell_type": "code",
   "execution_count": null,
   "metadata": {},
   "outputs": [],
   "source": []
  }
 ],
 "metadata": {
  "kernelspec": {
   "display_name": "Python 2",
   "language": "python",
   "name": "python2"
  },
  "language_info": {
   "codemirror_mode": {
    "name": "ipython",
    "version": 2
   },
   "file_extension": ".py",
   "mimetype": "text/x-python",
   "name": "python",
   "nbconvert_exporter": "python",
   "pygments_lexer": "ipython2",
   "version": "2.7.15"
  }
 },
 "nbformat": 4,
 "nbformat_minor": 2
}
