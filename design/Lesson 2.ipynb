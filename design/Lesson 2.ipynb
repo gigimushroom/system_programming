{
 "cells": [
  {
   "cell_type": "markdown",
   "metadata": {},
   "source": [
    "## Solution"
   ]
  },
  {
   "cell_type": "code",
   "execution_count": 1,
   "metadata": {},
   "outputs": [
    {
     "data": {
      "text/plain": [
       "(1, 5)"
      ]
     },
     "execution_count": 1,
     "metadata": {},
     "output_type": "execute_result"
    }
   ],
   "source": [
    "import itertools\n",
    "\n",
    "def imright(h1, h2):\n",
    "    \"House h1 is immediately right of h2 if h1-h2 == 1.\"\n",
    "    return h1-h2 == 1\n",
    "\n",
    "def nextto(h1, h2):\n",
    "    \"Two houses are next to each other if they differ by 1.\"\n",
    "    return abs(h1-h2) == 1\n",
    "\n",
    "def zebra_puzzle():\n",
    "    \"Return a tuple (WATER, ZEBRA indicating their house numbers.\"\n",
    "    houses = first, _, middle, _, _ = [1, 2, 3, 4, 5]\n",
    "    orderings = list(itertools.permutations(houses)) # 1\n",
    "    return next((WATER, ZEBRA)\n",
    "                for (red, green, ivory, yellow, blue) in orderings\n",
    "                if imright(green, ivory)\n",
    "                for (Englishman, Spaniard, Ukranian, Japanese, Norwegian) in orderings\n",
    "                if Englishman is red\n",
    "                if Norwegian is first\n",
    "                if nextto(Norwegian, blue)\n",
    "                for (coffee, tea, milk, oj, WATER) in orderings\n",
    "                if coffee is green\n",
    "                if Ukranian is tea\n",
    "                if milk is middle\n",
    "                for (OldGold, Kools, Chesterfields, LuckyStrike, Parliaments) in orderings\n",
    "                if Kools is yellow\n",
    "                if LuckyStrike is oj\n",
    "                if Japanese is Parliaments\n",
    "                for (dog, snails, fox, horse, ZEBRA) in orderings\n",
    "                if Spaniard is dog\n",
    "                if OldGold is snails\n",
    "                if nextto(Chesterfields, fox)\n",
    "                if nextto(Kools, horse)\n",
    "                )\n",
    "zebra_puzzle()"
   ]
  },
  {
   "cell_type": "markdown",
   "metadata": {},
   "source": [
    "## Generator Expressions"
   ]
  },
  {
   "cell_type": "markdown",
   "metadata": {},
   "source": [
    "### Benefits of using generator"
   ]
  },
  {
   "cell_type": "markdown",
   "metadata": {},
   "source": [
    "1. Less indentation\n",
    "2. Stop early\n",
    "3. Easier to edit"
   ]
  },
  {
   "cell_type": "markdown",
   "metadata": {},
   "source": [
    "## Star Args\n",
    "Packing and unpacking"
   ]
  },
  {
   "cell_type": "code",
   "execution_count": 2,
   "metadata": {},
   "outputs": [
    {
     "name": "stdout",
     "output_type": "stream",
     "text": [
      "(1, 2, 3)\n"
     ]
    }
   ],
   "source": [
    "def foo(a,b,c):\n",
    "    return a,b,c\n",
    "def bar(fn, *args):\n",
    "    print fn(*args)\n",
    "    \n",
    "bar(foo, 1, 2, 3)"
   ]
  },
  {
   "cell_type": "markdown",
   "metadata": {},
   "source": [
    "## Timed Calls\n",
    "\n",
    "Call fn(*args) repeatedly: \n",
    "\n",
    "n times if n is an int, or up to n seconds if n is a float; \n",
    "\n",
    "return the min, avg, and max time"
   ]
  },
  {
   "cell_type": "code",
   "execution_count": 7,
   "metadata": {},
   "outputs": [
    {
     "name": "stdout",
     "output_type": "stream",
     "text": [
      "float (0.00010599999999882925, 0.00011473508490132286, 0.001094999999999402)\n",
      "int (0.00010900000000191312, 0.00030689999999964355, 0.0007200000000011642)\n"
     ]
    }
   ],
   "source": [
    "# ----------------\n",
    "# User Instructions\n",
    "#\n",
    "# Modify the timedcalls(n, fn, *args) function so that it calls \n",
    "# fn(*args) repeatedly. It should call fn n times if n is an integer\n",
    "# and up to n seconds if n is a floating point number.\n",
    "\n",
    "import itertools\n",
    "\n",
    "def imright(h1, h2):\n",
    "    \"House h1 is immediately right of h2 if h1-h2 == 1.\"\n",
    "    return h1-h2 == 1\n",
    "\n",
    "def nextto(h1, h2):\n",
    "    \"Two houses are next to each other if they differ by 1.\"\n",
    "    return abs(h1-h2) == 1\n",
    "\n",
    "def zebra_puzzle():\n",
    "    \"Return a tuple (WATER, ZEBRA indicating their house numbers.\"\n",
    "    houses = first, _, middle, _, _ = [1, 2, 3, 4, 5]\n",
    "    orderings = list(itertools.permutations(houses)) # 1\n",
    "    return next((WATER, ZEBRA)\n",
    "                for (red, green, ivory, yellow, blue) in orderings\n",
    "                if imright(green, ivory)\n",
    "                for (Englishman, Spaniard, Ukranian, Japanese, Norwegian) in orderings\n",
    "                if Englishman is red\n",
    "                if Norwegian is first\n",
    "                if nextto(Norwegian, blue)\n",
    "                for (coffee, tea, milk, oj, WATER) in orderings\n",
    "                if coffee is green\n",
    "                if Ukranian is tea\n",
    "                if milk is middle\n",
    "                for (OldGold, Kools, Chesterfields, LuckyStrike, Parliaments) in orderings\n",
    "                if Kools is yellow\n",
    "                if LuckyStrike is oj\n",
    "                if Japanese is Parliaments\n",
    "                for (dog, snails, fox, horse, ZEBRA) in orderings\n",
    "                if Spaniard is dog\n",
    "                if OldGold is snails\n",
    "                if nextto(Chesterfields, fox)\n",
    "                if nextto(Kools, horse)\n",
    "                )\n",
    "\n",
    "import time\n",
    "\n",
    "def timedcall(fn, *args):\n",
    "    \"Call function with args; return the time in seconds and result.\"\n",
    "    t0 = time.clock()\n",
    "    result = fn(*args)\n",
    "    t1 = time.clock()\n",
    "    return t1-t0, result\n",
    "\n",
    "def average(numbers):\n",
    "    \"Return the average (arithmetic mean) of a sequence of numbers.\"\n",
    "    return sum(numbers) / float(len(numbers)) \n",
    "\n",
    "def timedcalls(n, fn, *args):\n",
    "    \"\"\"Call fn(*args) repeatedly: n times if n is an int, or up to\n",
    "    n seconds if n is a float; return the min, avg, and max time\"\"\"\n",
    "    # Your code here.\n",
    "    times = []\n",
    "    if isinstance(n, int):\n",
    "        times = [timedcall(fn, *args)[0] for _ in range(n)]\n",
    "        \n",
    "    elif isinstance(n, float):\n",
    "        while sum(times) <= n:\n",
    "          time,_ = timedcall(fn, *args)\n",
    "          times.append(time)\n",
    "            \n",
    "    return min(times), average(times), max(times)\n",
    "\n",
    "print 'float', timedcalls(3.00, zebra_puzzle)\n",
    "print 'int', timedcalls(10, zebra_puzzle)"
   ]
  },
  {
   "cell_type": "markdown",
   "metadata": {},
   "source": [
    "## Add debugging instruments"
   ]
  },
  {
   "cell_type": "code",
   "execution_count": 9,
   "metadata": {},
   "outputs": [
    {
     "ename": "NameError",
     "evalue": "global name 'c' is not defined",
     "output_type": "error",
     "traceback": [
      "\u001b[0;31m---------------------------------------------------------------------------\u001b[0m",
      "\u001b[0;31mNameError\u001b[0m                                 Traceback (most recent call last)",
      "\u001b[0;32m<ipython-input-9-72f8371e32bd>\u001b[0m in \u001b[0;36m<module>\u001b[0;34m()\u001b[0m\n\u001b[1;32m     40\u001b[0m     \u001b[0;32mprint\u001b[0m \u001b[0;34m'%s got %s with %5d iters over %7d items'\u001b[0m \u001b[0;34m%\u001b[0m \u001b[0;34m(\u001b[0m\u001b[0mfn\u001b[0m\u001b[0;34m.\u001b[0m\u001b[0m__name__\u001b[0m\u001b[0;34m,\u001b[0m \u001b[0mresult\u001b[0m\u001b[0;34m,\u001b[0m \u001b[0mc\u001b[0m\u001b[0;34m.\u001b[0m\u001b[0mstarts\u001b[0m\u001b[0;34m,\u001b[0m \u001b[0mc\u001b[0m\u001b[0;34m.\u001b[0m\u001b[0mitems\u001b[0m\u001b[0;34m)\u001b[0m\u001b[0;34m\u001b[0m\u001b[0m\n\u001b[1;32m     41\u001b[0m \u001b[0;34m\u001b[0m\u001b[0m\n\u001b[0;32m---> 42\u001b[0;31m \u001b[0minstruments_fn\u001b[0m\u001b[0;34m(\u001b[0m\u001b[0mzebra_puzzle\u001b[0m\u001b[0;34m)\u001b[0m\u001b[0;34m\u001b[0m\u001b[0m\n\u001b[0m",
      "\u001b[0;32m<ipython-input-9-72f8371e32bd>\u001b[0m in \u001b[0;36minstruments_fn\u001b[0;34m(fn, *args)\u001b[0m\n\u001b[1;32m     36\u001b[0m \u001b[0;34m\u001b[0m\u001b[0m\n\u001b[1;32m     37\u001b[0m \u001b[0;32mdef\u001b[0m \u001b[0minstruments_fn\u001b[0m\u001b[0;34m(\u001b[0m\u001b[0mfn\u001b[0m\u001b[0;34m,\u001b[0m \u001b[0;34m*\u001b[0m\u001b[0margs\u001b[0m\u001b[0;34m)\u001b[0m\u001b[0;34m:\u001b[0m\u001b[0;34m\u001b[0m\u001b[0m\n\u001b[0;32m---> 38\u001b[0;31m     \u001b[0mc\u001b[0m\u001b[0;34m.\u001b[0m\u001b[0mstarts\u001b[0m\u001b[0;34m,\u001b[0m \u001b[0mc\u001b[0m\u001b[0;34m.\u001b[0m\u001b[0mitems\u001b[0m \u001b[0;34m=\u001b[0m \u001b[0;36m0\u001b[0m\u001b[0;34m,\u001b[0m \u001b[0;36m0\u001b[0m\u001b[0;34m\u001b[0m\u001b[0m\n\u001b[0m\u001b[1;32m     39\u001b[0m     \u001b[0mresult\u001b[0m \u001b[0;34m=\u001b[0m \u001b[0mfn\u001b[0m\u001b[0;34m(\u001b[0m\u001b[0;34m*\u001b[0m\u001b[0margs\u001b[0m\u001b[0;34m)\u001b[0m\u001b[0;34m\u001b[0m\u001b[0m\n\u001b[1;32m     40\u001b[0m     \u001b[0;32mprint\u001b[0m \u001b[0;34m'%s got %s with %5d iters over %7d items'\u001b[0m \u001b[0;34m%\u001b[0m \u001b[0;34m(\u001b[0m\u001b[0mfn\u001b[0m\u001b[0;34m.\u001b[0m\u001b[0m__name__\u001b[0m\u001b[0;34m,\u001b[0m \u001b[0mresult\u001b[0m\u001b[0;34m,\u001b[0m \u001b[0mc\u001b[0m\u001b[0;34m.\u001b[0m\u001b[0mstarts\u001b[0m\u001b[0;34m,\u001b[0m \u001b[0mc\u001b[0m\u001b[0;34m.\u001b[0m\u001b[0mitems\u001b[0m\u001b[0;34m)\u001b[0m\u001b[0;34m\u001b[0m\u001b[0m\n",
      "\u001b[0;31mNameError\u001b[0m: global name 'c' is not defined"
     ]
    }
   ],
   "source": [
    "import itertools\n",
    "\n",
    "def imright(h1, h2):\n",
    "    \"House h1 is immediately right of h2 if h1-h2 == 1.\"\n",
    "    return h1-h2 == 1\n",
    "\n",
    "def nextto(h1, h2):\n",
    "    \"Two houses are next to each other if they differ by 1.\"\n",
    "    return abs(h1-h2) == 1\n",
    "\n",
    "def zebra_puzzle():\n",
    "    \"Return a tuple (WATER, ZEBRA indicating their house numbers.\"\n",
    "    houses = first, _, middle, _, _ = [1, 2, 3, 4, 5]\n",
    "    orderings = list(itertools.permutations(houses)) # 1\n",
    "    return next((WATER, ZEBRA)\n",
    "                for (red, green, ivory, yellow, blue) in c(orderings)\n",
    "                if imright(green, ivory)\n",
    "                for (Englishman, Spaniard, Ukranian, Japanese, Norwegian) in c(orderings)\n",
    "                if Englishman is red\n",
    "                if Norwegian is first\n",
    "                if nextto(Norwegian, blue)\n",
    "                for (coffee, tea, milk, oj, WATER) in c(orderings)\n",
    "                if coffee is green\n",
    "                if Ukranian is tea\n",
    "                if milk is middle\n",
    "                for (OldGold, Kools, Chesterfields, LuckyStrike, Parliaments) in c(orderings)\n",
    "                if Kools is yellow\n",
    "                if LuckyStrike is oj\n",
    "                if Japanese is Parliaments\n",
    "                for (dog, snails, fox, horse, ZEBRA) in c(orderings)\n",
    "                if Spaniard is dog\n",
    "                if OldGold is snails\n",
    "                if nextto(Chesterfields, fox)\n",
    "                if nextto(Kools, horse)\n",
    "                )\n",
    "\n",
    "def instruments_fn(fn, *args):\n",
    "    c.starts, c.items = 0, 0\n",
    "    result = fn(*args)\n",
    "    print '%s got %s with %5d iters over %7d items' % (fn.__name__, result, c.starts, c.items)\n",
    "\n",
    "instruments_fn(zebra_puzzle)"
   ]
  },
  {
   "cell_type": "code",
   "execution_count": null,
   "metadata": {},
   "outputs": [],
   "source": []
  }
 ],
 "metadata": {
  "kernelspec": {
   "display_name": "Python 2",
   "language": "python",
   "name": "python2"
  },
  "language_info": {
   "codemirror_mode": {
    "name": "ipython",
    "version": 2
   },
   "file_extension": ".py",
   "mimetype": "text/x-python",
   "name": "python",
   "nbconvert_exporter": "python",
   "pygments_lexer": "ipython2",
   "version": "2.7.15"
  }
 },
 "nbformat": 4,
 "nbformat_minor": 2
}
