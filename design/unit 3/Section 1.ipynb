{
 "cells": [
  {
   "cell_type": "markdown",
   "metadata": {},
   "source": [
    "## Regex Review"
   ]
  },
  {
   "cell_type": "markdown",
   "metadata": {},
   "source": [
    "re.search\n",
    "\n",
    "re.findall\n",
    "\n",
    "re.split"
   ]
  },
  {
   "cell_type": "markdown",
   "metadata": {},
   "source": [
    "![regex symbol](../img/regex_sym.png \"regex\")"
   ]
  },
  {
   "cell_type": "markdown",
   "metadata": {},
   "source": [
    "![regex](../img/regex2.png \"\")"
   ]
  },
  {
   "cell_type": "code",
   "execution_count": 1,
   "metadata": {},
   "outputs": [],
   "source": [
    "def search(pattern, text):\n",
    "    \"\"\"Return true if pattern appears anywhere in text\n",
    "\t   Please fill in the match(          , text) below.\n",
    "\t   For example, match(your_code_here, text)\"\"\"\n",
    "    if pattern.startswith('^'):\n",
    "        return match(pattern[1:], text) # fill this line\n",
    "    else:\n",
    "        return match('.*'+pattern, text) # fill this line"
   ]
  },
  {
   "cell_type": "markdown",
   "metadata": {},
   "source": [
    "## How to insert img to jupyter\n",
    "`![alt text](imagename.png \"Title\")`"
   ]
  },
  {
   "cell_type": "markdown",
   "metadata": {},
   "source": [
    "## regex $"
   ]
  },
  {
   "cell_type": "code",
   "execution_count": 5,
   "metadata": {},
   "outputs": [
    {
     "name": "stdout",
     "output_type": "stream",
     "text": [
      "Yes, the string ends with ''\n",
      "Yes, the string ends with 'words'\n"
     ]
    }
   ],
   "source": [
    "import re\n",
    "\n",
    "txt = \"\"\n",
    "\n",
    "#Check if the string ends with '':\n",
    "\n",
    "x = re.match(\"$\", txt)\n",
    "if (x):\n",
    "  print(\"Yes, the string ends with ''\")\n",
    "else:\n",
    "  print(\"No match\")\n",
    "\n",
    "txt = \"words\"\n",
    "\n",
    "\n",
    "#Check if the string ends with 'words':\n",
    "x = re.match(\"words$\", txt)\n",
    "if (x):\n",
    "  print(\"Yes, the string ends with 'words'\")\n",
    "else:\n",
    "  print(\"No match\")"
   ]
  },
  {
   "cell_type": "markdown",
   "metadata": {},
   "source": [
    "If the pattern is `$` only, means ends with '', we found match if input is empty string."
   ]
  },
  {
   "cell_type": "markdown",
   "metadata": {},
   "source": [
    "# Full regular expression matcher impl"
   ]
  },
  {
   "cell_type": "code",
   "execution_count": 3,
   "metadata": {},
   "outputs": [
    {
     "name": "stdout",
     "output_type": "stream",
     "text": [
      "Test Passed.\n"
     ]
    }
   ],
   "source": [
    "def search(pattern, text):\n",
    "    \"\"\"Return true if pattern appears anywhere in text\n",
    "\t   Please fill in the match(          , text) below.\n",
    "\t   For example, match(your_code_here, text)\"\"\"\n",
    "    if pattern.startswith('^'):\n",
    "        return match(pattern[1:], text) # fill this line\n",
    "    else:\n",
    "        return match('.*'+pattern, text) # fill this line\n",
    "    \n",
    "def match(pattern, text):\n",
    "    \"\"\"\n",
    "    Return True if pattern appears at the start of text\n",
    "    \n",
    "    Please fill in the last line in this program.\n",
    "    Namely: match( , )\n",
    "\n",
    "    We'll explain how we came to the code for the condition:\n",
    "    elif len(pattern) > 1 and pattern[1] in '*?' in the next video lecture\n",
    "    \"\"\"\n",
    "\n",
    "    if pattern == '':\n",
    "        return True\n",
    "    elif pattern == '$':\n",
    "        return (text == '')\n",
    "    elif len(pattern) > 1 and pattern[1] in '*?':\n",
    "        p, op, pat = pattern[0], pattern[1], pattern[2:]\n",
    "        if op == '*':\n",
    "            return match_star(p, pat, text)\n",
    "        elif op == '?':\n",
    "            if match1(p, text) and match(pat, text[1:]):\n",
    "                return True\n",
    "            else:\n",
    "                return match(pat, text)\n",
    "    else:\n",
    "        return (match1(pattern[0], text) and\n",
    "                match(pattern[1:], text[1:])) # fill in this line\n",
    "    \n",
    "def match1(pattern, text):\n",
    "    # '.' matches anything, so we need to consider it. Otherwise, check 1st char.\n",
    "    if not text:\n",
    "        return False\n",
    "    return pattern == '.' or pattern == text[0]\n",
    "\n",
    "def match_star(p, pattern, text):\n",
    "    return (match1(p, text) and match_star(p, pattern, text[1:])) or match(pattern, text)\n",
    "\n",
    "def test():\n",
    "    assert(search('baa*!', 'Sheep said baaaa!'))\n",
    "    assert(search('def$', 'abcdef'))\n",
    "    assert(search('x?', 'text'))\n",
    "    assert(search('text?', 'text'))\n",
    "    print 'Test Passed.'\n",
    "    \n",
    "test()"
   ]
  },
  {
   "cell_type": "markdown",
   "metadata": {},
   "source": [
    "![all tests](../img/all_tests_cases.png \"tests\")"
   ]
  },
  {
   "cell_type": "markdown",
   "metadata": {},
   "source": [
    "https://www.cs.princeton.edu/courses/archive/spr09/cos333/beautiful.html"
   ]
  },
  {
   "cell_type": "markdown",
   "metadata": {},
   "source": [
    "```\n",
    "    c    matches any literal character c\n",
    "    .    matches any single character\n",
    "    ^    matches the beginning of the input string\n",
    "    $    matches the end of the input string\n",
    "    *    matches zero or more occurrences of the previous character\n",
    "```"
   ]
  },
  {
   "cell_type": "markdown",
   "metadata": {},
   "source": [
    "```c\n",
    "    /* match: search for regexp anywhere in text */\n",
    "    int match(char *regexp, char *text)\n",
    "    {\n",
    "        if (regexp[0] == '^')\n",
    "            return matchhere(regexp+1, text);\n",
    "        do {    /* must look even if string is empty */\n",
    "            if (matchhere(regexp, text))\n",
    "                return 1;\n",
    "        } while (*text++ != '\\0');\n",
    "        return 0;\n",
    "    }\n",
    "\n",
    "    /* matchhere: search for regexp at beginning of text */\n",
    "    int matchhere(char *regexp, char *text)\n",
    "    {\n",
    "        if (regexp[0] == '\\0')\n",
    "            return 1;\n",
    "        if (regexp[1] == '*')\n",
    "            return matchstar(regexp[0], regexp+2, text);\n",
    "        if (regexp[0] == '$' && regexp[1] == '\\0')\n",
    "            return *text == '\\0';\n",
    "        if (*text!='\\0' && (regexp[0]=='.' || regexp[0]==*text))\n",
    "            return matchhere(regexp+1, text+1);\n",
    "        return 0;\n",
    "    }\n",
    "\n",
    "    /* matchstar: search for c*regexp at beginning of text */\n",
    "    int matchstar(int c, char *regexp, char *text)\n",
    "    {\n",
    "        do {    /* a * matches zero or more instances */\n",
    "            if (matchhere(regexp, text))\n",
    "                return 1;\n",
    "        } while (*text != '\\0' && (*text++ == c || c == '.'));\n",
    "        return 0;\n",
    "    }\n",
    " ```"
   ]
  },
  {
   "cell_type": "markdown",
   "metadata": {},
   "source": [
    "## MatchSet"
   ]
  },
  {
   "cell_type": "code",
   "execution_count": 3,
   "metadata": {},
   "outputs": [
    {
     "name": "stdout",
     "output_type": "stream",
     "text": [
      "tests pass\n"
     ]
    }
   ],
   "source": [
    "# The function, matchset, takes a pattern and a text as input\n",
    "# and returns a set of remainders. For example, if matchset \n",
    "# were called with the pattern star(lit(a)) and the text \n",
    "# 'aaab', matchset would return a set with elements \n",
    "# {'aaab', 'aab', 'ab', 'b'}, since a* can consume one, two\n",
    "# or all three of the a's in the text.\n",
    "#\n",
    "# Your job is to complete this function by filling in the \n",
    "# 'dot' and 'oneof' operators to return the correct set of \n",
    "# remainders.\n",
    "#\n",
    "# dot:   matches any character.\n",
    "# oneof: matches any of the characters in the string it is \n",
    "#        called with. oneof('abc') will match a or b or c.\n",
    "\n",
    "def matchset(pattern, text):\n",
    "    \"Match pattern at start of text; return a set of remainders of text.\"\n",
    "    op, x, y = components(pattern)\n",
    "    if 'lit' == op:\n",
    "        return set([text[len(x):]]) if text.startswith(x) else null\n",
    "    elif 'seq' == op:\n",
    "        return set(t2 for t1 in matchset(x, text) for t2 in matchset(y, t1))\n",
    "    elif 'alt' == op:\n",
    "        return matchset(x, text) | matchset(y, text)\n",
    "    elif 'dot' == op:\n",
    "        # x, y all None\n",
    "        return set([text[1:]]) if text else null # your code here\n",
    "    elif 'oneof' == op:\n",
    "        # x is ('a', 'b', c). Find match if x begins with any one of them.\n",
    "        return set([text[1:]]) if text.startswith(x) else null # your code here\n",
    "    elif 'eol' == op:\n",
    "        return set(['']) if text == '' else null\n",
    "    elif 'star' == op:\n",
    "        return (set([text]) |\n",
    "                set(t2 for t1 in matchset(x, text)\n",
    "                    for t2 in matchset(pattern, t1) if t1 != text))\n",
    "    else:\n",
    "        raise ValueError('unknown pattern: %s' % pattern)\n",
    "        \n",
    "null = frozenset()\n",
    "\n",
    "def components(pattern):\n",
    "    \"Return the op, x, and y arguments; x and y are None if missing.\"\n",
    "    x = pattern[1] if len(pattern) > 1 else None\n",
    "    y = pattern[2] if len(pattern) > 2 else None\n",
    "    return pattern[0], x, y\n",
    "   \n",
    "def test():\n",
    "    assert matchset(('lit', 'abc'), 'abcdef')            == set(['def'])\n",
    "    assert matchset(('seq', ('lit', 'hi '),\n",
    "                     ('lit', 'there ')), \n",
    "                   'hi there nice to meet you')          == set(['nice to meet you'])\n",
    "    assert matchset(('alt', ('lit', 'dog'), \n",
    "                    ('lit', 'cat')), 'dog and cat')      == set([' and cat'])\n",
    "    assert matchset(('dot',), 'am i missing something?') == set(['m i missing something?'])\n",
    "    assert matchset(('oneof', 'a'), 'aabc123')           == set(['abc123'])\n",
    "    assert matchset(('eol',),'')                         == set([''])\n",
    "    assert matchset(('eol',),'not end of line')          == frozenset([])\n",
    "    assert matchset(('star', ('lit', 'hey')), 'heyhey!') == set(['!', 'heyhey!', 'hey!'])\n",
    "    \n",
    "    return 'tests pass'\n",
    "\n",
    "print test()\n"
   ]
  },
  {
   "cell_type": "markdown",
   "metadata": {},
   "source": [
    "### `startswith` can take in a tuple"
   ]
  },
  {
   "cell_type": "markdown",
   "metadata": {},
   "source": [
    "https://docs.python.org/3/library/stdtypes.html?highlight=startswith#str.startswith\n",
    "```\n",
    "str.startswith(prefix[, start[, end]])\n",
    "Return True if string starts with the prefix, otherwise return False. prefix can also be a tuple of prefixes to look for. With optional start, test string beginning at that position. With optional end, stop comparing string at that position.\n",
    "```"
   ]
  },
  {
   "cell_type": "markdown",
   "metadata": {},
   "source": [
    "#### Prefix can also be a tuple of prefixes to look for\n",
    "```\n",
    "elif 'oneof' == op:\n",
    "    # x is ('a', 'b', c). Find match if x begins with any one of them.\n",
    "    return set([text[1:]]) if text.startswith(x) else null # your code here\n",
    "```\n",
    "\n",
    "#### Alternatively we can just use:\n",
    "```\n",
    "any(text.startswith(c) for c in x)\n",
    "```"
   ]
  },
  {
   "cell_type": "markdown",
   "metadata": {},
   "source": [
    "## alt, star, plus, and eol."
   ]
  },
  {
   "cell_type": "code",
   "execution_count": 6,
   "metadata": {},
   "outputs": [
    {
     "name": "stdout",
     "output_type": "stream",
     "text": [
      "tests pass\n"
     ]
    }
   ],
   "source": [
    "#---------------\n",
    "# User Instructions\n",
    "#\n",
    "# Fill out the API by completing the entries for alt, \n",
    "# star, plus, and eol.\n",
    "\n",
    "\n",
    "def lit(string):  return ('lit', string)\n",
    "def seq(x, y):    return ('seq', x, y)\n",
    "\n",
    "def alt(x, y):    return ('alt', x, y)\n",
    "    \n",
    "def star(x):      return ('star', x)\n",
    "\n",
    "def plus(x):      return ('seq', x, star(x))\n",
    "def opt(x):       return alt(lit(''), x) #opt(x) means that x is optional\n",
    "def oneof(chars): return ('oneof', tuple(chars))\n",
    "dot = ('dot',)\n",
    "eol = ('eol',)\n",
    "\n",
    "def test():\n",
    "    assert lit('abc')         == ('lit', 'abc')\n",
    "    assert seq(('lit', 'a'), \n",
    "               ('lit', 'b'))  == ('seq', ('lit', 'a'), ('lit', 'b'))\n",
    "    assert alt(('lit', 'a'), ('lit', 'b'))  == ('alt', ('lit', 'a'), ('lit', 'b'))\n",
    "    assert star(('lit', 'a')) == ('star', ('lit', 'a'))\n",
    "    assert plus(('lit', 'c')) == ('seq', ('lit', 'c'), ('star', ('lit', 'c')))\n",
    "    assert opt(('lit', 'x'))  == ('alt', ('lit', ''), ('lit', 'x'))\n",
    "    assert oneof('abc')       == ('oneof', ('a', 'b', 'c'))\n",
    "    return 'tests pass'\n",
    "\n",
    "print test()"
   ]
  },
  {
   "cell_type": "markdown",
   "metadata": {},
   "source": [
    "# Final Version: `search` and `match` now use `matchset`"
   ]
  },
  {
   "cell_type": "code",
   "execution_count": 23,
   "metadata": {},
   "outputs": [
    {
     "name": "stdout",
     "output_type": "stream",
     "text": [
      "tests pass\n"
     ]
    }
   ],
   "source": [
    "#---------------\n",
    "# User Instructions\n",
    "#\n",
    "# Complete the search and match functions. Match should\n",
    "# match a pattern only at the start of the text. Search\n",
    "# should match anywhere in the text.\n",
    "\n",
    "def search(pattern, text):\n",
    "    \"Match pattern anywhere in text; return longest earliest match or None.\"\n",
    "    for i in range(len(text)):\n",
    "        m = match(pattern, text[i:])\n",
    "        # Check m with None since empty string is also considered as result.\n",
    "        if m is not None: # your code here\n",
    "            return m\n",
    "        \n",
    "def match(pattern, text):\n",
    "    \"Match pattern against start of text; return longest match found or None.\"\n",
    "    remainders = matchset(pattern, text)\n",
    "    if remainders:\n",
    "        shortest = min(remainders, key=len)\n",
    "        # Cut the reminder, return the result. \n",
    "        return text[:len(text) - len(shortest)] # your code here\n",
    "    \n",
    "def components(pattern):\n",
    "    \"Return the op, x, and y arguments; x and y are None if missing.\"\n",
    "    x = pattern[1] if len(pattern) > 1 else None\n",
    "    y = pattern[2] if len(pattern) > 2 else None\n",
    "    return pattern[0], x, y\n",
    "\n",
    "def matchset(pattern, text):\n",
    "    \"Match pattern at start of text; return a set of remainders of text.\"\n",
    "    op, x, y = components(pattern)\n",
    "    if 'lit' == op:\n",
    "        return set([text[len(x):]]) if text.startswith(x) else null\n",
    "    elif 'seq' == op:\n",
    "        return set(t2 for t1 in matchset(x, text) for t2 in matchset(y, t1))\n",
    "    elif 'alt' == op:\n",
    "        return matchset(x, text) | matchset(y, text)\n",
    "    elif 'dot' == op:\n",
    "        return set([text[1:]]) if text else null\n",
    "    elif 'oneof' == op:\n",
    "        return set([text[1:]]) if text.startswith(x) else null\n",
    "    elif 'eol' == op:\n",
    "        return set(['']) if text == '' else null\n",
    "    elif 'star' == op:\n",
    "        return (set([text]) |\n",
    "                set(t2 for t1 in matchset(x, text)\n",
    "                    for t2 in matchset(pattern, t1) if t1 != text))\n",
    "    else:\n",
    "        raise ValueError('unknown pattern: %s' % pattern)\n",
    "    \n",
    "null = frozenset()\n",
    "\n",
    "def lit(string):  return ('lit', string)\n",
    "def seq(x, y):    return ('seq', x, y)\n",
    "def alt(x, y):    return ('alt', x, y)\n",
    "def star(x):      return ('star', x)\n",
    "def plus(x):      return seq(x, star(x))\n",
    "def opt(x):       return alt(lit(''), x)\n",
    "def oneof(chars): return ('oneof', tuple(chars))\n",
    "dot = ('dot',)\n",
    "eol = ('eol',)\n",
    "\n",
    "def test():\n",
    "    assert match(('star', ('lit', 'a')),'aaabcd') == 'aaa'\n",
    "    assert match(('alt', ('lit', 'b'), ('lit', 'c')), 'ab') == None\n",
    "    assert match(('alt', ('lit', 'b'), ('lit', 'a')), 'ab') == 'a'\n",
    "    assert search(('alt', ('lit', 'b'), ('lit', 'c')), 'ab') == 'b'\n",
    "    return 'tests pass'\n",
    "\n",
    "print test()"
   ]
  },
  {
   "cell_type": "markdown",
   "metadata": {},
   "source": [
    "### Empty string is treated as False in python"
   ]
  },
  {
   "cell_type": "code",
   "execution_count": 37,
   "metadata": {},
   "outputs": [
    {
     "name": "stdout",
     "output_type": "stream",
     "text": [
      "emtpy string is False\n"
     ]
    }
   ],
   "source": [
    "m = \"\"\n",
    "if m:\n",
    "    print 'emtpy string is True'\n",
    "else:\n",
    "    print \"emtpy string is False\" # This is output"
   ]
  },
  {
   "cell_type": "markdown",
   "metadata": {},
   "source": [
    "### Test regex built-in functions for empty string"
   ]
  },
  {
   "cell_type": "code",
   "execution_count": 36,
   "metadata": {},
   "outputs": [
    {
     "name": "stdout",
     "output_type": "stream",
     "text": [
      "found\n",
      "found\n"
     ]
    }
   ],
   "source": [
    "import re\n",
    "\n",
    "m = re.search(\"mum\", \"where is my mum\")\n",
    "print \"found\" if m else \"Not found\"\n",
    "\n",
    "# Test empty string\n",
    "m = re.search(\"\", \"\")\n",
    "print \"found\" if m else \"Not found\""
   ]
  },
  {
   "cell_type": "markdown",
   "metadata": {},
   "source": [
    "# Simple Compilers"
   ]
  },
  {
   "cell_type": "code",
   "execution_count": 38,
   "metadata": {},
   "outputs": [
    {
     "name": "stdout",
     "output_type": "stream",
     "text": [
      "test passes\n"
     ]
    }
   ],
   "source": [
    "#----------------\n",
    "# User Instructions\n",
    "#\n",
    "# Write the compiler for alt(x, y) in the same way that we \n",
    "# wrote the compiler for lit(s) and seq(x, y). \n",
    "\n",
    "'''\n",
    "def matchset(pattern, text):\n",
    "    op, x, y = components(pattern)\n",
    "    if 'lit' == op:\n",
    "        return set([text[len(x):]]) if text.startswith(x) else null\n",
    "    elif 'seq' == op:\n",
    "        return set(t2 for t1 in matchset(x, text) for t2 in matchset(y, t1))\n",
    "    elif 'alt' == op:\n",
    "        return matchset(x, text) | matchset(y, text)\n",
    "'''\n",
    "\n",
    "def lit(s): return lambda text: set([text[len(s):]]) if text.startswith(s) else null\n",
    "\n",
    "def seq(x, y): return lambda text: set().union(*map(y, x(text)))\n",
    "\n",
    "def alt(x, y): \n",
    "    return lambda text: x(text) | y(text)\n",
    "    # your code here\n",
    "        \n",
    "null = frozenset([])\n",
    "\n",
    "def test():\n",
    "    g = alt(lit('a'), lit('b'))\n",
    "    assert g('abc') == set(['bc'])\n",
    "    return 'test passes'\n",
    "\n",
    "print test()"
   ]
  },
  {
   "cell_type": "code",
   "execution_count": 39,
   "metadata": {},
   "outputs": [
    {
     "name": "stdout",
     "output_type": "stream",
     "text": [
      "tests pass\n"
     ]
    }
   ],
   "source": [
    "# --------------\n",
    "# User Instructions\n",
    "#\n",
    "# Fill out the function match(pattern, text), so that \n",
    "# remainders is properly assigned. \n",
    "\n",
    "def match(pattern, text):\n",
    "    \"Match pattern against start of text; return longest match found or None.\"\n",
    "    remainders = pattern(text) # your code here.\n",
    "    if remainders:\n",
    "        shortest = min(remainders, key=len)\n",
    "        return text[:len(text)-len(shortest)]\n",
    "    \n",
    "def lit(s): return lambda t: set([t[len(s):]]) if t.startswith(s) else null\n",
    "def seq(x, y): return lambda t: set().union(*map(y, x(t)))\n",
    "def alt(x, y): return lambda t: x(t) | y(t)\n",
    "def oneof(chars): return lambda t: set([t[1:]]) if (t and t[0] in chars) else null\n",
    "dot = lambda t: set([t[1:]]) if t else null\n",
    "eol = lambda t: set(['']) if t == '' else null\n",
    "def star(x): return lambda t: (set([t]) | \n",
    "                               set(t2 for t1 in x(t) if t1 != t\n",
    "                                   for t2 in star(x)(t1)))\n",
    "\n",
    "null = frozenset([])\n",
    "\n",
    "def test():\n",
    "    assert match(star(lit('a')), 'aaaaabbbaa') == 'aaaaa'\n",
    "    assert match(lit('hello'), 'hello how are you?') == 'hello'\n",
    "    assert match(lit('x'), 'hello how are you?') == None\n",
    "    assert match(oneof('xyz'), 'x**2 + y**2 = r**2') == 'x'\n",
    "    assert match(oneof('xyz'), '   x is here!') == None\n",
    "    return 'tests pass'\n",
    "    \n",
    "print test()"
   ]
  },
  {
   "cell_type": "code",
   "execution_count": null,
   "metadata": {},
   "outputs": [],
   "source": []
  }
 ],
 "metadata": {
  "kernelspec": {
   "display_name": "Python 2",
   "language": "python",
   "name": "python2"
  },
  "language_info": {
   "codemirror_mode": {
    "name": "ipython",
    "version": 2
   },
   "file_extension": ".py",
   "mimetype": "text/x-python",
   "name": "python",
   "nbconvert_exporter": "python",
   "pygments_lexer": "ipython2",
   "version": "2.7.15"
  }
 },
 "nbformat": 4,
 "nbformat_minor": 2
}
