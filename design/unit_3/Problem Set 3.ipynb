{
 "cells": [
  {
   "cell_type": "markdown",
   "metadata": {},
   "source": [
    "# Json Parser"
   ]
  },
  {
   "cell_type": "markdown",
   "metadata": {},
   "source": [
    "https://www.crockford.com/mckeeman.html\n",
    "\n",
    "https://www.json.org/json-en.html"
   ]
  },
  {
   "cell_type": "code",
   "execution_count": 8,
   "metadata": {},
   "outputs": [
    {
     "name": "stdout",
     "output_type": "stream",
     "text": [
      "(['value', ['array', '[]']], '')\n",
      "(['value', ['array', '[', ['elements', ['value', ['string', '\"testing\"']], ',', ['elements', ['value', ['string', '\"baba\"']]]], ']']], '')\n",
      "(['value', ['array', '[', ['elements', ['value', ['string', '\"testing\"']], ',', ['elements', ['value', ['number', ['int', '1']]], ',', ['elements', ['value', ['number', ['int', '2']]], ',', ['elements', ['value', ['number', ['int', '3']]]]]]], ']']], '')\n",
      "(['value', ['number', ['int', '-123'], ['frac', '.456'], ['exp', 'e+789']]], '')\n",
      "(['value', ['object', '{', ['members', ['pair', ['string', '\"age\"'], ':', ['value', ['number', ['int', '21']]]], ',', ['members', ['pair', ['string', '\"state\"'], ':', ['value', ['string', '\"CO\"']]], ',', ['members', ['pair', ['string', '\"occupation\"'], ':', ['value', ['string', '\"rides the rodeo\"']]]]]], '}']], '')\n",
      "tests pass\n"
     ]
    }
   ],
   "source": [
    "# ---------------\n",
    "# User Instructions\n",
    "#\n",
    "# In this problem, you will be using many of the tools and techniques\n",
    "# that you developed in unit 3 to write a grammar that will allow\n",
    "# us to write a parser for the JSON language.\n",
    "#\n",
    "# You will have to visit json.org to see the JSON grammar. It is not\n",
    "# presented in the correct format for our grammar function, so you\n",
    "# will need to translate it.\n",
    "\n",
    "# ---------------\n",
    "# Provided functions\n",
    "#\n",
    "# These are all functions that were built in unit 3. They will help\n",
    "# you as you write the grammar.  Add your code at line 102.\n",
    "\n",
    "from functools import update_wrapper\n",
    "from string import split\n",
    "import re\n",
    "\n",
    "def grammar(description, whitespace=r'\\s*'):\n",
    "    \"\"\"Convert a description to a grammar.  Each line is a rule for a\n",
    "    non-terminal symbol; it looks like this:\n",
    "        Symbol =>  A1 A2 ... | B1 B2 ... | C1 C2 ...\n",
    "    where the right-hand side is one or more alternatives, separated by\n",
    "    the '|' sign.  Each alternative is a sequence of atoms, separated by\n",
    "    spaces.  An atom is either a symbol on some left-hand side, or it is\n",
    "    a regular expression that will be passed to re.match to match a token.\n",
    "    Notation for *, +, or ? not allowed in a rule alternative (but ok\n",
    "    within a token). Use '\\' to continue long lines.  You must include spaces\n",
    "    or tabs around '=>' and '|'. That's within the grammar description itself.\n",
    "    The grammar that gets defined allows whitespace between tokens by default;\n",
    "    specify '' as the second argument to grammar() to disallow this (or supply\n",
    "    any regular expression to describe allowable whitespace between tokens).\"\"\"\n",
    "    G = {' ': whitespace}\n",
    "    description = description.replace('\\t', ' ') # no tabs!\n",
    "    for line in split(description, '\\n'):\n",
    "        if not line: continue\n",
    "        lhs, rhs = split(line, ' => ', 1)\n",
    "        alternatives = split(rhs, ' | ')\n",
    "        G[lhs] = tuple(map(split, alternatives))\n",
    "    #print G\n",
    "    return G\n",
    "\n",
    "\n",
    "def decorator(d):\n",
    "    \"Make function d a decorator: d wraps a function fn.\"\n",
    "    def _d(fn):\n",
    "        return update_wrapper(d(fn), fn)\n",
    "    update_wrapper(_d, d)\n",
    "    return _d\n",
    "\n",
    "@decorator\n",
    "def memo(f):\n",
    "    \"\"\"Decorator that caches the return value for each call to f(args).\n",
    "    Then when called again with same args, we can just look it up.\"\"\"\n",
    "    cache = {}\n",
    "    def _f(*args):\n",
    "        try:\n",
    "            return cache[args]\n",
    "        except KeyError:\n",
    "            cache[args] = result = f(*args)\n",
    "            return result\n",
    "        except TypeError:\n",
    "            # some element of args can't be a dict key\n",
    "            return f(args)\n",
    "    return _f\n",
    "\n",
    "def parse(start_symbol, text, grammar):\n",
    "    \"\"\"Example call: parse('Exp', '3*x + b', G).\n",
    "    Returns a (tree, remainder) pair. If remainder is '', it parsed the whole\n",
    "    string. Failure iff remainder is None. This is a deterministic PEG parser,\n",
    "    so rule order (left-to-right) matters. Do 'E => T op E | T', putting the\n",
    "    longest parse first; don't do 'E => T | T op E'\n",
    "    Also, no left recursion allowed: don't do 'E => E op T'\"\"\"\n",
    "\n",
    "    tokenizer = grammar[' '] + '(%s)'\n",
    "\n",
    "    def parse_sequence(sequence, text):\n",
    "        result = []\n",
    "        for atom in sequence:\n",
    "            tree, text = parse_atom(atom, text)\n",
    "            if text is None: return Fail\n",
    "            result.append(tree)\n",
    "        #print 'seq result', result, text\n",
    "        return result, text\n",
    "\n",
    "    @memo\n",
    "    def parse_atom(atom, text):\n",
    "        if atom in grammar:  # Non-Terminal: tuple of alternatives\n",
    "            for alternative in grammar[atom]:\n",
    "                tree, rem = parse_sequence(alternative, text)\n",
    "                if rem is not None: \n",
    "                    #print 'debug:', atom, tree, 'reminder', rem\n",
    "                    return [atom]+tree, rem\n",
    "            return Fail\n",
    "        else:  # Terminal: match characters against start of text\n",
    "            m = re.match(tokenizer % atom, text)\n",
    "            return Fail if (not m) else (m.group(1), text[m.end():])\n",
    "\n",
    "    # Body of parse:\n",
    "    return parse_atom(start_symbol, text)\n",
    "\n",
    "Fail = (None, None)\n",
    "\n",
    "JSON = grammar(\"\"\"\n",
    "object => { } | { members }\n",
    "members => pair , members | pair\n",
    "pair => string : value\n",
    "array => [[] elements []] | [[]]\n",
    "elements => value , elements | value\n",
    "value => string | number | object | array | true | false | null\n",
    "string => \"[^\"]*\"\n",
    "number => int frac exp | int frac | int exp | int\n",
    "int => -?[1-9][0-9]*\n",
    "frac => [.][0-9]*\n",
    "exp => [eE][-+]?[0-9]*\n",
    "\"\"\", whitespace='\\s*')\n",
    "\n",
    "def json_parse(text):\n",
    "    r = parse('value', text, JSON)\n",
    "    print r\n",
    "    return r\n",
    "\n",
    "def test():\n",
    "    #json_parse('[3]')\n",
    "    json_parse('[]')\n",
    "\n",
    "    assert json_parse('[\"testing\", \"baba\"]') == (\n",
    "        ['value', ['array', '[', ['elements', ['value', ['string', '\"testing\"']], ',', \n",
    "                                  ['elements', ['value', ['string', '\"baba\"']]]], ']']], '')\n",
    "    \n",
    "    assert json_parse('[\"testing\", 1, 2, 3]') == (\n",
    "                       ['value', ['array', '[', ['elements', ['value',\n",
    "                       ['string', '\"testing\"']], ',', ['elements', ['value', ['number',\n",
    "                       ['int', '1']]], ',', ['elements', ['value', ['number',\n",
    "                       ['int', '2']]], ',', ['elements', ['value', ['number',\n",
    "                       ['int', '3']]]]]]], ']']], '')\n",
    "\n",
    "    assert json_parse('-123.456e+789') == (\n",
    "                       ['value', ['number', ['int', '-123'], ['frac', '.456'], ['exp', 'e+789']]], '')\n",
    "\n",
    "    assert json_parse('{\"age\": 21, \"state\":\"CO\",\"occupation\":\"rides the rodeo\"}') == (\n",
    "                      ['value', ['object', '{', ['members', ['pair', ['string', '\"age\"'],\n",
    "                       ':', ['value', ['number', ['int', '21']]]], ',', ['members',\n",
    "                      ['pair', ['string', '\"state\"'], ':', ['value', ['string', '\"CO\"']]],\n",
    "                      ',', ['members', ['pair', ['string', '\"occupation\"'], ':',\n",
    "                      ['value', ['string', '\"rides the rodeo\"']]]]]], '}']], '')\n",
    "    return 'tests pass'\n",
    "\n",
    "print test()\n"
   ]
  },
  {
   "cell_type": "code",
   "execution_count": 3,
   "metadata": {},
   "outputs": [
    {
     "name": "stdout",
     "output_type": "stream",
     "text": [
      "[[3], 4]\n"
     ]
    }
   ],
   "source": [
    "# concatenate list to list\n",
    "a = [[3]]\n",
    "b = [4]\n",
    "print a+b"
   ]
  },
  {
   "cell_type": "markdown",
   "metadata": {},
   "source": [
    "# [ ] is special char, it means a char set, so it search \"[\""
   ]
  },
  {
   "cell_type": "code",
   "execution_count": 4,
   "metadata": {},
   "outputs": [
    {
     "name": "stdout",
     "output_type": "stream",
     "text": [
      "[\n",
      "('[',)\n"
     ]
    }
   ],
   "source": [
    "import re\n",
    "text = '[]'\n",
    "m = re.match('([[])', text)\n",
    "print m.group(1)\n",
    "print m.groups()"
   ]
  },
  {
   "cell_type": "markdown",
   "metadata": {},
   "source": [
    "# Newton's Method"
   ]
  },
  {
   "cell_type": "code",
   "execution_count": null,
   "metadata": {},
   "outputs": [],
   "source": [
    "def inverse(f, delta = 1/128.):\n",
    "    \"\"\"Given a function y = f(x) that is a monotonically increasing function on\n",
    "    non-negatve numbers, return the function x = f_1(y) that is an approximate\n",
    "    inverse, picking the closest value to the inverse, within delta.\"\"\"\n",
    "    def f1(x):\n",
    "        if x < 2: return x\n",
    "        \n",
    "        x0 = x\n",
    "        x1 = (x0 + x/x0)/2\n",
    "        while abs(x0-x1) >= delta:\n",
    "            x0 = x1\n",
    "            x1 = (x0 + x/x0)/2\n",
    "            \n",
    "        return int(x1)\n",
    "    return f1"
   ]
  },
  {
   "cell_type": "markdown",
   "metadata": {},
   "source": [
    "# Binary Search Method"
   ]
  },
  {
   "cell_type": "code",
   "execution_count": 5,
   "metadata": {},
   "outputs": [
    {
     "name": "stdout",
     "output_type": "stream",
     "text": [
      "62907.78125\n",
      "62907.776279\n"
     ]
    }
   ],
   "source": [
    "# --------------\n",
    "# User Instructions\n",
    "#\n",
    "# Write a function, inverse, which takes as input a monotonically\n",
    "# increasing (always increasing) function that is defined on the \n",
    "# non-negative numbers. The runtime of your program should be \n",
    "# proportional to the LOGARITHM of the input. You may want to \n",
    "# do some research into binary search and Newton's method to \n",
    "# help you out.\n",
    "#\n",
    "# This function should return another function which computes the\n",
    "# inverse of the input function. \n",
    "#\n",
    "# Your inverse function should also take an optional parameter, \n",
    "# delta, as input so that the computed value of the inverse will\n",
    "# be within delta of the true value.\n",
    "\n",
    "# -------------\n",
    "# Grading Notes\n",
    "#\n",
    "# Your function will be called with three test cases. The \n",
    "# input numbers will be large enough that your submission\n",
    "# will only terminate in the allotted time if it is \n",
    "# efficient enough. \n",
    "\n",
    "def slow_inverse(f, delta=1/128.):\n",
    "    \"\"\"Given a function y = f(x) that is a monotonically increasing function on\n",
    "    non-negatve numbers, return the function x = f_1(y) that is an approximate\n",
    "    inverse, picking the closest value to the inverse, within delta.\"\"\"\n",
    "    def f_1(y):\n",
    "        x = 0\n",
    "        while f(x) < y:\n",
    "            x += delta\n",
    "        # Now x is too big, x-delta is too small; pick the closest to y\n",
    "        return x if (f(x)-y < y-f(x-delta)) else x-delta\n",
    "    return f_1 \n",
    "        \n",
    "def inverse(f, delta = 1/128.):\n",
    "    \"\"\"Given a function y = f(x) that is a monotonically increasing function on\n",
    "    non-negatve numbers, return the function x = f_1(y) that is an approximate\n",
    "    inverse, picking the closest value to the inverse, within delta.\"\"\"\n",
    "    def f1(x):\n",
    "        if x < 2: return x\n",
    "        \n",
    "        left = 2\n",
    "        right = x/2\n",
    "        while left <= right:\n",
    "            num = (left + right) / 2.0\n",
    "            if f(num) == x:\n",
    "                return num\n",
    "            elif f(num) > x:\n",
    "                right = num - delta\n",
    "            else:\n",
    "                left = num + delta\n",
    "            \n",
    "        return right\n",
    "    return f1\n",
    "    \n",
    "def square(x): return x*x\n",
    "sqrt = slow_inverse(square)\n",
    "\n",
    "print sqrt(3957389204)\n",
    "\n",
    "print inverse(square)(3957389204)\n"
   ]
  },
  {
   "cell_type": "markdown",
   "metadata": {},
   "source": [
    "# Find HTML Tags"
   ]
  },
  {
   "cell_type": "code",
   "execution_count": 38,
   "metadata": {},
   "outputs": [
    {
     "name": "stdout",
     "output_type": "stream",
     "text": [
      "tests pass\n"
     ]
    }
   ],
   "source": [
    "# ---------------\n",
    "# User Instructions\n",
    "#\n",
    "# Write a function, findtags(text), that takes a string of text\n",
    "# as input and returns a list of all the html start tags in the \n",
    "# text. It may be helpful to use regular expressions to solve\n",
    "# this problem.\n",
    "\n",
    "import re\n",
    "\n",
    "def findtags(text):\n",
    "    # your code here\n",
    "    m = re.findall('<\\s*[a,b].*?>', text)\n",
    "    #print m\n",
    "    return m\n",
    "\n",
    "testtext1 = \"\"\"\n",
    "My favorite website in the world is probably \n",
    "<a href=\"www.udacity.com\">Udacity</a>. If you want \n",
    "that link to open in a <b>new tab</b> by default, you should\n",
    "write <a href=\"www.udacity.com\"target=\"_blank\">Udacity</a>\n",
    "instead!\n",
    "\"\"\"\n",
    "\n",
    "testtext2 = \"\"\"\n",
    "Okay, so you passed the first test case. <let's see> how you \n",
    "handle this one. Did you know that 2 < 3 should return True? \n",
    "So should 3 > 2. But 2 > 3 is always False.\n",
    "\"\"\"\n",
    "\n",
    "testtext3 = \"\"\"\n",
    "It's not common, but we can put a LOT of whitespace into \n",
    "our HTML tags. For example, we can make something bold by\n",
    "doing <         b           > this <   /b    >, Though I \n",
    "don't know why you would ever want to.\n",
    "\"\"\"\n",
    "\n",
    "def test():\n",
    "    assert findtags(testtext1) == ['<a href=\"www.udacity.com\">', \n",
    "                                   '<b>', \n",
    "                                   '<a href=\"www.udacity.com\"target=\"_blank\">']\n",
    "    assert findtags(testtext2) == []\n",
    "    assert findtags(testtext3) == ['<         b           >']\n",
    "    return 'tests pass'\n",
    "\n",
    "print test()"
   ]
  },
  {
   "cell_type": "markdown",
   "metadata": {},
   "source": [
    "https://stackoverflow.com/questions/2503413/regular-expression-to-stop-at-first-match\n",
    "\n",
    "You need to make your regular expression non-greedy, because by default, \"(.*)\" will match all of \"file path/level1/level2\" xxx some=\"xxx\".\n",
    "\n",
    "Instead you can make your dot-star non-greedy, which will make it match as few characters as possible:\n",
    "```\n",
    "/location=\"(.*?)\"/\n",
    "```\n",
    "### Adding a ? on a quantifier (?, * or +) makes it non-greedy."
   ]
  },
  {
   "cell_type": "markdown",
   "metadata": {},
   "source": [
    "## Peter's better solution (but not working!!!)"
   ]
  },
  {
   "cell_type": "code",
   "execution_count": 37,
   "metadata": {},
   "outputs": [
    {
     "ename": "AssertionError",
     "evalue": "",
     "output_type": "error",
     "traceback": [
      "\u001b[0;31m---------------------------------------------------------------------------\u001b[0m",
      "\u001b[0;31mAssertionError\u001b[0m                            Traceback (most recent call last)",
      "\u001b[0;32m<ipython-input-37-052d37f4c864>\u001b[0m in \u001b[0;36m<module>\u001b[0;34m()\u001b[0m\n\u001b[1;32m     45\u001b[0m     \u001b[0;32mreturn\u001b[0m \u001b[0;34m'tests pass'\u001b[0m\u001b[0;34m\u001b[0m\u001b[0m\n\u001b[1;32m     46\u001b[0m \u001b[0;34m\u001b[0m\u001b[0m\n\u001b[0;32m---> 47\u001b[0;31m \u001b[0;32mprint\u001b[0m \u001b[0mtest\u001b[0m\u001b[0;34m(\u001b[0m\u001b[0;34m)\u001b[0m\u001b[0;34m\u001b[0m\u001b[0m\n\u001b[0m",
      "\u001b[0;32m<ipython-input-37-052d37f4c864>\u001b[0m in \u001b[0;36mtest\u001b[0;34m()\u001b[0m\n\u001b[1;32m     40\u001b[0m     assert findtags(testtext1) == ['<a href=\"www.udacity.com\">', \n\u001b[1;32m     41\u001b[0m                                    \u001b[0;34m'<b>'\u001b[0m\u001b[0;34m,\u001b[0m\u001b[0;34m\u001b[0m\u001b[0m\n\u001b[0;32m---> 42\u001b[0;31m                                    '<a href=\"www.udacity.com\"target=\"_blank\">']\n\u001b[0m\u001b[1;32m     43\u001b[0m     \u001b[0;32massert\u001b[0m \u001b[0mfindtags\u001b[0m\u001b[0;34m(\u001b[0m\u001b[0mtesttext2\u001b[0m\u001b[0;34m)\u001b[0m \u001b[0;34m==\u001b[0m \u001b[0;34m[\u001b[0m\u001b[0;34m]\u001b[0m\u001b[0;34m\u001b[0m\u001b[0m\n\u001b[1;32m     44\u001b[0m     \u001b[0;32massert\u001b[0m \u001b[0mfindtags\u001b[0m\u001b[0;34m(\u001b[0m\u001b[0mtesttext3\u001b[0m\u001b[0;34m)\u001b[0m \u001b[0;34m==\u001b[0m \u001b[0;34m[\u001b[0m\u001b[0;34m'<         b           >'\u001b[0m\u001b[0;34m]\u001b[0m\u001b[0;34m\u001b[0m\u001b[0m\n",
      "\u001b[0;31mAssertionError\u001b[0m: "
     ]
    }
   ],
   "source": [
    "# ---------------\n",
    "# User Instructions\n",
    "#\n",
    "# Write a function, findtags(text), that takes a string of text\n",
    "# as input and returns a list of all the html start tags in the \n",
    "# text. It may be helpful to use regular expressions to solve\n",
    "# this problem.\n",
    "\n",
    "import re\n",
    "\n",
    "def findtags(text):\n",
    "    # your code here\n",
    "    params = '(\\w+\\s*=\\s*\"[^\"]*\"\\s*)*'\n",
    "    tags = '(<\\s*\\w+\\s*' + params + '\\s*/?>)'\n",
    "    m = re.findall(tags, text)\n",
    "    return m\n",
    "\n",
    "testtext1 = \"\"\"\n",
    "My favorite website in the world is probably \n",
    "<a href=\"www.udacity.com\">Udacity</a>. If you want \n",
    "that link to open in a <b>new tab</b> by default, you should\n",
    "write <a href=\"www.udacity.com\"target=\"_blank\">Udacity</a>\n",
    "instead!\n",
    "\"\"\"\n",
    "\n",
    "testtext2 = \"\"\"\n",
    "Okay, so you passed the first test case. <let's see> how you \n",
    "handle this one. Did you know that 2 < 3 should return True? \n",
    "So should 3 > 2. But 2 > 3 is always False.\n",
    "\"\"\"\n",
    "\n",
    "testtext3 = \"\"\"\n",
    "It's not common, but we can put a LOT of whitespace into \n",
    "our HTML tags. For example, we can make something bold by\n",
    "doing <         b           > this <   /b    >, Though I \n",
    "don't know why you would ever want to.\n",
    "\"\"\"\n",
    "\n",
    "def test():\n",
    "    assert findtags(testtext1) == ['<a href=\"www.udacity.com\">', \n",
    "                                   '<b>', \n",
    "                                   '<a href=\"www.udacity.com\"target=\"_blank\">']\n",
    "    assert findtags(testtext2) == []\n",
    "    assert findtags(testtext3) == ['<         b           >']\n",
    "    return 'tests pass'\n",
    "\n",
    "print test()"
   ]
  },
  {
   "cell_type": "code",
   "execution_count": null,
   "metadata": {},
   "outputs": [],
   "source": []
  },
  {
   "cell_type": "markdown",
   "metadata": {},
   "source": [
    "# Challenge Problem"
   ]
  },
  {
   "cell_type": "markdown",
   "metadata": {},
   "source": [
    "Implemented in Parser folder."
   ]
  },
  {
   "cell_type": "code",
   "execution_count": null,
   "metadata": {},
   "outputs": [],
   "source": []
  }
 ],
 "metadata": {
  "kernelspec": {
   "display_name": "Python 2",
   "language": "python",
   "name": "python2"
  },
  "language_info": {
   "codemirror_mode": {
    "name": "ipython",
    "version": 2
   },
   "file_extension": ".py",
   "mimetype": "text/x-python",
   "name": "python",
   "nbconvert_exporter": "python",
   "pygments_lexer": "ipython2",
   "version": "2.7.15"
  }
 },
 "nbformat": 4,
 "nbformat_minor": 2
}
