{
 "cells": [
  {
   "cell_type": "markdown",
   "metadata": {},
   "source": [
    "## n_ary function"
   ]
  },
  {
   "cell_type": "code",
   "execution_count": 2,
   "metadata": {},
   "outputs": [
    {
     "name": "stdout",
     "output_type": "stream",
     "text": [
      "test pass\n"
     ]
    }
   ],
   "source": [
    "# ---------------\n",
    "# User Instructions\n",
    "#\n",
    "# Write a function, n_ary(f), that takes a binary function (a function\n",
    "# that takes 2 inputs) as input and returns an n_ary function. \n",
    "\n",
    "def n_ary(f):\n",
    "    \"\"\"Given binary function f(x, y), return an n_ary function such\n",
    "    that f(x, y, z) = f(x, f(y,z)), etc. Also allow f(x) = x.\"\"\"\n",
    "    def n_ary_f(x, *args):\n",
    "        # your code here\n",
    "        if len(args) > 1:\n",
    "            return f(x, n_ary_f(args[0], *args[1:]))\n",
    "        elif len(args) == 1:\n",
    "            return f(x, args[0])\n",
    "        else:\n",
    "            return f(x)\n",
    "    return n_ary_f\n",
    "    \n",
    "def foo(x, y=None):\n",
    "    return x * y if y is not None else x\n",
    "    \n",
    "nary = n_ary(foo)\n",
    "\n",
    "def test():\n",
    "    assert nary(3) == 3\n",
    "    assert nary(1, 2) == 2\n",
    "    assert nary(1, 2, 3) == 6\n",
    "    assert nary(1, 2, 3, 4) == 24\n",
    "    print 'test pass'\n",
    "\n",
    "test()"
   ]
  },
  {
   "cell_type": "markdown",
   "metadata": {},
   "source": [
    "### A better one"
   ]
  },
  {
   "cell_type": "code",
   "execution_count": 1,
   "metadata": {},
   "outputs": [
    {
     "name": "stdout",
     "output_type": "stream",
     "text": [
      "3 4\n",
      "2 12\n",
      "1 24\n",
      "test pass\n"
     ]
    }
   ],
   "source": [
    "def n_ary(f):\n",
    "    \"\"\"Given binary function f(x, y), return an n_ary function such\n",
    "    that f(x, y, z) = f(x, f(y,z)), etc. Also allow f(x) = x.\"\"\"\n",
    "    def n_ary_f(x, *args):\n",
    "        # your code here\n",
    "        return x if not args else f(x, n_ary_f(*args))\n",
    "    return n_ary_f\n",
    "    \n",
    "def foo(x, y=None):\n",
    "    print x, y\n",
    "    return x * y if y is not None else x\n",
    "    \n",
    "nary = n_ary(foo)\n",
    "\n",
    "def test():\n",
    "    assert nary(3) == 3\n",
    "    assert nary(1, 2) == 2\n",
    "    assert nary(1, 2, 3) == 6\n",
    "    assert nary(1, 2, 3, 4) == 24\n",
    "    print 'test pass'\n",
    "\n",
    "test()"
   ]
  },
  {
   "cell_type": "markdown",
   "metadata": {},
   "source": [
    "## Update Wrapper"
   ]
  },
  {
   "cell_type": "markdown",
   "metadata": {},
   "source": [
    "### Decorator could make debug hard because of function name changed"
   ]
  },
  {
   "cell_type": "code",
   "execution_count": 6,
   "metadata": {},
   "outputs": [
    {
     "name": "stdout",
     "output_type": "stream",
     "text": [
      "Help on function n_ary_f in module __main__:\n",
      "\n",
      "n_ary_f(x, *args)\n",
      "\n"
     ]
    }
   ],
   "source": [
    "def n_ary(f):\n",
    "    \"\"\"Given binary function f(x, y), return an n_ary function such\n",
    "    that f(x, y, z) = f(x, f(y,z)), etc. Also allow f(x) = x.\"\"\"\n",
    "    def n_ary_f(x, *args):\n",
    "        # your code here\n",
    "        return x if not args else f(x, n_ary_f(*args))\n",
    "    return n_ary_f\n",
    "\n",
    "@n_ary\n",
    "def foo(x, y=None):\n",
    "    return x * y if y is not None else x\n",
    "    \n",
    "help(foo)\n",
    "\n",
    "# Output:\n",
    "# Help on function n_ary_f in module __main__:\n",
    "# n_ary_f(x, *args)\n"
   ]
  },
  {
   "cell_type": "markdown",
   "metadata": {},
   "source": [
    "### Use update_wrapper to fix"
   ]
  },
  {
   "cell_type": "code",
   "execution_count": 7,
   "metadata": {},
   "outputs": [
    {
     "name": "stdout",
     "output_type": "stream",
     "text": [
      "Help on function foo in module __main__:\n",
      "\n",
      "foo(x, *args)\n",
      "\n"
     ]
    }
   ],
   "source": [
    "from functools import update_wrapper\n",
    "\n",
    "def n_ary(f):\n",
    "    \"\"\"Given binary function f(x, y), return an n_ary function such\n",
    "    that f(x, y, z) = f(x, f(y,z)), etc. Also allow f(x) = x.\"\"\"\n",
    "    def n_ary_f(x, *args):\n",
    "        # your code here\n",
    "        return x if not args else f(x, n_ary_f(*args))\n",
    "    update_wrapper(n_ary_f, f)\n",
    "    return n_ary_f\n",
    "\n",
    "@n_ary\n",
    "def foo(x, y=None):\n",
    "    return x * y if y is not None else x\n",
    "    \n",
    "help(foo)  # Output: foo(x, *args)"
   ]
  },
  {
   "cell_type": "markdown",
   "metadata": {},
   "source": [
    "## Decorated Decorators"
   ]
  },
  {
   "cell_type": "markdown",
   "metadata": {},
   "source": [
    "![DECORATOR](../img/decorated_explain.png)"
   ]
  },
  {
   "cell_type": "markdown",
   "metadata": {},
   "source": [
    "#### `decorator` updates 2 functions: `d(fn)` and `_d`"
   ]
  },
  {
   "cell_type": "code",
   "execution_count": 24,
   "metadata": {},
   "outputs": [
    {
     "name": "stdout",
     "output_type": "stream",
     "text": [
      "Help on function foo in module __main__:\n",
      "\n",
      "foo(x, *args)\n",
      "\n",
      "Help on function n_ary in module __main__:\n",
      "\n",
      "n_ary(fn)\n",
      "    Given binary function f(x, y), return an n_ary function such\n",
      "    that f(x, y, z) = f(x, f(y,z)), etc. Also allow f(x) = x.\n",
      "\n"
     ]
    }
   ],
   "source": [
    "# Update a wrapper function to look like the wrapped function. \n",
    "\n",
    "from functools import update_wrapper\n",
    "\n",
    "def decorator(d):\n",
    "    \"Make function d a decorator: d wraps a function fn.\"\n",
    "    def _d(fn):\n",
    "        return update_wrapper(d(fn), fn)\n",
    "    update_wrapper(_d, d)\n",
    "    return _d\n",
    "\n",
    "@decorator\n",
    "def n_ary(f):\n",
    "    \"\"\"Given binary function f(x, y), return an n_ary function such\n",
    "    that f(x, y, z) = f(x, f(y,z)), etc. Also allow f(x) = x.\"\"\"\n",
    "    def n_ary_f(x, *args):\n",
    "        # your code here\n",
    "        return x if not args else f(x, n_ary_f(*args))\n",
    "    return n_ary_f\n",
    "\n",
    "@n_ary\n",
    "def foo(x, y=None):\n",
    "    return x * y if y is not None else x\n",
    "    \n",
    "help(foo)  # Output: foo(x, *args)\n",
    "\n",
    "help(n_ary)"
   ]
  },
  {
   "cell_type": "markdown",
   "metadata": {},
   "source": [
    "### Alternative for decorator"
   ]
  },
  {
   "cell_type": "code",
   "execution_count": 19,
   "metadata": {},
   "outputs": [
    {
     "name": "stdout",
     "output_type": "stream",
     "text": [
      "Help on function foo in module __main__:\n",
      "\n",
      "foo(x, *args)\n",
      "\n",
      "Help on function n_ary in module __main__:\n",
      "\n",
      "n_ary(fn)\n",
      "    Given binary function f(x, y), return an n_ary function such\n",
      "    that f(x, y, z) = f(x, f(y,z)), etc. Also allow f(x) = x.\n",
      "\n"
     ]
    }
   ],
   "source": [
    "from functools import update_wrapper\n",
    "\n",
    "def decorator(d):\n",
    "    return lambda fn: update_wrapper(d(fn), fn)\n",
    "\n",
    "decorator = decorator(decorator)\n",
    "\n",
    "@decorator\n",
    "def n_ary(f):\n",
    "    \"\"\"Given binary function f(x, y), return an n_ary function such\n",
    "    that f(x, y, z) = f(x, f(y,z)), etc. Also allow f(x) = x.\"\"\"\n",
    "    def n_ary_f(x, *args):\n",
    "        # your code here\n",
    "        return x if not args else f(x, n_ary_f(*args))\n",
    "    return n_ary_f\n",
    "\n",
    "@n_ary\n",
    "def foo(x, y=None):\n",
    "    return x * y if y is not None else x\n",
    "    \n",
    "help(foo)  # Output: foo(x, *args)\n",
    "\n",
    "help(n_ary)"
   ]
  },
  {
   "cell_type": "markdown",
   "metadata": {},
   "source": [
    "## Unhashable\n",
    "\n",
    "TypeError: unhashable type: 'list'"
   ]
  },
  {
   "cell_type": "code",
   "execution_count": 26,
   "metadata": {},
   "outputs": [
    {
     "ename": "TypeError",
     "evalue": "unhashable type: 'list'",
     "output_type": "error",
     "traceback": [
      "\u001b[0;31m---------------------------------------------------------------------------\u001b[0m",
      "\u001b[0;31mTypeError\u001b[0m                                 Traceback (most recent call last)",
      "\u001b[0;32m<ipython-input-26-2d06b8798d88>\u001b[0m in \u001b[0;36m<module>\u001b[0;34m()\u001b[0m\n\u001b[1;32m      4\u001b[0m \u001b[0;34m\u001b[0m\u001b[0m\n\u001b[1;32m      5\u001b[0m \u001b[0my\u001b[0m \u001b[0;34m=\u001b[0m \u001b[0;34m[\u001b[0m\u001b[0;36m1\u001b[0m\u001b[0;34m,\u001b[0m \u001b[0;36m2\u001b[0m\u001b[0;34m,\u001b[0m \u001b[0;36m3\u001b[0m\u001b[0;34m]\u001b[0m\u001b[0;34m\u001b[0m\u001b[0m\n\u001b[0;32m----> 6\u001b[0;31m \u001b[0my\u001b[0m \u001b[0;32min\u001b[0m \u001b[0md\u001b[0m  \u001b[0;31m# TypeError: unhashable type: 'list'\u001b[0m\u001b[0;34m\u001b[0m\u001b[0m\n\u001b[0m",
      "\u001b[0;31mTypeError\u001b[0m: unhashable type: 'list'"
     ]
    }
   ],
   "source": [
    "d = {}\n",
    "x = 42\n",
    "x in d\n",
    "\n",
    "y = [1, 2, 3]\n",
    "y in d  # TypeError: unhashable type: 'list'"
   ]
  },
  {
   "cell_type": "markdown",
   "metadata": {},
   "source": [
    "List are mutable, not hashable.\n",
    "\n",
    "Python does not allow you to put list into hashable. Since you could change an item value, and make the list un-traceable."
   ]
  },
  {
   "cell_type": "markdown",
   "metadata": {},
   "source": [
    "## Cache Mangement using decorator"
   ]
  },
  {
   "cell_type": "code",
   "execution_count": 22,
   "metadata": {},
   "outputs": [],
   "source": [
    "@decorator\n",
    "def memo(f):\n",
    "    \"\"\"Cache the return value for each call to f(args).\"\"\"\n",
    "    cache = {}\n",
    "    def _f(*args):\n",
    "        try:\n",
    "            return cache[args]\n",
    "        except KeyError:\n",
    "            cache[args] = result = f(*args)\n",
    "            return result\n",
    "        except TypeError:\n",
    "            # some element of args can't be a dict key.\n",
    "            return f(args)\n",
    "    return _f"
   ]
  },
  {
   "cell_type": "markdown",
   "metadata": {},
   "source": [
    "## Count calls using decorator"
   ]
  },
  {
   "cell_type": "code",
   "execution_count": 25,
   "metadata": {},
   "outputs": [
    {
     "name": "stdout",
     "output_type": "stream",
     "text": [
      "3524578\n"
     ]
    }
   ],
   "source": [
    "from functools import update_wrapper\n",
    "\n",
    "def decorator(d):\n",
    "    return lambda fn: update_wrapper(d(fn), fn)\n",
    "\n",
    "decorator = decorator(decorator)\n",
    "\n",
    "@decorator\n",
    "def memo(f):\n",
    "    \"\"\"Cache the return value for each call to f(args).\"\"\"\n",
    "    cache = {}\n",
    "    def _f(*args):\n",
    "        try:\n",
    "            return cache[args]\n",
    "        except KeyError:\n",
    "            cache[args] = result = f(*args)\n",
    "            return result\n",
    "        except TypeError:\n",
    "            # some element of args can't be a dict key.\n",
    "            return f(args)\n",
    "    return _f\n",
    "\n",
    "@decorator\n",
    "def countcalls(f):\n",
    "    def _f(*args):\n",
    "        callcounts[_f] += 1\n",
    "        return f(*args)\n",
    "    callcounts[_f] = 0\n",
    "    return _f\n",
    "    \n",
    "callcounts = {}\n",
    "\n",
    "@countcalls\n",
    "@memo\n",
    "def fib(n): return 1 if n <= 1 else fib(n-1) + fib(n-2)\n",
    "\n",
    "print fib(32)"
   ]
  },
  {
   "cell_type": "markdown",
   "metadata": {},
   "source": [
    "# Type of tools\n",
    "\n"
   ]
  },
  {
   "cell_type": "markdown",
   "metadata": {},
   "source": [
    "Debug: count calls, trace, disabled\n",
    "\n",
    "Performance: memo\n",
    "\n",
    "Expression: n_ary"
   ]
  },
  {
   "cell_type": "code",
   "execution_count": 40,
   "metadata": {},
   "outputs": [],
   "source": [
    "def disabled(f): return f\n",
    "\n",
    "trace = disabled\n",
    "\n",
    "# after this, the trace decorator will just return f itself."
   ]
  },
  {
   "cell_type": "markdown",
   "metadata": {},
   "source": [
    "## Impl trace"
   ]
  },
  {
   "cell_type": "code",
   "execution_count": 27,
   "metadata": {},
   "outputs": [
    {
     "name": "stdout",
     "output_type": "stream",
     "text": [
      "--> fib(6)\n",
      "   --> fib(5)\n",
      "      --> fib(4)\n",
      "         --> fib(3)\n",
      "            --> fib(2)\n",
      "               --> fib(1)\n",
      "               <-- fib(1) === 1\n",
      "               --> fib(0)\n",
      "               <-- fib(0) === 1\n",
      "            <-- fib(2) === 2\n",
      "            --> fib(1)\n",
      "            <-- fib(1) === 1\n",
      "         <-- fib(3) === 3\n",
      "         --> fib(2)\n",
      "            --> fib(1)\n",
      "            <-- fib(1) === 1\n",
      "            --> fib(0)\n",
      "            <-- fib(0) === 1\n",
      "         <-- fib(2) === 2\n",
      "      <-- fib(4) === 5\n",
      "      --> fib(3)\n",
      "         --> fib(2)\n",
      "            --> fib(1)\n",
      "            <-- fib(1) === 1\n",
      "            --> fib(0)\n",
      "            <-- fib(0) === 1\n",
      "         <-- fib(2) === 2\n",
      "         --> fib(1)\n",
      "         <-- fib(1) === 1\n",
      "      <-- fib(3) === 3\n",
      "   <-- fib(5) === 8\n",
      "   --> fib(4)\n",
      "      --> fib(3)\n",
      "         --> fib(2)\n",
      "            --> fib(1)\n",
      "            <-- fib(1) === 1\n",
      "            --> fib(0)\n",
      "            <-- fib(0) === 1\n",
      "         <-- fib(2) === 2\n",
      "         --> fib(1)\n",
      "         <-- fib(1) === 1\n",
      "      <-- fib(3) === 3\n",
      "      --> fib(2)\n",
      "         --> fib(1)\n",
      "         <-- fib(1) === 1\n",
      "         --> fib(0)\n",
      "         <-- fib(0) === 1\n",
      "      <-- fib(2) === 2\n",
      "   <-- fib(4) === 5\n",
      "<-- fib(6) === 13\n"
     ]
    },
    {
     "data": {
      "text/plain": [
       "13"
      ]
     },
     "execution_count": 27,
     "metadata": {},
     "output_type": "execute_result"
    }
   ],
   "source": [
    "# ---------------\n",
    "# User Instructions\n",
    "#\n",
    "# Modify the function, trace, so that when it is used\n",
    "# as a decorator it gives a trace as shown in the previous\n",
    "# video. You can test your function by applying the decorator\n",
    "# to the provided fibonnaci function.\n",
    "#\n",
    "# Note: Running this in the browser's IDE will not display\n",
    "# the indentations.\n",
    "\n",
    "from functools import update_wrapper\n",
    "\n",
    "\n",
    "def decorator(d):\n",
    "    \"Make function d a decorator: d wraps a function fn.\"\n",
    "    def _d(fn):\n",
    "        return update_wrapper(d(fn), fn)\n",
    "    update_wrapper(_d, d)\n",
    "    return _d\n",
    "\n",
    "@decorator\n",
    "def trace(f):\n",
    "    indent = '   '\n",
    "    def _f(*args):\n",
    "        signature = '%s(%s)' % (f.__name__, ', '.join(map(repr, args)))\n",
    "        print '%s--> %s' % (trace.level*indent, signature)\n",
    "        trace.level += 1\n",
    "        try:\n",
    "            # your code here\n",
    "            result = f(*args)\n",
    "            print '%s<-- %s === %s' % ((trace.level-1)*indent, \n",
    "                                      signature, result)\n",
    "        finally:\n",
    "            # your code here\n",
    "            trace.level -= 1\n",
    "        #print 'result', result\n",
    "        return result # your code here\n",
    "    trace.level = 0\n",
    "    return _f\n",
    "\n",
    "@trace\n",
    "def fib(n):\n",
    "    if n == 0 or n == 1:\n",
    "        return 1\n",
    "    else:\n",
    "        return fib(n-1) + fib(n-2)\n",
    "\n",
    "fib(6) #running this in the browser's IDE  will not display the indentations!"
   ]
  },
  {
   "cell_type": "code",
   "execution_count": 51,
   "metadata": {},
   "outputs": [
    {
     "name": "stdout",
     "output_type": "stream",
     "text": [
      "func: f(1, 2, 3)\n"
     ]
    },
    {
     "data": {
      "text/plain": [
       "'123'"
      ]
     },
     "execution_count": 51,
     "metadata": {},
     "output_type": "execute_result"
    }
   ],
   "source": [
    "def f(*args):\n",
    "    signature = 'func: %s(%s)' % (f.__name__, ', '.join(map(repr, args)))\n",
    "    print signature\n",
    "\n",
    "f(1, 2, 3)\n",
    "\n",
    "# repr returns a string containing a printable representation of an object.\n",
    "repr(123)"
   ]
  },
  {
   "cell_type": "code",
   "execution_count": null,
   "metadata": {},
   "outputs": [],
   "source": []
  }
 ],
 "metadata": {
  "kernelspec": {
   "display_name": "Python 2",
   "language": "python",
   "name": "python2"
  },
  "language_info": {
   "codemirror_mode": {
    "name": "ipython",
    "version": 2
   },
   "file_extension": ".py",
   "mimetype": "text/x-python",
   "name": "python",
   "nbconvert_exporter": "python",
   "pygments_lexer": "ipython2",
   "version": "2.7.15"
  }
 },
 "nbformat": 4,
 "nbformat_minor": 2
}
