{
 "cells": [
  {
   "cell_type": "markdown",
   "metadata": {},
   "source": [
    "## eval"
   ]
  },
  {
   "cell_type": "code",
   "execution_count": 1,
   "metadata": {},
   "outputs": [
    {
     "data": {
      "text/plain": [
       "4"
      ]
     },
     "execution_count": 1,
     "metadata": {},
     "output_type": "execute_result"
    }
   ],
   "source": [
    "eval('2 + 2')"
   ]
  },
  {
   "cell_type": "code",
   "execution_count": 2,
   "metadata": {},
   "outputs": [
    {
     "data": {
      "text/plain": [
       "False"
      ]
     },
     "execution_count": 2,
     "metadata": {},
     "output_type": "execute_result"
    }
   ],
   "source": [
    "eval('2 + 2 == 3')"
   ]
  },
  {
   "cell_type": "markdown",
   "metadata": {},
   "source": [
    "## solves cryptarithmetic puzzles"
   ]
  },
  {
   "cell_type": "code",
   "execution_count": 1,
   "metadata": {},
   "outputs": [],
   "source": [
    "# Write a function, solve(formula) that solves cryptarithmetic puzzles.\n",
    "# The input should be a formula like 'ODD + ODD == EVEN', and the \n",
    "# output should be a string with the digits filled in, or None if the\n",
    "# problem is not solvable.\n",
    "#\n",
    "# Note that you will not be able to run your code yet since the \n",
    "# program is incomplete. Please SUBMIT to see if you are correct.\n",
    "\n",
    "import string, re \n",
    "\n",
    "def solve(formula):\n",
    "    \"\"\"Given a formula like 'ODD + ODD == EVEN', fill in digits to solve it.\n",
    "    Input formula is a string; output is a digit-filled-in string or None.\"\"\"\n",
    "    # Your code here\n",
    "    for f in fill_in(formula):\n",
    "        if valid(f):\n",
    "            return f\n",
    "    return None\n",
    "    \n",
    "# assume: def fill_in(formula):\n",
    "#        \"Generate all possible fillings-in of letters in formula with digits.\"\n",
    "    \n",
    "def valid(f):\n",
    "    \"\"\"Formula f is valid if and only if it has no \n",
    "    numbers with leading zero, and evals true.\"\"\"\n",
    "    try: \n",
    "        return not re.search(r'\\b0[0-9]', f) and eval(f) is True\n",
    "    except ArithmeticError:\n",
    "        return False"
   ]
  },
  {
   "cell_type": "markdown",
   "metadata": {},
   "source": [
    "## Fill in "
   ]
  },
  {
   "cell_type": "code",
   "execution_count": 11,
   "metadata": {},
   "outputs": [
    {
     "name": "stdout",
     "output_type": "stream",
     "text": [
      "655 + 655 == 1310\n"
     ]
    }
   ],
   "source": [
    "# -------------\n",
    "# User Instructions\n",
    "#\n",
    "# Complete the fill_in(formula) function by adding your code to\n",
    "# the two places marked with ?????. \n",
    "\n",
    "import string, re, itertools\n",
    "\n",
    "def solve(formula):\n",
    "    \"\"\"Given a formula like 'ODD + ODD == EVEN', fill in digits to solve it.\n",
    "    Input formula is a string; output is a digit-filled-in string or None.\"\"\"\n",
    "    for f in fill_in(formula):\n",
    "        if valid(f):\n",
    "            return f\n",
    "    \n",
    "def fill_in(formula):\n",
    "    \"Generate all possible fillings-in of letters in formula with digits.\"\n",
    "    letters = ''.join(set(re.findall('[A-Z]', formula)))\n",
    "    for digits in itertools.permutations('1234567890', len(letters)):\n",
    "        table = string.maketrans(letters, ''.join(digits))\n",
    "        yield formula.translate(table)\n",
    "    \n",
    "def valid(f):\n",
    "    \"\"\"Formula f is valid if and only if it has no \n",
    "    numbers with leading zero, and evals true.\"\"\"\n",
    "    try: \n",
    "        return not re.search(r'\\b0[0-9]', f) and eval(f) is True\n",
    "    except ArithmeticError:\n",
    "        return False\n",
    "\n",
    "print solve('ODD + ODD == EVEN')"
   ]
  },
  {
   "cell_type": "markdown",
   "metadata": {},
   "source": [
    "### findall"
   ]
  },
  {
   "cell_type": "code",
   "execution_count": 6,
   "metadata": {},
   "outputs": [
    {
     "name": "stdout",
     "output_type": "stream",
     "text": [
      "['A', 'B', 'C', 'D', 'D', 'D', 'D', 'D', 'E', 'E', 'E', 'Z', 'Z']\n",
      "set(['A', 'C', 'B', 'E', 'D', 'Z'])\n",
      "ACBEDZ\n"
     ]
    }
   ],
   "source": [
    "import string, re\n",
    "s = 'ABCDDDDDEEE+_ZZ'\n",
    "print re.findall('[A-Z]', s)\n",
    "print set(re.findall('[A-Z]', s))\n",
    "print ''.join(set(re.findall('[A-Z]', s)))"
   ]
  },
  {
   "cell_type": "code",
   "execution_count": 17,
   "metadata": {},
   "outputs": [
    {
     "data": {
      "text/plain": [
       "12"
      ]
     },
     "execution_count": 17,
     "metadata": {},
     "output_type": "execute_result"
    }
   ],
   "source": [
    "f = '3 * 4'\n",
    "eval(f)"
   ]
  },
  {
   "cell_type": "markdown",
   "metadata": {},
   "source": [
    "## Compile word to numeric digits"
   ]
  },
  {
   "cell_type": "code",
   "execution_count": 6,
   "metadata": {},
   "outputs": [
    {
     "name": "stdout",
     "output_type": "stream",
     "text": [
      "(1*U+10*O+100*Y)\n",
      "lower\n",
      "..........\n",
      "(1*U+10*O+100*Y)\n",
      "lower\n"
     ]
    }
   ],
   "source": [
    "# Write a function, compile_word(word), that compiles a word\n",
    "# of UPPERCASE letters as numeric digits. For example:\n",
    "# compile_word('YOU') => '(1*U + 10*O +100*Y)' \n",
    "# Non-uppercase words should remain unchaged.\n",
    "\n",
    "def convert_char(c, index, size):\n",
    "    return \"%d*%c\" % (10**(size-index), c) # I need reverse index.\n",
    "    \n",
    "def compile_word(word):\n",
    "    \"\"\"Compile a word of uppercase letters as numeric digits.\n",
    "    E.g., compile_word('YOU') => '(1*U+10*O+100*Y)'\n",
    "    Non-uppercase words unchanged: compile_word('+') => '+'\"\"\"\n",
    "    # Your code here.\n",
    "    if not word.isupper():\n",
    "        return word\n",
    "        \n",
    "    size = len(word) - 1\n",
    "    l = [convert_char(c, i, size) for i, c in enumerate(word)]\n",
    "    l.reverse()\n",
    "    out = '(' + '+'.join(l) + ')'\n",
    "    return out\n",
    "    \n",
    "print compile_word('YOU')\n",
    "print compile_word('lower')\n",
    "\n",
    "print '..........'\n",
    "\n",
    "# Another BETTER approach\n",
    "def compile_word_v2(word):\n",
    "    \"\"\"Compile a word of uppercase letters as numeric digits.\n",
    "    E.g., compile_word('YOU') => '(1*U+10*O+100*Y)'\n",
    "    Non-uppercase words unchanged: compile_word('+') => '+'\"\"\"\n",
    "    # Your code here.\n",
    "    if not word.isupper():\n",
    "        return word\n",
    "        \n",
    "    l = [\"%s*%s\" % (10**i, c) for i, c in enumerate(word[::-1])]\n",
    "    return '(' + '+'.join(l) + ')'\n",
    "\n",
    "print compile_word('YOU')\n",
    "print compile_word('lower')"
   ]
  },
  {
   "cell_type": "markdown",
   "metadata": {},
   "source": [
    "## Shortcut to reverse a word"
   ]
  },
  {
   "cell_type": "code",
   "execution_count": 7,
   "metadata": {},
   "outputs": [
    {
     "name": "stdout",
     "output_type": "stream",
     "text": [
      "abcdefg\n",
      "gfedcba\n"
     ]
    }
   ],
   "source": [
    "word = 'abcdefg'\n",
    "print word\n",
    "print word[::-1]"
   ]
  },
  {
   "cell_type": "markdown",
   "metadata": {},
   "source": [
    "# Summary"
   ]
  },
  {
   "cell_type": "markdown",
   "metadata": {},
   "source": [
    "## python\n",
    "- List comprehensions\n",
    "- generator expressions (...for...)\n",
    "- generator `yield`\n",
    "- handling types  ex: timed_calls takes `int` or `float`\n",
    "- eval function\n",
    "    "
   ]
  },
  {
   "cell_type": "markdown",
   "metadata": {},
   "source": [
    "## Instrumention\n",
    "- timing\n",
    "- counting"
   ]
  },
  {
   "cell_type": "markdown",
   "metadata": {},
   "source": [
    "# Problem Set 2"
   ]
  },
  {
   "cell_type": "markdown",
   "metadata": {},
   "source": [
    "## No Leading 0s and A Faster Solution"
   ]
  },
  {
   "cell_type": "code",
   "execution_count": 20,
   "metadata": {},
   "outputs": [
    {
     "name": "stdout",
     "output_type": "stream",
     "text": [
      "B != 0 and (1*A) + (1*B) == (1*A+10*B)\n",
      "lambda A, B: B != 0 and (1*A) + (1*B) == (1*A+10*B)\n",
      "Y != 0 and M != 0 and (1*U+10*O+100*Y) == (1*E+10*M)**2\n",
      "lambda Y, M, E, U, O: Y != 0 and M != 0 and (1*U+10*O+100*Y) == (1*E+10*M)**2\n",
      "(1*X) / (1*X) == (1*X)\n",
      "lambda X: (1*X) / (1*X) == (1*X)\n"
     ]
    },
    {
     "data": {
      "text/plain": [
       "'tests pass'"
      ]
     },
     "execution_count": 20,
     "metadata": {},
     "output_type": "execute_result"
    }
   ],
   "source": [
    "# Modify the function compile_formula so that the function \n",
    "# it returns, f, does not allow numbers where the first digit\n",
    "# is zero. So if the formula contained YOU, f would return \n",
    "# False anytime that Y was 0 \n",
    "\n",
    "import re\n",
    "import itertools\n",
    "import string\n",
    "\n",
    "    \n",
    "def compile_formula(formula, verbose=True):\n",
    "    \"\"\"Compile formula into a function. Also return letters found, as a str,\n",
    "    in same order as parms of function. The first digit of a multi-digit \n",
    "    number can't be 0. So if YOU is a word in the formula, and the function\n",
    "    is called with Y eqal to 0, the function should return False.\"\"\"\n",
    "    \n",
    "    # modify the code in this function.\n",
    "    \n",
    "    letters = ''.join(set(re.findall('[A-Z]', formula)))\n",
    "    first_letters = (re.findall(r'\\b([A-Z])[A-Z]', formula))\n",
    "    parms = ', '.join(letters)\n",
    "    tokens = map(compile_word, re.split('([A-Z]+)', formula))\n",
    "    \n",
    "    body = ''.join(tokens)\n",
    "    if first_letters:\n",
    "        #print first_letters\n",
    "        # Y != 0 and M != 0 and (1*U+10*O+100*Y) == (1*E+10*M)**2\n",
    "        test = ' and '.join([('%s != 0' % l) for l in first_letters])\n",
    "        #print test\n",
    "        body = '%s and %s' % (test, body)\n",
    "    \n",
    "    print body\n",
    "    \n",
    "    f = 'lambda %s: %s' % (parms, body)\n",
    "    if verbose: print f\n",
    "    return eval(f), letters\n",
    "\n",
    "def compile_word(word):\n",
    "    \"\"\"Compile a word of uppercase letters as numeric digits.\n",
    "    E.g., compile_word('YOU') => '(1*U+10*O+100*Y)'\n",
    "    Non-uppercase words uncahanged: compile_word('+') => '+'\"\"\"\n",
    "    if word.isupper():\n",
    "        terms = [('%s*%s' % (10**i, d)) \n",
    "                 for (i, d) in enumerate(word[::-1])]\n",
    "        return '(' + '+'.join(terms) + ')'\n",
    "    else:\n",
    "        return word\n",
    "    \n",
    "def faster_solve(formula):\n",
    "    \"\"\"Given a formula like 'ODD + ODD == EVEN', fill in digits to solve it.\n",
    "    Input formula is a string; output is a digit-filled-in string or None.\n",
    "    This version precompiles the formula; only one eval per formula.\"\"\"\n",
    "    f, letters = compile_formula(formula)\n",
    "    for digits in itertools.permutations((1,2,3,4,5,6,7,8,9,0), len(letters)):\n",
    "        try:\n",
    "            if f(*digits) is True:\n",
    "                table = string.maketrans(letters, ''.join(map(str, digits)))\n",
    "                return formula.translate(table)\n",
    "        except ArithmeticError:\n",
    "            pass\n",
    "\n",
    "def test():\n",
    "    assert faster_solve('A + B == BA') == None # should NOT return '1 + 0 == 01'\n",
    "    assert faster_solve('YOU == ME**2') == ('289 == 17**2' or '576 == 24**2' or '841 == 29**2')\n",
    "    assert faster_solve('X / X == X') == '1 / 1 == 1'\n",
    "    return 'tests pass'\n",
    "test()"
   ]
  },
  {
   "cell_type": "code",
   "execution_count": 24,
   "metadata": {},
   "outputs": [
    {
     "name": "stdout",
     "output_type": "stream",
     "text": [
      "['A', 'B']\n"
     ]
    }
   ],
   "source": [
    "# Find word's first letter (skip single letter word).\n",
    "formula = 'ABC + B == BA'\n",
    "words = (re.findall(r'\\b([A-Z])[A-Z]', formula))\n",
    "print words # ['A', 'B']"
   ]
  },
  {
   "cell_type": "markdown",
   "metadata": {},
   "source": [
    "# Normal `solve` VS `faster_solve`"
   ]
  },
  {
   "cell_type": "markdown",
   "metadata": {},
   "source": [
    "solve is slow due to `eval`, and table translate.\n",
    "\n",
    "`eval` impl involves parsing strings to an AST, and code gen. Internally it works similar to function.\n",
    "\n",
    "So new solution uses a lamda and generate a function. \n",
    "Call `eval` only for this function is way faster than calling with string expressions."
   ]
  },
  {
   "cell_type": "markdown",
   "metadata": {},
   "source": [
    "New solution only calls translate table if eval(f) is true.\n",
    "\n",
    "The old solution translates every permutation, which is slow."
   ]
  },
  {
   "cell_type": "markdown",
   "metadata": {},
   "source": [
    "# Floor Puzzle"
   ]
  },
  {
   "cell_type": "code",
   "execution_count": 32,
   "metadata": {},
   "outputs": [
    {
     "name": "stdout",
     "output_type": "stream",
     "text": [
      "[3, 2, 4, 5, 1]\n"
     ]
    }
   ],
   "source": [
    "# Hopper, Kay, Liskov, Perlis, and Ritchie live on \n",
    "# different floors of a five-floor apartment building. \n",
    "#\n",
    "# Hopper does not live on the top floor. \n",
    "# Kay does not live on the bottom floor. \n",
    "# Liskov does not live on either the top or the bottom floor. \n",
    "# Perlis lives on a higher floor than does Kay. \n",
    "# Ritchie does not live on a floor adjacent to Liskov's. \n",
    "# Liskov does not live on a floor adjacent to Kay's. \n",
    "# \n",
    "# Where does everyone live?  \n",
    "# \n",
    "# Write a function floor_puzzle() that returns a list of\n",
    "# five floor numbers denoting the floor of Hopper, Kay, \n",
    "# Liskov, Perlis, and Ritchie.\n",
    "\n",
    "import itertools\n",
    "\n",
    "def floor_puzzle():\n",
    "    # Your code here\n",
    "    floors = [1, 2, 3, 4, 5]\n",
    "    orderings = list(itertools.permutations(floors))\n",
    "    return next([Hopper, Kay, Liskov, Perlis, Ritchie]\n",
    "                for (Hopper, Kay, Liskov, Perlis, Ritchie) in orderings\n",
    "                if Hopper is not 5\n",
    "                if Kay is not 1\n",
    "                if Liskov is not 1 \n",
    "                if Liskov is not 5\n",
    "                if Perlis > Kay\n",
    "                if abs(Ritchie - Liskov) > 1\n",
    "                if abs(Kay - Liskov) > 1\n",
    "               )\n",
    "    \n",
    "print floor_puzzle()"
   ]
  },
  {
   "cell_type": "markdown",
   "metadata": {},
   "source": [
    "## longest_subpalindrome_slice\n"
   ]
  },
  {
   "cell_type": "code",
   "execution_count": 61,
   "metadata": {},
   "outputs": [
    {
     "name": "stdout",
     "output_type": "stream",
     "text": [
      "[[0, 1], [0, 7], [1, 2], [1, 6], [2, 3], [2, 5], [3, 4], [4, 5], [5, 6], [6, 7]]\n",
      "[[0, 1], [0, 7], [1, 2], [1, 6], [2, 3], [2, 5], [3, 4], [4, 5], [5, 6], [6, 7]]\n",
      "[[0, 1], [0, 7], [1, 2], [1, 6], [2, 3], [2, 5], [3, 4], [4, 5], [5, 6], [6, 7], [7, 8]]\n",
      "[[0, 1], [1, 2], [2, 3], [3, 4], [4, 5], [5, 6], [6, 7], [7, 8], [7, 9], [8, 9]]\n",
      "[[0, 1], [1, 2], [2, 3], [3, 4], [4, 5], [5, 6], [6, 7], [7, 8], [8, 9], [8, 21], [9, 10], [9, 20], [10, 11], [10, 19], [11, 12], [11, 18], [12, 13], [12, 17], [13, 14], [13, 16], [14, 15], [15, 16], [16, 17], [17, 18], [18, 19], [19, 20], [20, 21], [21, 22], [22, 23], [23, 24], [24, 25]]\n",
      "[[0, 1], [0, 2], [0, 3], [0, 4], [0, 5], [1, 2], [1, 3], [1, 4], [1, 5], [2, 3], [2, 4], [2, 5], [3, 4], [3, 5], [4, 5]]\n",
      "[[0, 1], [0, 15], [1, 2], [1, 14], [2, 3], [2, 13], [3, 4], [3, 12], [4, 5], [4, 11], [5, 6], [5, 10], [6, 7], [6, 9], [7, 8], [8, 9], [9, 10], [10, 11], [11, 12], [12, 13], [13, 14], [14, 15], [15, 16]]\n",
      "tests pass\n"
     ]
    }
   ],
   "source": [
    "# Write a function, longest_subpalindrome_slice(text) that takes \n",
    "# a string as input and returns the i and j indices that \n",
    "# correspond to the beginning and end indices of the longest \n",
    "# palindrome in the string. \n",
    "#\n",
    "# Grading Notes:\n",
    "# \n",
    "# You will only be marked correct if your function runs \n",
    "# efficiently enough. We will be measuring efficency by counting\n",
    "# the number of times you access each string. That count must be\n",
    "# below a certain threshold to be marked correct.\n",
    "#\n",
    "# Please do not use regular expressions to solve this quiz!\n",
    "\n",
    "def is_palin(word):\n",
    "    return word == word[::-1]\n",
    "\n",
    "def longest_subpalindrome_slice(text):\n",
    "    \"Return (i, j) such that text[i:j] is the longest palindrome in text.\"\n",
    "    # Your code here\n",
    "    if text == '':\n",
    "        return 0, 0\n",
    "    \n",
    "    text = text.lower()\n",
    "    ranges = range(0, len(text) + 1)\n",
    "    results = []\n",
    "    orderings = list(itertools.permutations(ranges, 2))\n",
    "    for start, end in orderings:\n",
    "        if start < end:\n",
    "            if is_palin(text[start:end]):\n",
    "                results.append([start, end])\n",
    "    \n",
    "    #print results\n",
    "    result = max(results, key=lambda a: abs(a[0]-a[1]))\n",
    "    return result[0], result[1]\n",
    "    \n",
    "    \n",
    "def test():\n",
    "    L = longest_subpalindrome_slice\n",
    "    assert L('racecar') == (0, 7)\n",
    "    assert L('Racecar') == (0, 7)\n",
    "    assert L('RacecarX') == (0, 7)\n",
    "    assert L('Race carr') == (7, 9)\n",
    "    assert L('') == (0, 0)\n",
    "    assert L('something rac e car going') == (8,21)\n",
    "    assert L('xxxxx') == (0, 5)\n",
    "    assert L('Mad am I ma dam.') == (0, 15)\n",
    "    return 'tests pass'\n",
    "\n",
    "print test()"
   ]
  },
  {
   "cell_type": "markdown",
   "metadata": {},
   "source": [
    "### Another Strategy"
   ]
  },
  {
   "cell_type": "code",
   "execution_count": 66,
   "metadata": {},
   "outputs": [
    {
     "name": "stdout",
     "output_type": "stream",
     "text": [
      "tests pass\n"
     ]
    }
   ],
   "source": [
    "def is_palin(word):\n",
    "    return word == word[::-1]\n",
    "\n",
    "def longest_subpalindrome_slice(text):\n",
    "    \"Return (i, j) such that text[i:j] is the longest palindrome in text.\"\n",
    "    # Your code here\n",
    "    if text == '':\n",
    "        return 0, 0\n",
    "    \n",
    "    def length(slice): a,b = slice; return b -a\n",
    "    candidates = [grow(text, start, end)\n",
    "                 for start in range(len(text))\n",
    "                 for end in (start, start+1)]\n",
    "    return max(candidates, key=length)\n",
    "            \n",
    "def grow(text, start, end):\n",
    "    while start > 0 and end < len(text) and text[start-1].upper() == text[end].upper():\n",
    "        start -=1\n",
    "        end +=1\n",
    "    return (start, end)\n",
    "\n",
    "    \n",
    "def test():\n",
    "    L = longest_subpalindrome_slice\n",
    "    assert L('racecar') == (0, 7)\n",
    "    assert L('Racecar') == (0, 7)\n",
    "    assert L('RacecarX') == (0, 7)\n",
    "    assert L('Race carr') == (7, 9)\n",
    "    assert L('') == (0, 0)\n",
    "    assert L('something rac e car going') == (8,21)\n",
    "    assert L('xxxxx') == (0, 5)\n",
    "    assert L('Mad am I ma dam.') == (0, 15)\n",
    "    return 'tests pass'\n",
    "\n",
    "print test()"
   ]
  },
  {
   "cell_type": "markdown",
   "metadata": {},
   "source": [
    "ok\n"
   ]
  }
 ],
 "metadata": {
  "kernelspec": {
   "display_name": "Python 2",
   "language": "python",
   "name": "python2"
  },
  "language_info": {
   "codemirror_mode": {
    "name": "ipython",
    "version": 2
   },
   "file_extension": ".py",
   "mimetype": "text/x-python",
   "name": "python",
   "nbconvert_exporter": "python",
   "pygments_lexer": "ipython2",
   "version": "2.7.15"
  }
 },
 "nbformat": 4,
 "nbformat_minor": 2
}
