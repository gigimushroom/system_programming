{
 "cells": [
  {
   "cell_type": "markdown",
   "metadata": {},
   "source": [
    "# Quiz: Bowling"
   ]
  },
  {
   "cell_type": "code",
   "execution_count": 7,
   "metadata": {},
   "outputs": [
    {
     "name": "stdout",
     "output_type": "stream",
     "text": [
      "PASSED\n"
     ]
    }
   ],
   "source": [
    "\"\"\"\n",
    "UNIT 1: Bowling:\n",
    "\n",
    "You will write the function bowling(balls), which returns an integer indicating\n",
    "the score of a ten-pin bowling game.  balls is a list of integers indicating\n",
    "how many pins are knocked down with each ball.  For example, a perfect game of\n",
    "bowling would be described with:\n",
    "\n",
    "    >>> bowling([10, 10, 10, 10, 10, 10, 10, 10, 10, 10, 10, 10])\n",
    "    300\n",
    "\n",
    "The rules of bowling are as follows:\n",
    "\n",
    "(1) A game consists of 10 frames. In each frame you roll one or two balls,\n",
    "except for the tenth frame, where you roll one, two, or three.  Your total\n",
    "score is the sum of your scores for the ten frames.\n",
    "(2) If you knock down fewer than ten pins with your two balls in the frame,\n",
    "you score the total knocked down.  For example, bowling([8, 1, 7, ...]) means\n",
    "that you knocked down a total of 9 pins in the first frame.  You score 9 point\n",
    "for the frame, and you used up two balls in the frame. The second frame will\n",
    "start with the 7.\n",
    "(3) If you knock down all ten pins on your second ball it is called a 'spare'\n",
    "and you score 10 points plus a bonus: whatever you roll with your next ball.\n",
    "The next ball will also count in the next frame, so the next ball counts twice\n",
    "(except in the tenth frame, in which case the bonus ball counts only once).\n",
    "For example, bowling([8, 2, 7, ...]) means you get a spare in the first frame.\n",
    "You score 10 + 7 for the frame; the second frame starts with the 7.\n",
    "(4) If you knock down all ten pins on your first ball it is called a 'strike'\n",
    "and you score 10 points plus a bonus of your score on the next two balls.\n",
    "(The next two balls also count in the next frame, except in the tenth frame.)\n",
    "For example, bowling([10, 7, 3, ...]) means that you get a strike, you score\n",
    "10 + 7 + 3 = 20 in the first frame; the second frame starts with the 7.\n",
    "\n",
    "\"\"\"\n",
    "\n",
    "\n",
    "def is_spare(hand):\n",
    "  return len(hand) == 2 and sum(hand) == 10\n",
    "\n",
    "def is_strike(hand):\n",
    "  return len(hand) == 1 and hand[0] == 10\n",
    "\n",
    "\n",
    "def generate_hands(balls):\n",
    "  hands = []\n",
    "  n = len(balls)\n",
    "  i = 0\n",
    "  while i < n:\n",
    "    if len(hands) == 9:\n",
    "      hands.append(balls[i:])\n",
    "      return hands\n",
    "\n",
    "    if balls[i] + balls[i + 1] <= 10:\n",
    "      hands.append([balls[i], balls[i + 1]])\n",
    "      i += 2\n",
    "    elif balls[i] == 10:\n",
    "      hands.append([balls[i]])\n",
    "      i += 1\n",
    "\n",
    "  return None\n",
    "\n",
    "def calc_hand(hands, i):\n",
    "  hand = hands[i]\n",
    "  score = sum(hand)\n",
    "  # Now look forward for special move.\n",
    "  if is_spare(hand):\n",
    "    if i < 10:\n",
    "      score += hands[i+1][0]\n",
    "  elif is_strike(hand):\n",
    "    if i < 10:\n",
    "      balls_list = [item for sublist in hands[i+1:] for item in sublist]\n",
    "      score += sum(balls_list[:2])\n",
    "\n",
    "  return score\n",
    "\n",
    "def bowling(balls):\n",
    "  \"\"\"Compute the total score for a player's game of bowling.\"\"\"\n",
    "  ## bowling([int, ...]) -> int\n",
    "  ## your code here\n",
    "  hands = generate_hands(balls)\n",
    "  scores = 0\n",
    "  for i, hand in enumerate(hands):\n",
    "    score = calc_hand(hands, i)\n",
    "    #print i, hand, score\n",
    "    scores += score\n",
    "\n",
    "  #print 'final', scores\n",
    "  return scores\n",
    "\n",
    "def test_hands():\n",
    "  \"\"\"\n",
    "[[9, 1], [9, 1], [9, 1], [9, 1], [9, 1], [9, 1], [9, 1], [9, 1], [9, 1], [9, 1, 9]]\n",
    "[10, 10, 10, 10, 10, 10, 10, 10, 10, [10, 10, 10]]\n",
    "[10, [5, 5], 10, [5, 5], 10, [5, 5], 10, [5, 5], 10, [5, 5, 10]]\n",
    "[[0, 0], [0, 0], [0, 0], [0, 0], [0, 0], [0, 0], [0, 0], [0, 0], [0, 0], [10, 1, 0]]\n",
    "  \"\"\"\n",
    "  print generate_hands([9, 1] * 10 + [9])\n",
    "  print generate_hands([10] * 12)\n",
    "  print generate_hands([10, 5, 5] * 5 + [10])\n",
    "  print generate_hands([0, 0] * 9 + [10, 1, 0])\n",
    "\n",
    "\n",
    "# test_hands()\n",
    "\n",
    "def test_bowling():\n",
    "  assert 0 == bowling([0] * 20)\n",
    "  assert 20 == bowling([1] * 20)\n",
    "  assert 80 == bowling([4] * 20)\n",
    "  assert 190 == bowling([9, 1] * 10 + [9])\n",
    "  assert 300 == bowling([10] * 12)\n",
    "  assert 200 == bowling([10, 5, 5] * 5 + [10])\n",
    "  assert 11 == bowling([0, 0] * 9 + [10, 1, 0])\n",
    "  assert 12 == bowling([0, 0] * 8 + [10, 1, 0])\n",
    "  print 'PASSED'\n",
    "\n",
    "test_bowling()\n"
   ]
  },
  {
   "cell_type": "code",
   "execution_count": 3,
   "metadata": {},
   "outputs": [
    {
     "name": "stdout",
     "output_type": "stream",
     "text": [
      "<function bar at 0x10f8eb9b0>\n",
      "13\n"
     ]
    }
   ],
   "source": [
    "def foo(a, b):\n",
    "    def bar(x):\n",
    "        return a * x + b\n",
    "    return bar\n",
    "\n",
    "ff = foo(3, 4)\n",
    "print ff\n",
    "print ff(3)"
   ]
  },
  {
   "cell_type": "code",
   "execution_count": null,
   "metadata": {},
   "outputs": [],
   "source": []
  }
 ],
 "metadata": {
  "kernelspec": {
   "display_name": "Python 2",
   "language": "python",
   "name": "python2"
  },
  "language_info": {
   "codemirror_mode": {
    "name": "ipython",
    "version": 2
   },
   "file_extension": ".py",
   "mimetype": "text/x-python",
   "name": "python",
   "nbconvert_exporter": "python",
   "pygments_lexer": "ipython2",
   "version": "2.7.15"
  }
 },
 "nbformat": 4,
 "nbformat_minor": 2
}
