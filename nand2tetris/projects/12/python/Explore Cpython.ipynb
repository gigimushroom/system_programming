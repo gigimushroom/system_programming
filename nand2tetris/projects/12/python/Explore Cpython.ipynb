{
 "cells": [
  {
   "cell_type": "code",
   "execution_count": 3,
   "metadata": {},
   "outputs": [
    {
     "name": "stdout",
     "output_type": "stream",
     "text": [
      "  3           0 LOAD_FAST                0 (x)\n",
      "              2 LOAD_CONST               1 (3)\n",
      "              4 BINARY_ADD\n",
      "              6 RETURN_VALUE\n"
     ]
    }
   ],
   "source": [
    "import dis\n",
    "\n",
    "def g(x):\n",
    "    return x + 3\n",
    "\n",
    "dis.dis(g)"
   ]
  },
  {
   "cell_type": "markdown",
   "metadata": {},
   "source": [
    "CPython's VM is stack-based. It means that it executes instructions using the stack to store and retrieve data."
   ]
  },
  {
   "cell_type": "markdown",
   "metadata": {},
   "source": [
    "LOAD_FAST instruction pushes local variable on the stack. \n",
    "\n",
    "LOAD_CONST pushes a constant. \n",
    "\n",
    "BINARY_ADD pops two objects from the stack, adds them up and pushes the result back."
   ]
  },
  {
   "cell_type": "code",
   "execution_count": 5,
   "metadata": {},
   "outputs": [
    {
     "name": "stdout",
     "output_type": "stream",
     "text": [
      "  2           0 LOAD_CONST               1 (<code object f at 0x105158870, file \"<ipython-input-5-3acd04a4c5ff>\", line 2>)\n",
      "              2 LOAD_CONST               2 ('g.<locals>.f')\n",
      "              4 MAKE_FUNCTION            0\n",
      "              6 STORE_FAST               0 (f)\n",
      "\n",
      "  5           8 LOAD_GLOBAL              0 (print)\n",
      "             10 LOAD_FAST                0 (f)\n",
      "             12 LOAD_CONST               3 (1)\n",
      "             14 CALL_FUNCTION            1\n",
      "             16 CALL_FUNCTION            1\n",
      "             18 POP_TOP\n",
      "             20 LOAD_CONST               0 (None)\n",
      "             22 RETURN_VALUE\n",
      "\n",
      "Disassembly of <code object f at 0x105158870, file \"<ipython-input-5-3acd04a4c5ff>\", line 2>:\n",
      "  3           0 LOAD_FAST                0 (x)\n",
      "              2 LOAD_CONST               1 (1)\n",
      "              4 BINARY_ADD\n",
      "              6 RETURN_VALUE\n"
     ]
    }
   ],
   "source": [
    "def g():\n",
    "    def f(x):\n",
    "        return x + 1\n",
    "\n",
    "    print(f(1))\n",
    "\n",
    "dis.dis(g)"
   ]
  },
  {
   "cell_type": "markdown",
   "metadata": {},
   "source": [
    "CPython stores information about what a code block does in a structure called code object. \n",
    "\n",
    "To run a module or to call a function means to start evaluating a corresponding code object."
   ]
  },
  {
   "cell_type": "markdown",
   "metadata": {},
   "source": [
    "## function object VS code objects\n",
    "\n",
    "Function objects are created by the execution of the 'def' statement. They reference a code object in their __code__ attribute, which is a purely syntactic object, i.e. nothing more than a compiled version of some source code lines. There is one code object per source code \"fragment\", but each code object can be referenced by zero or many function objects depending only on how many times the 'def' statement in the source was executed so far.\n",
    "\n",
    "```\n",
    "struct PyCodeObject {\n",
    "    PyObject_HEAD\n",
    "    int co_argcount;            /* #arguments, except *args */\n",
    "    int co_posonlyargcount;     /* #positional only arguments */\n",
    "    int co_kwonlyargcount;      /* #keyword only arguments */\n",
    "    int co_nlocals;             /* #local variables */\n",
    "    int co_stacksize;           /* #entries needed for evaluation stack */\n",
    "    int co_flags;               /* CO_..., see below */\n",
    "    int co_firstlineno;         /* first source line number */\n",
    "    PyObject *co_code;          /* instruction opcodes */\n",
    "    PyObject *co_consts;        /* list (constants used) */\n",
    "    PyObject *co_names;         /* list of strings (names used) */\n",
    "    PyObject *co_varnames;      /* tuple of strings (local variable names) */\n",
    "    PyObject *co_freevars;      /* tuple of strings (free variable names) */\n",
    "    PyObject *co_cellvars;      /* tuple of strings (cell variable names) */\n",
    "\n",
    "    Py_ssize_t *co_cell2arg;    /* Maps cell vars which are arguments. */\n",
    "    PyObject *co_filename;      /* unicode (where it was loaded from) */\n",
    "    PyObject *co_name;          /* unicode (name, for reference) */\n",
    "        /* ... more members ... */\n",
    "};\n",
    "```\n",
    "\n",
    "```\n",
    "typedef struct {\n",
    "    PyObject_HEAD\n",
    "    PyObject *func_code;        /* A code object, the __code__ attribute */\n",
    "    PyObject *func_globals;     /* A dictionary (other mappings won't do) */\n",
    "    PyObject *func_defaults;    /* NULL or a tuple */\n",
    "    PyObject *func_kwdefaults;  /* NULL or a dict */\n",
    "    PyObject *func_closure;     /* NULL or a tuple of cell objects */\n",
    "    PyObject *func_doc;         /* The __doc__ attribute, can be anything */\n",
    "    PyObject *func_name;        /* The __name__ attribute, a string object */\n",
    "    PyObject *func_dict;        /* The __dict__ attribute, a dict or NULL */\n",
    "    PyObject *func_weakreflist; /* List of weak references */\n",
    "    PyObject *func_module;      /* The __module__ attribute, can be anything */\n",
    "    PyObject *func_annotations; /* Annotations, a dict or NULL */\n",
    "    PyObject *func_qualname;    /* The qualified name */\n",
    "    vectorcallfunc vectorcall;\n",
    "} PyFunctionObject;\n",
    "```"
   ]
  },
  {
   "cell_type": "markdown",
   "metadata": {},
   "source": [
    "Code object is just a compiled version of source code lines.\n",
    "\n",
    "Function object is created each time the source is executed. Function objects can linked to same code object(the actual function source code)"
   ]
  },
  {
   "cell_type": "markdown",
   "metadata": {},
   "source": [
    "## Frame object\n",
    "\n",
    "```\n",
    "struct _frame {\n",
    "    PyObject_VAR_HEAD\n",
    "    struct _frame *f_back;      /* previous frame, or NULL */\n",
    "    PyCodeObject *f_code;       /* code segment */\n",
    "    PyObject *f_builtins;       /* builtin symbol table (PyDictObject) */\n",
    "    PyObject *f_globals;        /* global symbol table (PyDictObject) */\n",
    "    PyObject *f_locals;         /* local symbol table (any mapping) */\n",
    "    PyObject **f_valuestack;    /* points after the last local */\n",
    "\n",
    "    PyObject **f_stacktop;          /* Next free slot in f_valuestack.  ... */\n",
    "    PyObject *f_trace;          /* Trace function */\n",
    "    char f_trace_lines;         /* Emit per-line trace events? */\n",
    "    char f_trace_opcodes;       /* Emit per-opcode trace events? */\n",
    "\n",
    "    /* Borrowed reference to a generator, or NULL */\n",
    "    PyObject *f_gen;\n",
    "\n",
    "    int f_lasti;                /* Last instruction if called */\n",
    "    /* ... */\n",
    "    int f_lineno;               /* Current line number */\n",
    "    int f_iblock;               /* index in f_blockstack */\n",
    "    char f_executing;           /* whether the frame is still executing */\n",
    "    PyTryBlock f_blockstack[CO_MAXBLOCKS]; /* for try and loop blocks */\n",
    "    PyObject *f_localsplus[1];  /* locals+stack, dynamically sized */\n",
    "};\n",
    "```\n",
    "\n",
    "When a function is called, a new frame is pushed to the VM stack.\n",
    "\n",
    "Each frame has a reference to the previous frame. (Call stack)\n",
    "\n"
   ]
  },
  {
   "cell_type": "markdown",
   "metadata": {},
   "source": [
    "## We've already looked at the three important concepts:\n",
    "\n",
    "- a code object\n",
    "- a function object; and\n",
    "- a frame object."
   ]
  },
  {
   "cell_type": "markdown",
   "metadata": {},
   "source": [
    "### CPython has three more:\n",
    "\n",
    "- a thread state\n",
    "- an interpreter state; and\n",
    "- a runtime state."
   ]
  },
  {
   "cell_type": "markdown",
   "metadata": {},
   "source": [
    "A thread state is a data structure that contains thread-specific data including the call stack, an exception state and the debugging settings. It should not be confused with an OS thread. They're closely connected\n",
    "\n",
    "An interpreter state is a group of threads along with the data specific to this group. Threads share such things as loaded modules (sys.modules), builtins (builtins.__dict__) and the import system (importlib).\n",
    "\n",
    "The runtime state is a global variable. It stores data that is specific to a process. This includes CPython state (is it initialized or not?) and the GIL mechanism."
   ]
  },
  {
   "cell_type": "markdown",
   "metadata": {},
   "source": [
    "## Architecture summary\n",
    "Let's make a quick summary of the CPython's architecture to see how everything fits together. The interpreter can be viewed as a layered structure. The following sums up what the layers are:\n",
    "\n",
    "- Runtime: global CPython state of a process; includes GIL and memory allocation mechanism\n",
    "- Interpreter: group of threads and some data they share such as imported modules.\n",
    "- Thread: data specific to a single OS thread; this includes call stack.\n",
    "- Frame: element of call stack; provides a state to execute a code object.\n",
    "- Evaluation loop: executes a code object, which tells what a code block does and contains bytecode and names of variables."
   ]
  },
  {
   "cell_type": "markdown",
   "metadata": {},
   "source": [
    "# How CPython Compiler Works"
   ]
  },
  {
   "cell_type": "code",
   "execution_count": 11,
   "metadata": {},
   "outputs": [
    {
     "name": "stdout",
     "output_type": "stream",
     "text": [
      "Module(body=[Assign(targets=[Name(id='x', ctx=Store())], value=Constant(value=123, kind=None), type_comment=None), If(test=Compare(left=Name(id='x', ctx=Load()), ops=[Lt()], comparators=[Constant(value=3, kind=None)]), body=[Expr(value=Call(func=Name(id='print', ctx=Load()), args=[Constant(value=666, kind=None)], keywords=[]))], orelse=[])], type_ignores=[])\n"
     ]
    }
   ],
   "source": [
    "import ast\n",
    "\n",
    "str = \"\"\"\n",
    "x = 123\n",
    "if x < 3:\n",
    "  print(666)\n",
    "\"\"\"\n",
    "tree = ast.parse(str)\n",
    "print(ast.dump(tree))"
   ]
  },
  {
   "cell_type": "markdown",
   "metadata": {},
   "source": [
    "```\n",
    "Module(\n",
    "body=[Assign(\n",
    "    targets=[Name(id='x', ctx=Store())], value=Constant(value=123, kind=None), type_comment=None), If(test=Compare(\n",
    "      left=Name(id='x', ctx=Load()), ops=[Lt()], comparators=[Constant(value=3, kind=None)]\n",
    "      ), \n",
    "      body=[\n",
    "        Expr(value=Call(func=Name(id='print', ctx=Load()), \n",
    "                        args=[Constant(value=666, kind=None)], \n",
    "                        keywords=[]))\n",
    "      ], \n",
    "      orelse=[])\n",
    "  ], \n",
    "type_ignores=[])\n",
    "```"
   ]
  },
  {
   "cell_type": "code",
   "execution_count": null,
   "metadata": {},
   "outputs": [],
   "source": []
  }
 ],
 "metadata": {
  "kernelspec": {
   "display_name": "Python 3",
   "language": "python",
   "name": "python3"
  },
  "language_info": {
   "codemirror_mode": {
    "name": "ipython",
    "version": 3
   },
   "file_extension": ".py",
   "mimetype": "text/x-python",
   "name": "python",
   "nbconvert_exporter": "python",
   "pygments_lexer": "ipython3",
   "version": "3.8.5"
  }
 },
 "nbformat": 4,
 "nbformat_minor": 2
}
