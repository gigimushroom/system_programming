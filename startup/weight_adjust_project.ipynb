{
 "cells": [
  {
   "cell_type": "code",
   "execution_count": 74,
   "metadata": {},
   "outputs": [
    {
     "name": "stdout",
     "output_type": "stream",
     "text": [
      "available 0.30000000000000004\n",
      "[1.02, 1.2, 1.28] 3.5\n",
      "available 1.0\n",
      "[1.02, 1.46, 1.2, 1.2, 1.02] 5.9\n",
      "11.1\n",
      "available 1.8\n",
      "[1.02, 6.84, 1.2, 1.02, 1.02] 11.099999999999998\n",
      "PASSED\n"
     ]
    }
   ],
   "source": [
    "def adjust_weight(s):    \n",
    "    # dict for items > 1.2\n",
    "    available = 0\n",
    "    more_dict = {}\n",
    "    for i, v in enumerate(s):\n",
    "        if v > 1.2:\n",
    "            # If value is too big, at most we can use is 1.2\n",
    "            val = min(v - 1.2, 1.2)\n",
    "            more_dict[i] = val\n",
    "            available += val\n",
    "    \n",
    "    total_deducted = 0\n",
    "    \n",
    "    print('available', available)\n",
    "    # Make item < 1.01 becomes 1.01\n",
    "    result = list(s)\n",
    "    for i, v in enumerate(s):\n",
    "        if v < 1.2:\n",
    "            needs = 1.02 - v\n",
    "            if needs < available:\n",
    "                available -= needs\n",
    "                v += needs\n",
    "                total_deducted += needs\n",
    "                result[i] = v\n",
    "            else:\n",
    "                print('No more items available.')\n",
    "                break\n",
    "\n",
    "    sorted_d = sorted(more_dict.items(), key=lambda x: x[1])\n",
    "    for k, v in sorted_d:\n",
    "        if total_deducted <= 0:\n",
    "            break\n",
    "        if v > total_deducted:\n",
    "            v = total_deducted\n",
    "        result[k] -= v\n",
    "        total_deducted -= v\n",
    "    \n",
    "    print(result, sum(result))\n",
    "    return result\n",
    "\n",
    "def test_weights():\n",
    "    assert(adjust_weight([0.8, 1.2, 1.5])) == [1.02, 1.2, 1.28]\n",
    "    a1 = [0.8, 2.0, 1.2, 1.4, 0.5]\n",
    "    assert(sum(adjust_weight(a1))) == sum(a1)\n",
    "    \n",
    "    a2 = [0.2, 8.0, 1.8, 0.9, 0.2]\n",
    "    print(sum(a2))\n",
    "    assert(round(sum(adjust_weight(a2)), 2)) == sum(a2)\n",
    "    \n",
    "    print('PASSED')\n",
    "        \n",
    "test_weights()    \n"
   ]
  },
  {
   "cell_type": "code",
   "execution_count": null,
   "metadata": {},
   "outputs": [],
   "source": []
  },
  {
   "cell_type": "code",
   "execution_count": null,
   "metadata": {},
   "outputs": [],
   "source": []
  }
 ],
 "metadata": {
  "kernelspec": {
   "display_name": "Python 3",
   "language": "python",
   "name": "python3"
  },
  "language_info": {
   "codemirror_mode": {
    "name": "ipython",
    "version": 3
   },
   "file_extension": ".py",
   "mimetype": "text/x-python",
   "name": "python",
   "nbconvert_exporter": "python",
   "pygments_lexer": "ipython3",
   "version": "3.8.2"
  }
 },
 "nbformat": 4,
 "nbformat_minor": 4
}
