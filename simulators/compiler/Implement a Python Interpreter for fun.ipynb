{
 "cells": [
  {
   "cell_type": "code",
   "execution_count": 19,
   "metadata": {},
   "outputs": [
    {
     "name": "stdout",
     "output_type": "stream",
     "text": [
      "['d', '\\x01', '\\x00', '}', '\\x00', '\\x00', '|', '\\x00', '\\x00', 'd', '\\x02', '\\x00', 'k', '\\x00', '\\x00', 'r', '\\x16', '\\x00', 'd', '\\x03', '\\x00', 'S', 'd', '\\x04', '\\x00', 'S', 'd', '\\x00', '\\x00', 'S']\n",
      "  2           0 LOAD_CONST               1 (3)\n",
      "              3 STORE_FAST               0 (x)\n",
      "\n",
      "  3           6 LOAD_FAST                0 (x)\n",
      "              9 LOAD_CONST               2 (5)\n",
      "             12 COMPARE_OP               0 (<)\n",
      "             15 POP_JUMP_IF_FALSE       22\n",
      "\n",
      "  4          18 LOAD_CONST               3 ('yes')\n",
      "             21 RETURN_VALUE        \n",
      "\n",
      "  6     >>   22 LOAD_CONST               4 ('no')\n",
      "             25 RETURN_VALUE        \n",
      "             26 LOAD_CONST               0 (None)\n",
      "             29 RETURN_VALUE        \n",
      "100 in op is: LOAD_CONST\n"
     ]
    }
   ],
   "source": [
    "def cond():\n",
    "    x = 3\n",
    "    if x < 5:\n",
    "        return 'yes'\n",
    "    else:\n",
    "        return 'no'\n",
    "    \n",
    "cc = cond.__code__.co_code\n",
    "print list(cond.__code__.co_code)\n",
    "\n",
    "import dis\n",
    "dis.dis(cond)\n",
    "\n",
    "print '100 in op is:', dis.opname[100]"
   ]
  },
  {
   "cell_type": "markdown",
   "metadata": {},
   "source": [
    "### In Python3, bytecode are printed as numbers.\n",
    "\n",
    "```\n",
    ">>> list(cond.__code__.co_code)  # the bytecode as numbers\n",
    "[100, 1, 0, 125, 0, 0, 124, 0, 0, 100, 2, 0, 107, 0, 0, 114, 22, 0, 100, 3, 0, 83, \n",
    " 100, 4, 0, 83, 100, 0, 0, 83]\n",
    "```"
   ]
  },
  {
   "cell_type": "markdown",
   "metadata": {},
   "source": [
    "The second and third bytes—1, 0—are arguments to LOAD_CONST, \n",
    "\n",
    "while the fifth and sixth bytes—0, 0—are arguments to STORE_FAST"
   ]
  },
  {
   "cell_type": "markdown",
   "metadata": {},
   "source": [
    "## Why use two bytes for each argument?"
   ]
  },
  {
   "cell_type": "markdown",
   "metadata": {},
   "source": [
    "If Python used just one byte to locate constants and names instead of two, you could only have 256 names/constants associated with a single code object. \n",
    "\n",
    "Using two bytes, you can have up to **256 squared**, or 65,536"
   ]
  },
  {
   "cell_type": "markdown",
   "metadata": {},
   "source": [
    "## jump --> POP_JUMP_IF_FALSE"
   ]
  },
  {
   "cell_type": "markdown",
   "metadata": {},
   "source": [
    "This instruction will pop the top value off the interpreter's stack. \n",
    "\n",
    "If the value is true, then nothing happens. (The value can be \"truthy\"—it doesn't have to be the literal True object.) \n",
    "\n",
    "If the value is false, then the interpreter will jump to another instruction."
   ]
  },
  {
   "cell_type": "markdown",
   "metadata": {},
   "source": [
    "# Homework\n",
    "\n",
    "1. What's the difference between a for loop and a while loop to the Python interpreter?\n",
    "2. How can you write different functions that generate identical bytecode?\n",
    "3. How does elif work? What about list comprehensions?"
   ]
  },
  {
   "cell_type": "markdown",
   "metadata": {},
   "source": [
    "# Frame"
   ]
  },
  {
   "cell_type": "markdown",
   "metadata": {},
   "source": [
    "A frame is a collection of information and context for a chunk of code. \n",
    "\n",
    "Frames are created and destroyed on the fly as your Python code executes. \n",
    "\n",
    "There's one frame corresponding to each call of a function\n",
    "\n",
    "```\n",
    ">>> def bar(y):\n",
    "...     z = y + 3     # <--- (3) ... and the interpreter is here.\n",
    "...     return z\n",
    "...\n",
    ">>> def foo():\n",
    "...     a = 1\n",
    "...     b = 2\n",
    "...     return a + bar(b) # <--- (2) ... which is returning a call to bar ...\n",
    "...\n",
    ">>> foo()             # <--- (1) We're in the middle of a call to foo ...\n",
    "3\n",
    "```"
   ]
  },
  {
   "cell_type": "markdown",
   "metadata": {},
   "source": [
    "![Call stack](img/callstack.png)"
   ]
  },
  {
   "cell_type": "markdown",
   "metadata": {},
   "source": [
    "There are data block, we used for pop/push variables.\n",
    "\n",
    "Call stack.\n",
    "\n",
    "As well as data stack: used for certain kinds of control flow, particularly looping and exception handling.\n",
    "\n",
    "#### Each frame on the call stack has its own data stack and block stack."
   ]
  },
  {
   "cell_type": "markdown",
   "metadata": {},
   "source": [
    "# Byterun"
   ]
  },
  {
   "cell_type": "code",
   "execution_count": 27,
   "metadata": {},
   "outputs": [
    {
     "name": "stdout",
     "output_type": "stream",
     "text": [
      "90\n",
      "[100]\n",
      "['STORE_NAME', 'DELETE_NAME', 'STORE_ATTR', 'DELETE_ATTR', 'STORE_GLOBAL', 'DELETE_GLOBAL', 'LOAD_NAME', 'LOAD_ATTR', 'IMPORT_NAME', 'IMPORT_FROM', 'LOAD_GLOBAL']\n",
      "['LOAD_FAST', 'STORE_FAST', 'DELETE_FAST']\n",
      "['FOR_ITER', 'JUMP_FORWARD', 'SETUP_LOOP', 'SETUP_EXCEPT', 'SETUP_FINALLY', 'SETUP_WITH']\n"
     ]
    }
   ],
   "source": [
    "import dis\n",
    "print dis.HAVE_ARGUMENT\n",
    "print dis.hasconst\n",
    "\n",
    "print [dis.opname[op] for op in dis.hasname]\n",
    "print [dis.opname[op] for op in dis.haslocal]\n",
    "\n",
    "print [dis.opname[op] for op in dis.hasjrel]"
   ]
  },
  {
   "cell_type": "code",
   "execution_count": null,
   "metadata": {},
   "outputs": [],
   "source": []
  }
 ],
 "metadata": {
  "kernelspec": {
   "display_name": "Python 2",
   "language": "python",
   "name": "python2"
  },
  "language_info": {
   "codemirror_mode": {
    "name": "ipython",
    "version": 2
   },
   "file_extension": ".py",
   "mimetype": "text/x-python",
   "name": "python",
   "nbconvert_exporter": "python",
   "pygments_lexer": "ipython2",
   "version": "2.7.15"
  }
 },
 "nbformat": 4,
 "nbformat_minor": 2
}
