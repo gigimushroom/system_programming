{
 "cells": [
  {
   "cell_type": "code",
   "execution_count": 4,
   "metadata": {},
   "outputs": [
    {
     "name": "stdout",
     "output_type": "stream",
     "text": [
      "[100, 1, 125, 0, 124, 0, 100, 2, 107, 0, 114, 16, 100, 3, 83, 0, 100, 4, 83, 0, 100, 0, 83, 0]\n",
      "  2           0 LOAD_CONST               1 (3)\n",
      "              2 STORE_FAST               0 (x)\n",
      "\n",
      "  3           4 LOAD_FAST                0 (x)\n",
      "              6 LOAD_CONST               2 (5)\n",
      "              8 COMPARE_OP               0 (<)\n",
      "             10 POP_JUMP_IF_FALSE       16\n",
      "\n",
      "  4          12 LOAD_CONST               3 ('yes')\n",
      "             14 RETURN_VALUE\n",
      "\n",
      "  6     >>   16 LOAD_CONST               4 ('no')\n",
      "             18 RETURN_VALUE\n",
      "             20 LOAD_CONST               0 (None)\n",
      "             22 RETURN_VALUE\n",
      "100 in op is: LOAD_CONST\n"
     ]
    }
   ],
   "source": [
    "def cond():\n",
    "    x = 3\n",
    "    if x < 5:\n",
    "        return 'yes'\n",
    "    else:\n",
    "        return 'no'\n",
    "    \n",
    "cc = cond.__code__.co_code\n",
    "print(list(cond.__code__.co_code))\n",
    "\n",
    "import dis\n",
    "dis.dis(cond)\n",
    "\n",
    "print('100 in op is:', dis.opname[100])"
   ]
  },
  {
   "cell_type": "markdown",
   "metadata": {},
   "source": [
    "### In Python3, bytecode are printed as numbers.\n",
    "\n",
    "```\n",
    ">>> list(cond.__code__.co_code)  # the bytecode as numbers\n",
    "[100, 1, 0, 125, 0, 0, 124, 0, 0, 100, 2, 0, 107, 0, 0, 114, 22, 0, 100, 3, 0, 83, \n",
    " 100, 4, 0, 83, 100, 0, 0, 83]\n",
    "```"
   ]
  },
  {
   "cell_type": "markdown",
   "metadata": {},
   "source": [
    "The second and third bytes—1, 0—are arguments to LOAD_CONST, \n",
    "\n",
    "while the fifth and sixth bytes—0, 0—are arguments to STORE_FAST"
   ]
  },
  {
   "cell_type": "markdown",
   "metadata": {},
   "source": [
    "## Why use two bytes for each argument?"
   ]
  },
  {
   "cell_type": "markdown",
   "metadata": {},
   "source": [
    "If Python used just one byte to locate constants and names instead of two, you could only have 256 names/constants associated with a single code object. \n",
    "\n",
    "Using two bytes, you can have up to **256 squared**, or 65,536"
   ]
  },
  {
   "cell_type": "markdown",
   "metadata": {},
   "source": [
    "## jump --> POP_JUMP_IF_FALSE"
   ]
  },
  {
   "cell_type": "markdown",
   "metadata": {},
   "source": [
    "This instruction will pop the top value off the interpreter's stack. \n",
    "\n",
    "If the value is true, then nothing happens. (The value can be \"truthy\"—it doesn't have to be the literal True object.) \n",
    "\n",
    "If the value is false, then the interpreter will jump to another instruction."
   ]
  },
  {
   "cell_type": "markdown",
   "metadata": {},
   "source": [
    "# Homework\n",
    "\n",
    "1. What's the difference between a for loop and a while loop to the Python interpreter?\n",
    "2. How can you write different functions that generate identical bytecode?\n",
    "3. How does elif work? What about list comprehensions?"
   ]
  },
  {
   "cell_type": "markdown",
   "metadata": {},
   "source": [
    "# Frame"
   ]
  },
  {
   "cell_type": "markdown",
   "metadata": {},
   "source": [
    "A frame is a collection of information and context for a chunk of code. \n",
    "\n",
    "Frames are created and destroyed on the fly as your Python code executes. \n",
    "\n",
    "There's one frame corresponding to each call of a function\n",
    "\n",
    "```\n",
    ">>> def bar(y):\n",
    "...     z = y + 3     # <--- (3) ... and the interpreter is here.\n",
    "...     return z\n",
    "...\n",
    ">>> def foo():\n",
    "...     a = 1\n",
    "...     b = 2\n",
    "...     return a + bar(b) # <--- (2) ... which is returning a call to bar ...\n",
    "...\n",
    ">>> foo()             # <--- (1) We're in the middle of a call to foo ...\n",
    "3\n",
    "```"
   ]
  },
  {
   "cell_type": "markdown",
   "metadata": {},
   "source": [
    "![Call stack](img/callstack.png)"
   ]
  },
  {
   "cell_type": "markdown",
   "metadata": {},
   "source": [
    "There are data block, we used for pop/push variables.\n",
    "\n",
    "Call stack.\n",
    "\n",
    "As well as data stack: used for certain kinds of control flow, particularly looping and exception handling.\n",
    "\n",
    "#### Each frame on the call stack has its own data stack and block stack."
   ]
  },
  {
   "cell_type": "markdown",
   "metadata": {},
   "source": [
    "# Byterun"
   ]
  },
  {
   "cell_type": "code",
   "execution_count": 7,
   "metadata": {},
   "outputs": [
    {
     "data": {
      "text/plain": [
       "['FOR_ITER',\n",
       " 'JUMP_FORWARD',\n",
       " 'SETUP_LOOP',\n",
       " 'SETUP_EXCEPT',\n",
       " 'SETUP_FINALLY',\n",
       " 'SETUP_WITH',\n",
       " 'SETUP_ASYNC_WITH']"
      ]
     },
     "execution_count": 7,
     "metadata": {},
     "output_type": "execute_result"
    }
   ],
   "source": [
    "import dis\n",
    "dis.HAVE_ARGUMENT\n",
    "dis.hasconst\n",
    "\n",
    "[dis.opname[op] for op in dis.hasname]\n",
    "[dis.opname[op] for op in dis.haslocal]\n",
    "\n",
    "[dis.opname[op] for op in dis.hasjrel]"
   ]
  },
  {
   "cell_type": "markdown",
   "metadata": {},
   "source": [
    "# Real shit!"
   ]
  },
  {
   "cell_type": "code",
   "execution_count": 35,
   "metadata": {},
   "outputs": [
    {
     "name": "stdout",
     "output_type": "stream",
     "text": [
      "100 LOAD_CONST\n",
      "0 <0>\n",
      "90 STORE_NAME\n",
      "0 <0>\n",
      "101 LOAD_NAME\n",
      "0 <0>\n",
      "90 STORE_NAME\n",
      "1 POP_TOP\n",
      "100 LOAD_CONST\n",
      "1 POP_TOP\n",
      "83 RETURN_VALUE\n",
      "0 <0>\n"
     ]
    },
    {
     "ename": "IndexError",
     "evalue": "index out of range",
     "output_type": "error",
     "traceback": [
      "\u001b[0;31m---------------------------------------------------------------------------\u001b[0m",
      "\u001b[0;31mIndexError\u001b[0m                                Traceback (most recent call last)",
      "\u001b[0;32m<ipython-input-35-a259b7ce0239>\u001b[0m in \u001b[0;36m<module>\u001b[0;34m\u001b[0m\n\u001b[1;32m     75\u001b[0m \u001b[0;34m\u001b[0m\u001b[0m\n\u001b[1;32m     76\u001b[0m \u001b[0mvm\u001b[0m \u001b[0;34m=\u001b[0m \u001b[0mVirtualMachine\u001b[0m\u001b[0;34m(\u001b[0m\u001b[0;34m)\u001b[0m\u001b[0;34m\u001b[0m\u001b[0;34m\u001b[0m\u001b[0m\n\u001b[0;32m---> 77\u001b[0;31m \u001b[0mvm\u001b[0m\u001b[0;34m.\u001b[0m\u001b[0mrun_code\u001b[0m\u001b[0;34m(\u001b[0m\u001b[0mcode\u001b[0m\u001b[0;34m)\u001b[0m\u001b[0;34m\u001b[0m\u001b[0;34m\u001b[0m\u001b[0m\n\u001b[0m\u001b[1;32m     78\u001b[0m \u001b[0;34m\u001b[0m\u001b[0m\n",
      "\u001b[0;32m<ipython-input-35-a259b7ce0239>\u001b[0m in \u001b[0;36mrun_code\u001b[0;34m(self, code, global_names, local_names)\u001b[0m\n\u001b[1;32m     11\u001b[0m                                 local_names=local_names)\n\u001b[1;32m     12\u001b[0m \u001b[0;34m\u001b[0m\u001b[0m\n\u001b[0;32m---> 13\u001b[0;31m         \u001b[0mself\u001b[0m\u001b[0;34m.\u001b[0m\u001b[0mrun_frame\u001b[0m\u001b[0;34m(\u001b[0m\u001b[0mframe\u001b[0m\u001b[0;34m)\u001b[0m\u001b[0;34m\u001b[0m\u001b[0;34m\u001b[0m\u001b[0m\n\u001b[0m\u001b[1;32m     14\u001b[0m \u001b[0;34m\u001b[0m\u001b[0m\n\u001b[1;32m     15\u001b[0m     \u001b[0;32mdef\u001b[0m \u001b[0mpush_frame\u001b[0m\u001b[0;34m(\u001b[0m\u001b[0mself\u001b[0m\u001b[0;34m,\u001b[0m \u001b[0mframe\u001b[0m\u001b[0;34m)\u001b[0m\u001b[0;34m:\u001b[0m\u001b[0;34m\u001b[0m\u001b[0;34m\u001b[0m\u001b[0m\n",
      "\u001b[0;32m<ipython-input-35-a259b7ce0239>\u001b[0m in \u001b[0;36mrun_frame\u001b[0;34m(self, frame)\u001b[0m\n\u001b[1;32m     42\u001b[0m         \u001b[0mself\u001b[0m\u001b[0;34m.\u001b[0m\u001b[0mpush_frame\u001b[0m\u001b[0;34m(\u001b[0m\u001b[0mframe\u001b[0m\u001b[0;34m)\u001b[0m\u001b[0;34m\u001b[0m\u001b[0;34m\u001b[0m\u001b[0m\n\u001b[1;32m     43\u001b[0m         \u001b[0;32mwhile\u001b[0m \u001b[0;36m1\u001b[0m\u001b[0;34m:\u001b[0m\u001b[0;34m\u001b[0m\u001b[0;34m\u001b[0m\u001b[0m\n\u001b[0;32m---> 44\u001b[0;31m             \u001b[0mbyte_name\u001b[0m\u001b[0;34m,\u001b[0m \u001b[0margs\u001b[0m \u001b[0;34m=\u001b[0m \u001b[0mself\u001b[0m\u001b[0;34m.\u001b[0m\u001b[0mparse_byte_and_args\u001b[0m\u001b[0;34m(\u001b[0m\u001b[0;34m)\u001b[0m\u001b[0;34m\u001b[0m\u001b[0;34m\u001b[0m\u001b[0m\n\u001b[0m\u001b[1;32m     45\u001b[0m \u001b[0;34m\u001b[0m\u001b[0m\n\u001b[1;32m     46\u001b[0m             \u001b[0mwhy\u001b[0m \u001b[0;34m=\u001b[0m \u001b[0mself\u001b[0m\u001b[0;34m.\u001b[0m\u001b[0mdispatch\u001b[0m\u001b[0;34m(\u001b[0m\u001b[0mbyte_name\u001b[0m\u001b[0;34m,\u001b[0m \u001b[0margs\u001b[0m\u001b[0;34m)\u001b[0m\u001b[0;34m\u001b[0m\u001b[0;34m\u001b[0m\u001b[0m\n",
      "\u001b[0;32m<ipython-input-35-a259b7ce0239>\u001b[0m in \u001b[0;36mparse_byte_and_args\u001b[0;34m(self)\u001b[0m\n\u001b[1;32m     27\u001b[0m         \u001b[0mf\u001b[0m \u001b[0;34m=\u001b[0m \u001b[0mself\u001b[0m\u001b[0;34m.\u001b[0m\u001b[0mframe\u001b[0m\u001b[0;34m\u001b[0m\u001b[0;34m\u001b[0m\u001b[0m\n\u001b[1;32m     28\u001b[0m         \u001b[0mpc\u001b[0m \u001b[0;34m=\u001b[0m\u001b[0mf\u001b[0m\u001b[0;34m.\u001b[0m\u001b[0mpc\u001b[0m\u001b[0;34m\u001b[0m\u001b[0;34m\u001b[0m\u001b[0m\n\u001b[0;32m---> 29\u001b[0;31m         \u001b[0mbyte_code\u001b[0m \u001b[0;34m=\u001b[0m \u001b[0mf\u001b[0m\u001b[0;34m.\u001b[0m\u001b[0mcode_obj\u001b[0m\u001b[0;34m.\u001b[0m\u001b[0mco_code\u001b[0m\u001b[0;34m[\u001b[0m\u001b[0mpc\u001b[0m\u001b[0;34m]\u001b[0m\u001b[0;34m\u001b[0m\u001b[0;34m\u001b[0m\u001b[0m\n\u001b[0m\u001b[1;32m     30\u001b[0m         \u001b[0mbyte_name\u001b[0m \u001b[0;34m=\u001b[0m \u001b[0mdis\u001b[0m\u001b[0;34m.\u001b[0m\u001b[0mopname\u001b[0m\u001b[0;34m[\u001b[0m\u001b[0mbyte_code\u001b[0m\u001b[0;34m]\u001b[0m\u001b[0;34m\u001b[0m\u001b[0;34m\u001b[0m\u001b[0m\n\u001b[1;32m     31\u001b[0m         \u001b[0mprint\u001b[0m\u001b[0;34m(\u001b[0m\u001b[0mbyte_code\u001b[0m\u001b[0;34m,\u001b[0m \u001b[0mbyte_name\u001b[0m\u001b[0;34m)\u001b[0m\u001b[0;34m\u001b[0m\u001b[0;34m\u001b[0m\u001b[0m\n",
      "\u001b[0;31mIndexError\u001b[0m: index out of range"
     ]
    }
   ],
   "source": [
    "class VirtualMachine(object):\n",
    "    def __init__(self):\n",
    "        self.frames = []\n",
    "        self.frame = None\n",
    "        self.return_value = None\n",
    "    \n",
    "    def run_code(self, code, global_names=None, local_names=None):\n",
    "        # make frame\n",
    "        frame = self.make_frame(code, \n",
    "                                global_names=global_names, \n",
    "                                local_names=local_names)\n",
    "        \n",
    "        self.run_frame(frame)\n",
    "        \n",
    "    def push_frame(self, frame):\n",
    "        self.frames.append(frame)\n",
    "        self.frame = frame\n",
    "    \n",
    "    def pop_frame(self):\n",
    "        self.frames.pop()\n",
    "        if self.frames:\n",
    "            self.frame = self.frames[-1]\n",
    "        else:\n",
    "            self.frame = None\n",
    "    \n",
    "    def parse_byte_and_args(self):\n",
    "        f = self.frame\n",
    "        pc =f.pc\n",
    "        byte_code = f.code_obj.co_code[pc]\n",
    "        byte_name = dis.opname[byte_code]\n",
    "        print(byte_code, byte_name)\n",
    "        \n",
    "        f.pc += 1\n",
    "        argument = []\n",
    "        return byte_name, argument\n",
    "    \n",
    "    def dispatch(self, byte_name, argument):\n",
    "        pass\n",
    "    \n",
    "    \n",
    "    def run_frame(self, frame):\n",
    "        self.push_frame(frame)\n",
    "        while 1:\n",
    "            byte_name, args = self.parse_byte_and_args()\n",
    "            \n",
    "            why = self.dispatch(byte_name, args)\n",
    "        \n",
    "            if why:\n",
    "                break # how to break?\n",
    "                \n",
    "        \n",
    "        self.pop_frame()\n",
    "        \n",
    "        return self.return_value\n",
    "    \n",
    "    def make_frame(self, code, callargs={}, global_names=None, local_names=None):\n",
    "        #local_names.update(callargs)\n",
    "        frame = Frame(code, global_names, local_names, self.frame)\n",
    "        return frame\n",
    "        \n",
    "class Frame(object):\n",
    "    def __init__(self, code_obj, global_names, local_names, prev_frame):\n",
    "        self.code_obj = code_obj\n",
    "        self.stack = []\n",
    "        self.pc = 0\n",
    "        self.prev_frame = prev_frame\n",
    "        \n",
    "\n",
    "code = \"\"\"\n",
    "a = 3\n",
    "b = a\n",
    "\"\"\"\n",
    "code = textwrap.dedent(code)\n",
    "code = compile(code, \"<123>\", \"exec\", 0, 1)\n",
    "\n",
    "vm = VirtualMachine()  \n",
    "vm.run_code(code)\n",
    "    "
   ]
  },
  {
   "cell_type": "code",
   "execution_count": 37,
   "metadata": {},
   "outputs": [
    {
     "name": "stdout",
     "output_type": "stream",
     "text": [
      "[100, 0, 90, 0, 101, 0, 90, 1, 100, 1, 83, 0]\n",
      "['LOAD_CONST', '<0>', 'STORE_NAME', '<0>', 'LOAD_NAME', '<0>', 'STORE_NAME', 'POP_TOP', 'LOAD_CONST', 'POP_TOP', 'RETURN_VALUE', '<0>']\n",
      "  2           0 LOAD_CONST               0 (3)\n",
      "              2 STORE_NAME               0 (a)\n",
      "\n",
      "  3           4 LOAD_NAME                0 (a)\n",
      "              6 STORE_NAME               1 (b)\n",
      "              8 LOAD_CONST               1 (None)\n",
      "             10 RETURN_VALUE\n"
     ]
    }
   ],
   "source": [
    "import textwrap\n",
    "\n",
    "code = \"\"\"\n",
    "a = 3\n",
    "b = a\n",
    "\"\"\"\n",
    "code = textwrap.dedent(code)\n",
    "code = compile(code, \"<123>\", \"exec\", 0, 1)\n",
    "print(list(code.co_code))\n",
    "\n",
    "print([dis.opname[op] for op in list(code.co_code)])\n",
    "\n",
    "dis.dis(code)"
   ]
  },
  {
   "cell_type": "code",
   "execution_count": null,
   "metadata": {},
   "outputs": [],
   "source": []
  }
 ],
 "metadata": {
  "kernelspec": {
   "display_name": "Python 3",
   "language": "python",
   "name": "python3"
  },
  "language_info": {
   "codemirror_mode": {
    "name": "ipython",
    "version": 3
   },
   "file_extension": ".py",
   "mimetype": "text/x-python",
   "name": "python",
   "nbconvert_exporter": "python",
   "pygments_lexer": "ipython3",
   "version": "3.7.5"
  }
 },
 "nbformat": 4,
 "nbformat_minor": 2
}
