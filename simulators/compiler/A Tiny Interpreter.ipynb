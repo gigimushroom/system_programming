{
 "cells": [
  {
   "cell_type": "markdown",
   "metadata": {},
   "source": [
    "The Python interpreter is a stack machine.\n",
    "\n",
    "The stack provides a clean way to keep track of the state of the interpreter.\n",
    "\n"
   ]
  },
  {
   "cell_type": "code",
   "execution_count": 3,
   "metadata": {},
   "outputs": [
    {
     "name": "stdout",
     "output_type": "stream",
     "text": [
      "12\n",
      "20\n"
     ]
    }
   ],
   "source": [
    "class Interpreter:\n",
    "    def __init__(self):\n",
    "        self.stack = []\n",
    "\n",
    "    def LOAD_VALUE(self, number):\n",
    "        self.stack.append(number)\n",
    "\n",
    "    def PRINT_ANSWER(self):\n",
    "        answer = self.stack.pop()\n",
    "        print(answer)\n",
    "\n",
    "    def ADD_TWO_VALUES(self):\n",
    "        first_num = self.stack.pop()\n",
    "        second_num = self.stack.pop()\n",
    "        total = first_num + second_num\n",
    "        self.stack.append(total)\n",
    "        \n",
    "    def run_code(self, what_to_execute):\n",
    "        instructions = what_to_execute[\"instructions\"]\n",
    "        numbers = what_to_execute[\"numbers\"]\n",
    "        for each_step in instructions:\n",
    "            instruction, argument = each_step\n",
    "            if instruction == \"LOAD_VALUE\":\n",
    "                number = numbers[argument]\n",
    "                self.LOAD_VALUE(number)\n",
    "            elif instruction == \"ADD_TWO_VALUES\":\n",
    "                self.ADD_TWO_VALUES()\n",
    "            elif instruction == \"PRINT_ANSWER\":\n",
    "                self.PRINT_ANSWER()\n",
    "\n",
    "what_to_execute = {\n",
    "    \"instructions\": [(\"LOAD_VALUE\", 0),  # the first number\n",
    "                     (\"LOAD_VALUE\", 1),  # the second number\n",
    "                     (\"ADD_TWO_VALUES\", None),\n",
    "                     (\"PRINT_ANSWER\", None)],\n",
    "    \"numbers\": [7, 5] }\n",
    "\n",
    "what_to_execute2 = {\n",
    "    \"instructions\": [(\"LOAD_VALUE\", 0),\n",
    "                     (\"LOAD_VALUE\", 1),\n",
    "                     (\"ADD_TWO_VALUES\", None),\n",
    "                     (\"LOAD_VALUE\", 2),\n",
    "                     (\"ADD_TWO_VALUES\", None),\n",
    "                     (\"PRINT_ANSWER\", None)],\n",
    "    \"numbers\": [7, 5, 8] }\n",
    "\n",
    "interpreter = Interpreter()\n",
    "\n",
    "interpreter.run_code(what_to_execute)\n",
    "interpreter.run_code(what_to_execute2)"
   ]
  },
  {
   "cell_type": "markdown",
   "metadata": {},
   "source": [
    "## Add Variables to our interpreter"
   ]
  },
  {
   "cell_type": "markdown",
   "metadata": {},
   "source": [
    "### 2 features:\n",
    "- Make use of Python's dynamic method lookup. We'll always define a method called FOO to execute the instruction called FOO, so we can use Python's getattr function to look up the method on the fly instead of using the big if statement.\n",
    "- Parse argument based on instruction type"
   ]
  },
  {
   "cell_type": "code",
   "execution_count": 10,
   "metadata": {},
   "outputs": [
    {
     "name": "stdout",
     "output_type": "stream",
     "text": [
      "6\n"
     ]
    }
   ],
   "source": [
    "class Interpreter:\n",
    "    def __init__(self):\n",
    "        self.stack = []\n",
    "        self.environment = {}\n",
    "    \n",
    "    def LOAD_VALUE(self, number):\n",
    "        self.stack.append(number)\n",
    "        \n",
    "    def PRINT_ANSWER(self):\n",
    "        answer = self.stack.pop()\n",
    "        print(answer)\n",
    "\n",
    "    def ADD_TWO_VALUES(self):\n",
    "        first_num = self.stack.pop()\n",
    "        second_num = self.stack.pop()\n",
    "        total = first_num + second_num\n",
    "        self.stack.append(total)\n",
    "        \n",
    "    def STORE_NAME(self, name):\n",
    "        val = self.stack.pop()\n",
    "        self.environment[name] = val\n",
    "\n",
    "    def LOAD_NAME(self, name):\n",
    "        val = self.environment[name]\n",
    "        self.stack.append(val)\n",
    "\n",
    "    def parse_argument(self, instruction, argument, what_to_execute):\n",
    "        \"\"\" Understand what the argument to each instruction means.\"\"\"\n",
    "        numbers = [\"LOAD_VALUE\"]\n",
    "        names = [\"LOAD_NAME\", \"STORE_NAME\"]\n",
    "\n",
    "        if instruction in numbers:\n",
    "            argument = what_to_execute[\"numbers\"][argument]\n",
    "        elif instruction in names:\n",
    "            argument = what_to_execute[\"names\"][argument]\n",
    "\n",
    "        return argument\n",
    "\n",
    "#     def run_code(self, what_to_execute):\n",
    "#         instructions = what_to_execute[\"instructions\"]\n",
    "#         for each_step in instructions:\n",
    "#             instruction, argument = each_step\n",
    "#             argument = self.parse_argument(instruction, argument, what_to_execute)\n",
    "\n",
    "#             if instruction == \"LOAD_VALUE\":\n",
    "#                 self.LOAD_VALUE(argument)\n",
    "#             elif instruction == \"ADD_TWO_VALUES\":\n",
    "#                 self.ADD_TWO_VALUES()\n",
    "#             elif instruction == \"PRINT_ANSWER\":\n",
    "#                 self.PRINT_ANSWER()\n",
    "#             elif instruction == \"STORE_NAME\":\n",
    "#                 self.STORE_NAME(argument)\n",
    "#             elif instruction == \"LOAD_NAME\":\n",
    "#                 self.LOAD_NAME(argument)\n",
    "                \n",
    "    def execute(self, what_to_execute):\n",
    "        instructions = what_to_execute[\"instructions\"]\n",
    "        for each_step in instructions:\n",
    "            instruction, argument = each_step\n",
    "            argument = self.parse_argument(instruction, argument, what_to_execute)\n",
    "            bytecode_method = getattr(self, instruction)\n",
    "            if argument is None:\n",
    "                bytecode_method()\n",
    "            else:\n",
    "                bytecode_method(argument)\n",
    "\n",
    "\"\"\"\n",
    "s() is compiled to following instructions.\n",
    "\n",
    ">>> def s():\n",
    "...     a = 1\n",
    "...     b = 2\n",
    "...     print(a + b)\n",
    "\"\"\"\n",
    "what_to_execute = {\n",
    "        \"instructions\": [(\"LOAD_VALUE\", 0),\n",
    "                         (\"STORE_NAME\", 0),\n",
    "                         (\"LOAD_VALUE\", 1),\n",
    "                         (\"STORE_NAME\", 1),\n",
    "                         (\"LOAD_NAME\", 0),\n",
    "                         (\"LOAD_NAME\", 1),\n",
    "                         (\"ADD_TWO_VALUES\", None),\n",
    "                         (\"PRINT_ANSWER\", None)],\n",
    "        \"numbers\": [1, 5],\n",
    "        \"names\":   [\"a\", \"b\"] }\n",
    "\n",
    "interpreter = Interpreter()\n",
    "\n",
    "interpreter.execute(what_to_execute)"
   ]
  },
  {
   "cell_type": "code",
   "execution_count": null,
   "metadata": {},
   "outputs": [],
   "source": []
  },
  {
   "cell_type": "code",
   "execution_count": null,
   "metadata": {},
   "outputs": [],
   "source": []
  }
 ],
 "metadata": {
  "kernelspec": {
   "display_name": "Python 2",
   "language": "python",
   "name": "python2"
  },
  "language_info": {
   "codemirror_mode": {
    "name": "ipython",
    "version": 2
   },
   "file_extension": ".py",
   "mimetype": "text/x-python",
   "name": "python",
   "nbconvert_exporter": "python",
   "pygments_lexer": "ipython2",
   "version": "2.7.15"
  }
 },
 "nbformat": 4,
 "nbformat_minor": 2
}
